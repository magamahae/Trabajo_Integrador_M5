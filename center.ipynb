{
 "cells": [
  {
   "cell_type": "code",
   "execution_count": 4,
   "metadata": {},
   "outputs": [],
   "source": [
    "import pandas as pd\n",
    "import numpy as np\n",
    "import seaborn as sns\n",
    "import matplotlib.pyplot as plt\n",
    "import warnings\n",
    "warnings.filterwarnings('ignore')"
   ]
  },
  {
   "cell_type": "markdown",
   "metadata": {},
   "source": [
    "# <center>  ETL </br>\n",
    "#  <center> -- Extraer, Transformar y Cargar --</center>"
   ]
  },
  {
   "cell_type": "markdown",
   "metadata": {},
   "source": [
    "## 1) Carga de los datos"
   ]
  },
  {
   "cell_type": "code",
   "execution_count": 5,
   "metadata": {},
   "outputs": [],
   "source": [
    "df_center = pd.read_csv('Call_Center_1999_DataSet.csv', sep=';')\n",
    "df_center"
   ]
  },
  {
   "cell_type": "markdown",
   "metadata": {},
   "source": [
    "# - Información de los campos"
   ]
  },
  {
   "cell_type": "code",
   "execution_count": 17,
   "metadata": {},
   "outputs": [
    {
     "name": "stdout",
     "output_type": "stream",
     "text": [
      "<class 'pandas.core.frame.DataFrame'>\n",
      "RangeIndex: 444448 entries, 0 to 444447\n",
      "Data columns (total 18 columns):\n",
      " #   Column       Non-Null Count   Dtype \n",
      "---  ------       --------------   ----- \n",
      " 0   vru.line     444448 non-null  object\n",
      " 1   call_id      444448 non-null  int64 \n",
      " 2   customer_id  444448 non-null  object\n",
      " 3   priority     444448 non-null  int64 \n",
      " 4   type         444448 non-null  object\n",
      " 5   date         444448 non-null  object\n",
      " 6   vru_entry    444448 non-null  object\n",
      " 7   vru_exit     444448 non-null  object\n",
      " 8   vru_time     444448 non-null  int64 \n",
      " 9   q_start      444448 non-null  object\n",
      " 10  q_exit       444448 non-null  object\n",
      " 11  q_time       444448 non-null  int64 \n",
      " 12  outcome      444448 non-null  object\n",
      " 13  ser_start    444448 non-null  object\n",
      " 14  ser_exit     444448 non-null  object\n",
      " 15  ser_time     444448 non-null  int64 \n",
      " 16  server       444448 non-null  object\n",
      " 17  startdate    444448 non-null  int64 \n",
      "dtypes: int64(6), object(12)\n",
      "memory usage: 61.0+ MB\n"
     ]
    }
   ],
   "source": [
    "df_center.info()"
   ]
  },
  {
   "cell_type": "markdown",
   "metadata": {},
   "source": [
    "### -- no hay nulos --"
   ]
  },
  {
   "cell_type": "markdown",
   "metadata": {},
   "source": [
    "# - Cantidad de filas y columnas"
   ]
  },
  {
   "cell_type": "code",
   "execution_count": 170,
   "metadata": {},
   "outputs": [
    {
     "data": {
      "text/plain": [
       "(444448, 18)"
      ]
     },
     "execution_count": 170,
     "metadata": {},
     "output_type": "execute_result"
    }
   ],
   "source": [
    "df_center.shape"
   ]
  },
  {
   "cell_type": "code",
   "execution_count": 15,
   "metadata": {},
   "outputs": [
    {
     "data": {
      "text/html": [
       "<div>\n",
       "<style scoped>\n",
       "    .dataframe tbody tr th:only-of-type {\n",
       "        vertical-align: middle;\n",
       "    }\n",
       "\n",
       "    .dataframe tbody tr th {\n",
       "        vertical-align: top;\n",
       "    }\n",
       "\n",
       "    .dataframe thead th {\n",
       "        text-align: right;\n",
       "    }\n",
       "</style>\n",
       "<table border=\"1\" class=\"dataframe\">\n",
       "  <thead>\n",
       "    <tr style=\"text-align: right;\">\n",
       "      <th></th>\n",
       "      <th>vru.line</th>\n",
       "      <th>call_id</th>\n",
       "      <th>customer_id</th>\n",
       "      <th>priority</th>\n",
       "      <th>type</th>\n",
       "      <th>date</th>\n",
       "      <th>vru_entry</th>\n",
       "      <th>vru_exit</th>\n",
       "      <th>vru_time</th>\n",
       "      <th>q_start</th>\n",
       "      <th>q_exit</th>\n",
       "      <th>q_time</th>\n",
       "      <th>outcome</th>\n",
       "      <th>ser_start</th>\n",
       "      <th>ser_exit</th>\n",
       "      <th>ser_time</th>\n",
       "      <th>server</th>\n",
       "      <th>startdate</th>\n",
       "    </tr>\n",
       "  </thead>\n",
       "  <tbody>\n",
       "    <tr>\n",
       "      <th>0</th>\n",
       "      <td>AA0101</td>\n",
       "      <td>33116</td>\n",
       "      <td>9664491.0</td>\n",
       "      <td>2</td>\n",
       "      <td>PS</td>\n",
       "      <td>1999-01-01</td>\n",
       "      <td>1900-01-01 00:00:31</td>\n",
       "      <td>1900-01-01 00:00:36</td>\n",
       "      <td>5</td>\n",
       "      <td>1900-01-01 00:00:36</td>\n",
       "      <td>1900-01-01 00:03:09</td>\n",
       "      <td>153</td>\n",
       "      <td>HANG</td>\n",
       "      <td>1900-01-01 00:00:00</td>\n",
       "      <td>1900-01-01 00:00:00</td>\n",
       "      <td>0</td>\n",
       "      <td>NO_SERVER</td>\n",
       "      <td>0</td>\n",
       "    </tr>\n",
       "    <tr>\n",
       "      <th>1</th>\n",
       "      <td>AA0101</td>\n",
       "      <td>33117</td>\n",
       "      <td>0.0</td>\n",
       "      <td>0</td>\n",
       "      <td>PS</td>\n",
       "      <td>1999-01-01</td>\n",
       "      <td>1900-01-01 00:34:12</td>\n",
       "      <td>1900-01-01 00:34:23</td>\n",
       "      <td>11</td>\n",
       "      <td>1900-01-01 00:00:00</td>\n",
       "      <td>1900-01-01 00:00:00</td>\n",
       "      <td>0</td>\n",
       "      <td>HANG</td>\n",
       "      <td>1900-01-01 00:00:00</td>\n",
       "      <td>1900-01-01 00:00:00</td>\n",
       "      <td>0</td>\n",
       "      <td>NO_SERVER</td>\n",
       "      <td>0</td>\n",
       "    </tr>\n",
       "    <tr>\n",
       "      <th>2</th>\n",
       "      <td>AA0101</td>\n",
       "      <td>33118</td>\n",
       "      <td>27997683.0</td>\n",
       "      <td>2</td>\n",
       "      <td>PS</td>\n",
       "      <td>1999-01-01</td>\n",
       "      <td>1900-01-01 06:55:20</td>\n",
       "      <td>1900-01-01 06:55:26</td>\n",
       "      <td>6</td>\n",
       "      <td>1900-01-01 06:55:26</td>\n",
       "      <td>1900-01-01 06:55:43</td>\n",
       "      <td>17</td>\n",
       "      <td>AGENT</td>\n",
       "      <td>1900-01-01 06:55:43</td>\n",
       "      <td>1900-01-01 06:56:37</td>\n",
       "      <td>54</td>\n",
       "      <td>MICHAL</td>\n",
       "      <td>0</td>\n",
       "    </tr>\n",
       "    <tr>\n",
       "      <th>3</th>\n",
       "      <td>AA0101</td>\n",
       "      <td>33119</td>\n",
       "      <td>0.0</td>\n",
       "      <td>0</td>\n",
       "      <td>PS</td>\n",
       "      <td>1999-01-01</td>\n",
       "      <td>1900-01-01 07:41:16</td>\n",
       "      <td>1900-01-01 07:41:26</td>\n",
       "      <td>10</td>\n",
       "      <td>1900-01-01 00:00:00</td>\n",
       "      <td>1900-01-01 00:00:00</td>\n",
       "      <td>0</td>\n",
       "      <td>AGENT</td>\n",
       "      <td>1900-01-01 07:41:25</td>\n",
       "      <td>1900-01-01 07:44:53</td>\n",
       "      <td>208</td>\n",
       "      <td>BASCH</td>\n",
       "      <td>0</td>\n",
       "    </tr>\n",
       "    <tr>\n",
       "      <th>4</th>\n",
       "      <td>AA0101</td>\n",
       "      <td>33120</td>\n",
       "      <td>0.0</td>\n",
       "      <td>0</td>\n",
       "      <td>PS</td>\n",
       "      <td>1999-01-01</td>\n",
       "      <td>1900-01-01 08:03:14</td>\n",
       "      <td>1900-01-01 08:03:24</td>\n",
       "      <td>10</td>\n",
       "      <td>1900-01-01 00:00:00</td>\n",
       "      <td>1900-01-01 00:00:00</td>\n",
       "      <td>0</td>\n",
       "      <td>AGENT</td>\n",
       "      <td>1900-01-01 08:03:23</td>\n",
       "      <td>1900-01-01 08:05:10</td>\n",
       "      <td>107</td>\n",
       "      <td>MICHAL</td>\n",
       "      <td>0</td>\n",
       "    </tr>\n",
       "    <tr>\n",
       "      <th>...</th>\n",
       "      <td>...</td>\n",
       "      <td>...</td>\n",
       "      <td>...</td>\n",
       "      <td>...</td>\n",
       "      <td>...</td>\n",
       "      <td>...</td>\n",
       "      <td>...</td>\n",
       "      <td>...</td>\n",
       "      <td>...</td>\n",
       "      <td>...</td>\n",
       "      <td>...</td>\n",
       "      <td>...</td>\n",
       "      <td>...</td>\n",
       "      <td>...</td>\n",
       "      <td>...</td>\n",
       "      <td>...</td>\n",
       "      <td>...</td>\n",
       "      <td>...</td>\n",
       "    </tr>\n",
       "    <tr>\n",
       "      <th>444443</th>\n",
       "      <td>AA0216</td>\n",
       "      <td>17211</td>\n",
       "      <td>0.0</td>\n",
       "      <td>0</td>\n",
       "      <td>IN</td>\n",
       "      <td>1999-12-31</td>\n",
       "      <td>1900-01-01 13:46:51</td>\n",
       "      <td>1900-01-01 13:47:04</td>\n",
       "      <td>13</td>\n",
       "      <td>1900-01-01 00:00:00</td>\n",
       "      <td>1900-01-01 00:00:00</td>\n",
       "      <td>0</td>\n",
       "      <td>AGENT</td>\n",
       "      <td>1900-01-01 13:47:03</td>\n",
       "      <td>1900-01-01 13:56:16</td>\n",
       "      <td>553</td>\n",
       "      <td>Z2ELINOR</td>\n",
       "      <td>334</td>\n",
       "    </tr>\n",
       "    <tr>\n",
       "      <th>444444</th>\n",
       "      <td>AA0216</td>\n",
       "      <td>17212</td>\n",
       "      <td>0.0</td>\n",
       "      <td>0</td>\n",
       "      <td>IN</td>\n",
       "      <td>1999-12-31</td>\n",
       "      <td>1900-01-01 13:58:31</td>\n",
       "      <td>1900-01-01 13:58:40</td>\n",
       "      <td>9</td>\n",
       "      <td>1900-01-01 13:58:40</td>\n",
       "      <td>1900-01-01 13:59:49</td>\n",
       "      <td>69</td>\n",
       "      <td>HANG</td>\n",
       "      <td>1900-01-01 00:00:00</td>\n",
       "      <td>1900-01-01 00:00:00</td>\n",
       "      <td>0</td>\n",
       "      <td>NO_SERVER</td>\n",
       "      <td>334</td>\n",
       "    </tr>\n",
       "    <tr>\n",
       "      <th>444445</th>\n",
       "      <td>AA0216</td>\n",
       "      <td>17213</td>\n",
       "      <td>0.0</td>\n",
       "      <td>0</td>\n",
       "      <td>IN</td>\n",
       "      <td>1999-12-31</td>\n",
       "      <td>1900-01-01 17:10:51</td>\n",
       "      <td>1900-01-01 17:11:12</td>\n",
       "      <td>21</td>\n",
       "      <td>1900-01-01 00:00:00</td>\n",
       "      <td>1900-01-01 00:00:00</td>\n",
       "      <td>0</td>\n",
       "      <td>HANG</td>\n",
       "      <td>1900-01-01 00:00:00</td>\n",
       "      <td>1900-01-01 00:00:00</td>\n",
       "      <td>0</td>\n",
       "      <td>NO_SERVER</td>\n",
       "      <td>334</td>\n",
       "    </tr>\n",
       "    <tr>\n",
       "      <th>444446</th>\n",
       "      <td>AA0216</td>\n",
       "      <td>17214</td>\n",
       "      <td>0.0</td>\n",
       "      <td>0</td>\n",
       "      <td>IN</td>\n",
       "      <td>1999-12-31</td>\n",
       "      <td>1900-01-01 18:30:19</td>\n",
       "      <td>1900-01-01 18:30:54</td>\n",
       "      <td>35</td>\n",
       "      <td>1900-01-01 00:00:00</td>\n",
       "      <td>1900-01-01 00:00:00</td>\n",
       "      <td>0</td>\n",
       "      <td>HANG</td>\n",
       "      <td>1900-01-01 00:00:00</td>\n",
       "      <td>1900-01-01 00:00:00</td>\n",
       "      <td>0</td>\n",
       "      <td>NO_SERVER</td>\n",
       "      <td>334</td>\n",
       "    </tr>\n",
       "    <tr>\n",
       "      <th>444447</th>\n",
       "      <td>AA0216</td>\n",
       "      <td>17215</td>\n",
       "      <td>0.0</td>\n",
       "      <td>0</td>\n",
       "      <td>IN</td>\n",
       "      <td>1999-12-31</td>\n",
       "      <td>1900-01-01 22:23:35</td>\n",
       "      <td>1900-01-01 22:23:45</td>\n",
       "      <td>10</td>\n",
       "      <td>1900-01-01 00:00:00</td>\n",
       "      <td>1900-01-01 00:00:00</td>\n",
       "      <td>0</td>\n",
       "      <td>HANG</td>\n",
       "      <td>1900-01-01 00:00:00</td>\n",
       "      <td>1900-01-01 00:00:00</td>\n",
       "      <td>0</td>\n",
       "      <td>NO_SERVER</td>\n",
       "      <td>334</td>\n",
       "    </tr>\n",
       "  </tbody>\n",
       "</table>\n",
       "<p>444448 rows × 18 columns</p>\n",
       "</div>"
      ],
      "text/plain": [
       "       vru.line call_id customer_id priority type       date  \\\n",
       "0        AA0101   33116   9664491.0        2   PS 1999-01-01   \n",
       "1        AA0101   33117         0.0        0   PS 1999-01-01   \n",
       "2        AA0101   33118  27997683.0        2   PS 1999-01-01   \n",
       "3        AA0101   33119         0.0        0   PS 1999-01-01   \n",
       "4        AA0101   33120         0.0        0   PS 1999-01-01   \n",
       "...         ...     ...         ...      ...  ...        ...   \n",
       "444443   AA0216   17211         0.0        0   IN 1999-12-31   \n",
       "444444   AA0216   17212         0.0        0   IN 1999-12-31   \n",
       "444445   AA0216   17213         0.0        0   IN 1999-12-31   \n",
       "444446   AA0216   17214         0.0        0   IN 1999-12-31   \n",
       "444447   AA0216   17215         0.0        0   IN 1999-12-31   \n",
       "\n",
       "                 vru_entry            vru_exit  vru_time             q_start  \\\n",
       "0      1900-01-01 00:00:31 1900-01-01 00:00:36         5 1900-01-01 00:00:36   \n",
       "1      1900-01-01 00:34:12 1900-01-01 00:34:23        11 1900-01-01 00:00:00   \n",
       "2      1900-01-01 06:55:20 1900-01-01 06:55:26         6 1900-01-01 06:55:26   \n",
       "3      1900-01-01 07:41:16 1900-01-01 07:41:26        10 1900-01-01 00:00:00   \n",
       "4      1900-01-01 08:03:14 1900-01-01 08:03:24        10 1900-01-01 00:00:00   \n",
       "...                    ...                 ...       ...                 ...   \n",
       "444443 1900-01-01 13:46:51 1900-01-01 13:47:04        13 1900-01-01 00:00:00   \n",
       "444444 1900-01-01 13:58:31 1900-01-01 13:58:40         9 1900-01-01 13:58:40   \n",
       "444445 1900-01-01 17:10:51 1900-01-01 17:11:12        21 1900-01-01 00:00:00   \n",
       "444446 1900-01-01 18:30:19 1900-01-01 18:30:54        35 1900-01-01 00:00:00   \n",
       "444447 1900-01-01 22:23:35 1900-01-01 22:23:45        10 1900-01-01 00:00:00   \n",
       "\n",
       "                    q_exit  q_time outcome           ser_start  \\\n",
       "0      1900-01-01 00:03:09     153    HANG 1900-01-01 00:00:00   \n",
       "1      1900-01-01 00:00:00       0    HANG 1900-01-01 00:00:00   \n",
       "2      1900-01-01 06:55:43      17   AGENT 1900-01-01 06:55:43   \n",
       "3      1900-01-01 00:00:00       0   AGENT 1900-01-01 07:41:25   \n",
       "4      1900-01-01 00:00:00       0   AGENT 1900-01-01 08:03:23   \n",
       "...                    ...     ...     ...                 ...   \n",
       "444443 1900-01-01 00:00:00       0   AGENT 1900-01-01 13:47:03   \n",
       "444444 1900-01-01 13:59:49      69    HANG 1900-01-01 00:00:00   \n",
       "444445 1900-01-01 00:00:00       0    HANG 1900-01-01 00:00:00   \n",
       "444446 1900-01-01 00:00:00       0    HANG 1900-01-01 00:00:00   \n",
       "444447 1900-01-01 00:00:00       0    HANG 1900-01-01 00:00:00   \n",
       "\n",
       "                  ser_exit  ser_time     server  startdate  \n",
       "0      1900-01-01 00:00:00         0  NO_SERVER          0  \n",
       "1      1900-01-01 00:00:00         0  NO_SERVER          0  \n",
       "2      1900-01-01 06:56:37        54     MICHAL          0  \n",
       "3      1900-01-01 07:44:53       208      BASCH          0  \n",
       "4      1900-01-01 08:05:10       107     MICHAL          0  \n",
       "...                    ...       ...        ...        ...  \n",
       "444443 1900-01-01 13:56:16       553   Z2ELINOR        334  \n",
       "444444 1900-01-01 00:00:00         0  NO_SERVER        334  \n",
       "444445 1900-01-01 00:00:00         0  NO_SERVER        334  \n",
       "444446 1900-01-01 00:00:00         0  NO_SERVER        334  \n",
       "444447 1900-01-01 00:00:00         0  NO_SERVER        334  \n",
       "\n",
       "[444448 rows x 18 columns]"
      ]
     },
     "execution_count": 15,
     "metadata": {},
     "output_type": "execute_result"
    }
   ],
   "source": [
    "df_center"
   ]
  },
  {
   "cell_type": "markdown",
   "metadata": {},
   "source": [
    "# 2) Transformación de los tipo de datos"
   ]
  },
  {
   "cell_type": "markdown",
   "metadata": {},
   "source": [
    "### - Clasificación de los datos según su tipo para su Analisis posterior"
   ]
  },
  {
   "cell_type": "code",
   "execution_count": 6,
   "metadata": {},
   "outputs": [],
   "source": [
    "date_fomat = '%Y-%m-%d %H:%M:%S'\n",
    "\n",
    "df_center['vru.line']  =df_center['vru.line'].astype('str')\n",
    "df_center['call_id']   =df_center['call_id'].astype('str')\n",
    "df_center['priority']  =df_center['priority'].astype('category')\n",
    "df_center['type']      =df_center['type'].astype('category')\n",
    "df_center['date']      =pd.to_datetime(df_center['date'])\n",
    "df_center['vru_entry'] = pd.to_datetime(df_center['vru_entry'])\n",
    "df_center['vru_exit']  =pd.to_datetime(df_center['vru_exit'])\n",
    "df_center['q_start']   =pd.to_datetime(df_center['q_start'])\n",
    "df_center['q_exit']    =pd.to_datetime(df_center['q_exit'])\n",
    "df_center['outcome']   =df_center['outcome'].astype('category')\n",
    "df_center['ser_start'] =pd.to_datetime(df_center['ser_start'])\n",
    "df_center['ser_exit']  =pd.to_datetime(df_center['ser_exit'])\n",
    "\n",
    "df_center['server']    =df_center['server'].astype('category')"
   ]
  },
  {
   "cell_type": "code",
   "execution_count": 7,
   "metadata": {},
   "outputs": [
    {
     "name": "stdout",
     "output_type": "stream",
     "text": [
      "<class 'pandas.core.frame.DataFrame'>\n",
      "RangeIndex: 444448 entries, 0 to 444447\n",
      "Data columns (total 18 columns):\n",
      " #   Column       Non-Null Count   Dtype         \n",
      "---  ------       --------------   -----         \n",
      " 0   vru.line     444448 non-null  object        \n",
      " 1   call_id      444448 non-null  object        \n",
      " 2   customer_id  444448 non-null  object        \n",
      " 3   priority     444448 non-null  category      \n",
      " 4   type         444448 non-null  category      \n",
      " 5   date         444448 non-null  datetime64[ns]\n",
      " 6   vru_entry    444448 non-null  datetime64[ns]\n",
      " 7   vru_exit     444448 non-null  datetime64[ns]\n",
      " 8   vru_time     444448 non-null  int64         \n",
      " 9   q_start      444448 non-null  datetime64[ns]\n",
      " 10  q_exit       444448 non-null  datetime64[ns]\n",
      " 11  q_time       444448 non-null  int64         \n",
      " 12  outcome      444448 non-null  category      \n",
      " 13  ser_start    444448 non-null  datetime64[ns]\n",
      " 14  ser_exit     444448 non-null  datetime64[ns]\n",
      " 15  ser_time     444448 non-null  int64         \n",
      " 16  server       444448 non-null  category      \n",
      " 17  startdate    444448 non-null  int64         \n",
      "dtypes: category(4), datetime64[ns](7), int64(4), object(3)\n",
      "memory usage: 49.2+ MB\n"
     ]
    }
   ],
   "source": [
    "df_center.info()"
   ]
  },
  {
   "cell_type": "markdown",
   "metadata": {},
   "source": [
    "## - Observación de las variables"
   ]
  },
  {
   "cell_type": "code",
   "execution_count": 173,
   "metadata": {},
   "outputs": [
    {
     "data": {
      "text/html": [
       "<div>\n",
       "<style scoped>\n",
       "    .dataframe tbody tr th:only-of-type {\n",
       "        vertical-align: middle;\n",
       "    }\n",
       "\n",
       "    .dataframe tbody tr th {\n",
       "        vertical-align: top;\n",
       "    }\n",
       "\n",
       "    .dataframe thead th {\n",
       "        text-align: right;\n",
       "    }\n",
       "</style>\n",
       "<table border=\"1\" class=\"dataframe\">\n",
       "  <thead>\n",
       "    <tr style=\"text-align: right;\">\n",
       "      <th></th>\n",
       "      <th>vru.line</th>\n",
       "      <th>call_id</th>\n",
       "      <th>customer_id</th>\n",
       "      <th>priority</th>\n",
       "      <th>type</th>\n",
       "      <th>outcome</th>\n",
       "      <th>server</th>\n",
       "    </tr>\n",
       "  </thead>\n",
       "  <tbody>\n",
       "    <tr>\n",
       "      <th>count</th>\n",
       "      <td>444448</td>\n",
       "      <td>444448</td>\n",
       "      <td>444448.0</td>\n",
       "      <td>444448</td>\n",
       "      <td>444448</td>\n",
       "      <td>444448</td>\n",
       "      <td>444448</td>\n",
       "    </tr>\n",
       "    <tr>\n",
       "      <th>unique</th>\n",
       "      <td>30</td>\n",
       "      <td>54471</td>\n",
       "      <td>19048.0</td>\n",
       "      <td>3</td>\n",
       "      <td>8</td>\n",
       "      <td>3</td>\n",
       "      <td>53</td>\n",
       "    </tr>\n",
       "    <tr>\n",
       "      <th>top</th>\n",
       "      <td>AA0209</td>\n",
       "      <td>37585</td>\n",
       "      <td>0.0</td>\n",
       "      <td>0</td>\n",
       "      <td>PS</td>\n",
       "      <td>AGENT</td>\n",
       "      <td>NO_SERVER</td>\n",
       "    </tr>\n",
       "    <tr>\n",
       "      <th>freq</th>\n",
       "      <td>21423</td>\n",
       "      <td>16</td>\n",
       "      <td>178572.0</td>\n",
       "      <td>235168</td>\n",
       "      <td>302522</td>\n",
       "      <td>353143</td>\n",
       "      <td>96511</td>\n",
       "    </tr>\n",
       "  </tbody>\n",
       "</table>\n",
       "</div>"
      ],
      "text/plain": [
       "       vru.line call_id  customer_id  priority    type outcome     server\n",
       "count    444448  444448     444448.0    444448  444448  444448     444448\n",
       "unique       30   54471      19048.0         3       8       3         53\n",
       "top      AA0209   37585          0.0         0      PS   AGENT  NO_SERVER\n",
       "freq      21423      16     178572.0    235168  302522  353143      96511"
      ]
     },
     "execution_count": 173,
     "metadata": {},
     "output_type": "execute_result"
    }
   ],
   "source": [
    "df_center.describe(include=['category', 'object'])"
   ]
  },
  {
   "cell_type": "code",
   "execution_count": 13,
   "metadata": {},
   "outputs": [
    {
     "data": {
      "text/html": [
       "<div>\n",
       "<style scoped>\n",
       "    .dataframe tbody tr th:only-of-type {\n",
       "        vertical-align: middle;\n",
       "    }\n",
       "\n",
       "    .dataframe tbody tr th {\n",
       "        vertical-align: top;\n",
       "    }\n",
       "\n",
       "    .dataframe thead th {\n",
       "        text-align: right;\n",
       "    }\n",
       "</style>\n",
       "<table border=\"1\" class=\"dataframe\">\n",
       "  <thead>\n",
       "    <tr style=\"text-align: right;\">\n",
       "      <th></th>\n",
       "      <th>date</th>\n",
       "      <th>vru_entry</th>\n",
       "      <th>vru_exit</th>\n",
       "      <th>vru_time</th>\n",
       "      <th>q_start</th>\n",
       "      <th>q_exit</th>\n",
       "      <th>q_time</th>\n",
       "      <th>ser_start</th>\n",
       "      <th>ser_exit</th>\n",
       "      <th>ser_time</th>\n",
       "      <th>startdate</th>\n",
       "    </tr>\n",
       "  </thead>\n",
       "  <tbody>\n",
       "    <tr>\n",
       "      <th>count</th>\n",
       "      <td>444448</td>\n",
       "      <td>444448</td>\n",
       "      <td>444448</td>\n",
       "      <td>444448.000000</td>\n",
       "      <td>444448</td>\n",
       "      <td>444448</td>\n",
       "      <td>444448.000000</td>\n",
       "      <td>444448</td>\n",
       "      <td>444448</td>\n",
       "      <td>444448.000000</td>\n",
       "      <td>444448.000000</td>\n",
       "    </tr>\n",
       "    <tr>\n",
       "      <th>mean</th>\n",
       "      <td>1999-07-06 09:55:09.633522944</td>\n",
       "      <td>1900-01-01 14:27:15.241546240</td>\n",
       "      <td>1900-01-01 14:27:25.527627008</td>\n",
       "      <td>10.286081</td>\n",
       "      <td>1900-01-01 08:29:01.435895040</td>\n",
       "      <td>1900-01-01 08:29:48.776293632</td>\n",
       "      <td>59.004304</td>\n",
       "      <td>1900-01-01 11:43:11.602028032</td>\n",
       "      <td>1900-01-01 11:44:47.382784</td>\n",
       "      <td>152.561776</td>\n",
       "      <td>172.333974</td>\n",
       "    </tr>\n",
       "    <tr>\n",
       "      <th>min</th>\n",
       "      <td>1999-01-01 00:00:00</td>\n",
       "      <td>1900-01-01 00:00:01</td>\n",
       "      <td>1900-01-01 00:00:08</td>\n",
       "      <td>-362.000000</td>\n",
       "      <td>1900-01-01 00:00:00</td>\n",
       "      <td>1900-01-01 00:00:00</td>\n",
       "      <td>0.000000</td>\n",
       "      <td>1900-01-01 00:00:00</td>\n",
       "      <td>1900-01-01 00:00:00</td>\n",
       "      <td>0.000000</td>\n",
       "      <td>0.000000</td>\n",
       "    </tr>\n",
       "    <tr>\n",
       "      <th>25%</th>\n",
       "      <td>1999-04-11 00:00:00</td>\n",
       "      <td>1900-01-01 10:45:42</td>\n",
       "      <td>1900-01-01 10:45:51</td>\n",
       "      <td>6.000000</td>\n",
       "      <td>1900-01-01 00:00:00</td>\n",
       "      <td>1900-01-01 00:00:00</td>\n",
       "      <td>0.000000</td>\n",
       "      <td>1900-01-01 08:37:01</td>\n",
       "      <td>1900-01-01 08:38:59</td>\n",
       "      <td>12.000000</td>\n",
       "      <td>90.000000</td>\n",
       "    </tr>\n",
       "    <tr>\n",
       "      <th>50%</th>\n",
       "      <td>1999-07-06 00:00:00</td>\n",
       "      <td>1900-01-01 14:03:55</td>\n",
       "      <td>1900-01-01 14:04:06</td>\n",
       "      <td>8.000000</td>\n",
       "      <td>1900-01-01 10:01:48</td>\n",
       "      <td>1900-01-01 10:03:29</td>\n",
       "      <td>16.000000</td>\n",
       "      <td>1900-01-01 12:23:49</td>\n",
       "      <td>1900-01-01 12:26:31</td>\n",
       "      <td>84.000000</td>\n",
       "      <td>181.000000</td>\n",
       "    </tr>\n",
       "    <tr>\n",
       "      <th>75%</th>\n",
       "      <td>1999-10-07 00:00:00</td>\n",
       "      <td>1900-01-01 17:43:51</td>\n",
       "      <td>1900-01-01 17:44:01</td>\n",
       "      <td>10.000000</td>\n",
       "      <td>1900-01-01 14:57:19.249999872</td>\n",
       "      <td>1900-01-01 14:59:05</td>\n",
       "      <td>79.000000</td>\n",
       "      <td>1900-01-01 16:50:35</td>\n",
       "      <td>1900-01-01 16:52:39.249999872</td>\n",
       "      <td>185.000000</td>\n",
       "      <td>273.000000</td>\n",
       "    </tr>\n",
       "    <tr>\n",
       "      <th>max</th>\n",
       "      <td>1999-12-31 00:00:00</td>\n",
       "      <td>1900-01-01 23:59:58</td>\n",
       "      <td>1900-01-01 23:59:59</td>\n",
       "      <td>4832.000000</td>\n",
       "      <td>1900-01-01 23:59:59</td>\n",
       "      <td>1900-01-01 23:59:59</td>\n",
       "      <td>28693.000000</td>\n",
       "      <td>1900-01-01 23:59:58</td>\n",
       "      <td>1900-01-01 23:59:59</td>\n",
       "      <td>61437.000000</td>\n",
       "      <td>334.000000</td>\n",
       "    </tr>\n",
       "    <tr>\n",
       "      <th>std</th>\n",
       "      <td>NaN</td>\n",
       "      <td>NaN</td>\n",
       "      <td>NaN</td>\n",
       "      <td>34.942136</td>\n",
       "      <td>NaN</td>\n",
       "      <td>NaN</td>\n",
       "      <td>119.470328</td>\n",
       "      <td>NaN</td>\n",
       "      <td>NaN</td>\n",
       "      <td>282.372761</td>\n",
       "      <td>104.559247</td>\n",
       "    </tr>\n",
       "  </tbody>\n",
       "</table>\n",
       "</div>"
      ],
      "text/plain": [
       "                                date                      vru_entry  \\\n",
       "count                         444448                         444448   \n",
       "mean   1999-07-06 09:55:09.633522944  1900-01-01 14:27:15.241546240   \n",
       "min              1999-01-01 00:00:00            1900-01-01 00:00:01   \n",
       "25%              1999-04-11 00:00:00            1900-01-01 10:45:42   \n",
       "50%              1999-07-06 00:00:00            1900-01-01 14:03:55   \n",
       "75%              1999-10-07 00:00:00            1900-01-01 17:43:51   \n",
       "max              1999-12-31 00:00:00            1900-01-01 23:59:58   \n",
       "std                              NaN                            NaN   \n",
       "\n",
       "                            vru_exit       vru_time  \\\n",
       "count                         444448  444448.000000   \n",
       "mean   1900-01-01 14:27:25.527627008      10.286081   \n",
       "min              1900-01-01 00:00:08    -362.000000   \n",
       "25%              1900-01-01 10:45:51       6.000000   \n",
       "50%              1900-01-01 14:04:06       8.000000   \n",
       "75%              1900-01-01 17:44:01      10.000000   \n",
       "max              1900-01-01 23:59:59    4832.000000   \n",
       "std                              NaN      34.942136   \n",
       "\n",
       "                             q_start                         q_exit  \\\n",
       "count                         444448                         444448   \n",
       "mean   1900-01-01 08:29:01.435895040  1900-01-01 08:29:48.776293632   \n",
       "min              1900-01-01 00:00:00            1900-01-01 00:00:00   \n",
       "25%              1900-01-01 00:00:00            1900-01-01 00:00:00   \n",
       "50%              1900-01-01 10:01:48            1900-01-01 10:03:29   \n",
       "75%    1900-01-01 14:57:19.249999872            1900-01-01 14:59:05   \n",
       "max              1900-01-01 23:59:59            1900-01-01 23:59:59   \n",
       "std                              NaN                            NaN   \n",
       "\n",
       "              q_time                      ser_start  \\\n",
       "count  444448.000000                         444448   \n",
       "mean       59.004304  1900-01-01 11:43:11.602028032   \n",
       "min         0.000000            1900-01-01 00:00:00   \n",
       "25%         0.000000            1900-01-01 08:37:01   \n",
       "50%        16.000000            1900-01-01 12:23:49   \n",
       "75%        79.000000            1900-01-01 16:50:35   \n",
       "max     28693.000000            1900-01-01 23:59:58   \n",
       "std       119.470328                            NaN   \n",
       "\n",
       "                            ser_exit       ser_time      startdate  \n",
       "count                         444448  444448.000000  444448.000000  \n",
       "mean      1900-01-01 11:44:47.382784     152.561776     172.333974  \n",
       "min              1900-01-01 00:00:00       0.000000       0.000000  \n",
       "25%              1900-01-01 08:38:59      12.000000      90.000000  \n",
       "50%              1900-01-01 12:26:31      84.000000     181.000000  \n",
       "75%    1900-01-01 16:52:39.249999872     185.000000     273.000000  \n",
       "max              1900-01-01 23:59:59   61437.000000     334.000000  \n",
       "std                              NaN     282.372761     104.559247  "
      ]
     },
     "execution_count": 13,
     "metadata": {},
     "output_type": "execute_result"
    }
   ],
   "source": [
    "df_center.describe()\n"
   ]
  },
  {
   "cell_type": "code",
   "execution_count": 175,
   "metadata": {},
   "outputs": [
    {
     "name": "stdout",
     "output_type": "stream",
     "text": [
      "2.1.1\n"
     ]
    }
   ],
   "source": [
    "print(pd.__version__)"
   ]
  },
  {
   "cell_type": "markdown",
   "metadata": {},
   "source": [
    "# 3)Creación de id único por llamada"
   ]
  },
  {
   "cell_type": "markdown",
   "metadata": {},
   "source": [
    "Se observa en describe, que la variable <b>call_id</b>, solo hay 54471 únicos, indicando <b>duplicados</b>. Al ser un ID, debemos crear uno nuevo, único."
   ]
  },
  {
   "cell_type": "code",
   "execution_count": 8,
   "metadata": {},
   "outputs": [
    {
     "data": {
      "text/plain": [
       "54471"
      ]
     },
     "execution_count": 8,
     "metadata": {},
     "output_type": "execute_result"
    }
   ],
   "source": [
    "df_center['call_id'].nunique()"
   ]
  },
  {
   "cell_type": "markdown",
   "metadata": {},
   "source": [
    "Se crea a partir de juntar vru_line y call_id"
   ]
  },
  {
   "cell_type": "code",
   "execution_count": 10,
   "metadata": {},
   "outputs": [],
   "source": [
    "df_center.insert(1, 'ID_call', df_center['vru.line'] + ' ' + df_center['call_id'])"
   ]
  },
  {
   "cell_type": "code",
   "execution_count": 18,
   "metadata": {},
   "outputs": [
    {
     "data": {
      "text/html": [
       "<div>\n",
       "<style scoped>\n",
       "    .dataframe tbody tr th:only-of-type {\n",
       "        vertical-align: middle;\n",
       "    }\n",
       "\n",
       "    .dataframe tbody tr th {\n",
       "        vertical-align: top;\n",
       "    }\n",
       "\n",
       "    .dataframe thead th {\n",
       "        text-align: right;\n",
       "    }\n",
       "</style>\n",
       "<table border=\"1\" class=\"dataframe\">\n",
       "  <thead>\n",
       "    <tr style=\"text-align: right;\">\n",
       "      <th></th>\n",
       "      <th>vru.line</th>\n",
       "      <th>ID_call</th>\n",
       "      <th>customer_id</th>\n",
       "      <th>priority</th>\n",
       "      <th>type</th>\n",
       "      <th>date</th>\n",
       "      <th>vru_entry</th>\n",
       "      <th>vru_exit</th>\n",
       "      <th>vru_time</th>\n",
       "      <th>q_start</th>\n",
       "      <th>q_exit</th>\n",
       "      <th>q_time</th>\n",
       "      <th>outcome</th>\n",
       "      <th>ser_start</th>\n",
       "      <th>ser_exit</th>\n",
       "      <th>ser_time</th>\n",
       "      <th>server</th>\n",
       "      <th>startdate</th>\n",
       "    </tr>\n",
       "  </thead>\n",
       "  <tbody>\n",
       "    <tr>\n",
       "      <th>0</th>\n",
       "      <td>AA0101</td>\n",
       "      <td>AA0101 33116</td>\n",
       "      <td>9664491.0</td>\n",
       "      <td>2</td>\n",
       "      <td>PS</td>\n",
       "      <td>1999-01-01</td>\n",
       "      <td>2023-11-03 00:00:31</td>\n",
       "      <td>2023-11-03 00:00:36</td>\n",
       "      <td>5</td>\n",
       "      <td>2023-11-03 00:00:36</td>\n",
       "      <td>2023-11-03 00:03:09</td>\n",
       "      <td>153</td>\n",
       "      <td>HANG</td>\n",
       "      <td>2023-11-03 00:00:00</td>\n",
       "      <td>2023-11-03 00:00:00</td>\n",
       "      <td>0</td>\n",
       "      <td>NO_SERVER</td>\n",
       "      <td>0</td>\n",
       "    </tr>\n",
       "    <tr>\n",
       "      <th>1</th>\n",
       "      <td>AA0101</td>\n",
       "      <td>AA0101 33117</td>\n",
       "      <td>0.0</td>\n",
       "      <td>0</td>\n",
       "      <td>PS</td>\n",
       "      <td>1999-01-01</td>\n",
       "      <td>2023-11-03 00:34:12</td>\n",
       "      <td>2023-11-03 00:34:23</td>\n",
       "      <td>11</td>\n",
       "      <td>2023-11-03 00:00:00</td>\n",
       "      <td>2023-11-03 00:00:00</td>\n",
       "      <td>0</td>\n",
       "      <td>HANG</td>\n",
       "      <td>2023-11-03 00:00:00</td>\n",
       "      <td>2023-11-03 00:00:00</td>\n",
       "      <td>0</td>\n",
       "      <td>NO_SERVER</td>\n",
       "      <td>0</td>\n",
       "    </tr>\n",
       "    <tr>\n",
       "      <th>2</th>\n",
       "      <td>AA0101</td>\n",
       "      <td>AA0101 33118</td>\n",
       "      <td>27997683.0</td>\n",
       "      <td>2</td>\n",
       "      <td>PS</td>\n",
       "      <td>1999-01-01</td>\n",
       "      <td>2023-11-03 06:55:20</td>\n",
       "      <td>2023-11-03 06:55:26</td>\n",
       "      <td>6</td>\n",
       "      <td>2023-11-03 06:55:26</td>\n",
       "      <td>2023-11-03 06:55:43</td>\n",
       "      <td>17</td>\n",
       "      <td>AGENT</td>\n",
       "      <td>2023-11-03 06:55:43</td>\n",
       "      <td>2023-11-03 06:56:37</td>\n",
       "      <td>54</td>\n",
       "      <td>MICHAL</td>\n",
       "      <td>0</td>\n",
       "    </tr>\n",
       "    <tr>\n",
       "      <th>3</th>\n",
       "      <td>AA0101</td>\n",
       "      <td>AA0101 33119</td>\n",
       "      <td>0.0</td>\n",
       "      <td>0</td>\n",
       "      <td>PS</td>\n",
       "      <td>1999-01-01</td>\n",
       "      <td>2023-11-03 07:41:16</td>\n",
       "      <td>2023-11-03 07:41:26</td>\n",
       "      <td>10</td>\n",
       "      <td>2023-11-03 00:00:00</td>\n",
       "      <td>2023-11-03 00:00:00</td>\n",
       "      <td>0</td>\n",
       "      <td>AGENT</td>\n",
       "      <td>2023-11-03 07:41:25</td>\n",
       "      <td>2023-11-03 07:44:53</td>\n",
       "      <td>208</td>\n",
       "      <td>BASCH</td>\n",
       "      <td>0</td>\n",
       "    </tr>\n",
       "    <tr>\n",
       "      <th>4</th>\n",
       "      <td>AA0101</td>\n",
       "      <td>AA0101 33120</td>\n",
       "      <td>0.0</td>\n",
       "      <td>0</td>\n",
       "      <td>PS</td>\n",
       "      <td>1999-01-01</td>\n",
       "      <td>2023-11-03 08:03:14</td>\n",
       "      <td>2023-11-03 08:03:24</td>\n",
       "      <td>10</td>\n",
       "      <td>2023-11-03 00:00:00</td>\n",
       "      <td>2023-11-03 00:00:00</td>\n",
       "      <td>0</td>\n",
       "      <td>AGENT</td>\n",
       "      <td>2023-11-03 08:03:23</td>\n",
       "      <td>2023-11-03 08:05:10</td>\n",
       "      <td>107</td>\n",
       "      <td>MICHAL</td>\n",
       "      <td>0</td>\n",
       "    </tr>\n",
       "    <tr>\n",
       "      <th>...</th>\n",
       "      <td>...</td>\n",
       "      <td>...</td>\n",
       "      <td>...</td>\n",
       "      <td>...</td>\n",
       "      <td>...</td>\n",
       "      <td>...</td>\n",
       "      <td>...</td>\n",
       "      <td>...</td>\n",
       "      <td>...</td>\n",
       "      <td>...</td>\n",
       "      <td>...</td>\n",
       "      <td>...</td>\n",
       "      <td>...</td>\n",
       "      <td>...</td>\n",
       "      <td>...</td>\n",
       "      <td>...</td>\n",
       "      <td>...</td>\n",
       "      <td>...</td>\n",
       "    </tr>\n",
       "    <tr>\n",
       "      <th>444443</th>\n",
       "      <td>AA0216</td>\n",
       "      <td>AA0216 17211</td>\n",
       "      <td>0.0</td>\n",
       "      <td>0</td>\n",
       "      <td>IN</td>\n",
       "      <td>1999-12-31</td>\n",
       "      <td>2023-11-03 13:46:51</td>\n",
       "      <td>2023-11-03 13:47:04</td>\n",
       "      <td>13</td>\n",
       "      <td>2023-11-03 00:00:00</td>\n",
       "      <td>2023-11-03 00:00:00</td>\n",
       "      <td>0</td>\n",
       "      <td>AGENT</td>\n",
       "      <td>2023-11-03 13:47:03</td>\n",
       "      <td>2023-11-03 13:56:16</td>\n",
       "      <td>553</td>\n",
       "      <td>Z2ELINOR</td>\n",
       "      <td>334</td>\n",
       "    </tr>\n",
       "    <tr>\n",
       "      <th>444444</th>\n",
       "      <td>AA0216</td>\n",
       "      <td>AA0216 17212</td>\n",
       "      <td>0.0</td>\n",
       "      <td>0</td>\n",
       "      <td>IN</td>\n",
       "      <td>1999-12-31</td>\n",
       "      <td>2023-11-03 13:58:31</td>\n",
       "      <td>2023-11-03 13:58:40</td>\n",
       "      <td>9</td>\n",
       "      <td>2023-11-03 13:58:40</td>\n",
       "      <td>2023-11-03 13:59:49</td>\n",
       "      <td>69</td>\n",
       "      <td>HANG</td>\n",
       "      <td>2023-11-03 00:00:00</td>\n",
       "      <td>2023-11-03 00:00:00</td>\n",
       "      <td>0</td>\n",
       "      <td>NO_SERVER</td>\n",
       "      <td>334</td>\n",
       "    </tr>\n",
       "    <tr>\n",
       "      <th>444445</th>\n",
       "      <td>AA0216</td>\n",
       "      <td>AA0216 17213</td>\n",
       "      <td>0.0</td>\n",
       "      <td>0</td>\n",
       "      <td>IN</td>\n",
       "      <td>1999-12-31</td>\n",
       "      <td>2023-11-03 17:10:51</td>\n",
       "      <td>2023-11-03 17:11:12</td>\n",
       "      <td>21</td>\n",
       "      <td>2023-11-03 00:00:00</td>\n",
       "      <td>2023-11-03 00:00:00</td>\n",
       "      <td>0</td>\n",
       "      <td>HANG</td>\n",
       "      <td>2023-11-03 00:00:00</td>\n",
       "      <td>2023-11-03 00:00:00</td>\n",
       "      <td>0</td>\n",
       "      <td>NO_SERVER</td>\n",
       "      <td>334</td>\n",
       "    </tr>\n",
       "    <tr>\n",
       "      <th>444446</th>\n",
       "      <td>AA0216</td>\n",
       "      <td>AA0216 17214</td>\n",
       "      <td>0.0</td>\n",
       "      <td>0</td>\n",
       "      <td>IN</td>\n",
       "      <td>1999-12-31</td>\n",
       "      <td>2023-11-03 18:30:19</td>\n",
       "      <td>2023-11-03 18:30:54</td>\n",
       "      <td>35</td>\n",
       "      <td>2023-11-03 00:00:00</td>\n",
       "      <td>2023-11-03 00:00:00</td>\n",
       "      <td>0</td>\n",
       "      <td>HANG</td>\n",
       "      <td>2023-11-03 00:00:00</td>\n",
       "      <td>2023-11-03 00:00:00</td>\n",
       "      <td>0</td>\n",
       "      <td>NO_SERVER</td>\n",
       "      <td>334</td>\n",
       "    </tr>\n",
       "    <tr>\n",
       "      <th>444447</th>\n",
       "      <td>AA0216</td>\n",
       "      <td>AA0216 17215</td>\n",
       "      <td>0.0</td>\n",
       "      <td>0</td>\n",
       "      <td>IN</td>\n",
       "      <td>1999-12-31</td>\n",
       "      <td>2023-11-03 22:23:35</td>\n",
       "      <td>2023-11-03 22:23:45</td>\n",
       "      <td>10</td>\n",
       "      <td>2023-11-03 00:00:00</td>\n",
       "      <td>2023-11-03 00:00:00</td>\n",
       "      <td>0</td>\n",
       "      <td>HANG</td>\n",
       "      <td>2023-11-03 00:00:00</td>\n",
       "      <td>2023-11-03 00:00:00</td>\n",
       "      <td>0</td>\n",
       "      <td>NO_SERVER</td>\n",
       "      <td>334</td>\n",
       "    </tr>\n",
       "  </tbody>\n",
       "</table>\n",
       "<p>444448 rows × 18 columns</p>\n",
       "</div>"
      ],
      "text/plain": [
       "       vru.line       ID_call customer_id priority type       date  \\\n",
       "0        AA0101  AA0101 33116   9664491.0        2   PS 1999-01-01   \n",
       "1        AA0101  AA0101 33117         0.0        0   PS 1999-01-01   \n",
       "2        AA0101  AA0101 33118  27997683.0        2   PS 1999-01-01   \n",
       "3        AA0101  AA0101 33119         0.0        0   PS 1999-01-01   \n",
       "4        AA0101  AA0101 33120         0.0        0   PS 1999-01-01   \n",
       "...         ...           ...         ...      ...  ...        ...   \n",
       "444443   AA0216  AA0216 17211         0.0        0   IN 1999-12-31   \n",
       "444444   AA0216  AA0216 17212         0.0        0   IN 1999-12-31   \n",
       "444445   AA0216  AA0216 17213         0.0        0   IN 1999-12-31   \n",
       "444446   AA0216  AA0216 17214         0.0        0   IN 1999-12-31   \n",
       "444447   AA0216  AA0216 17215         0.0        0   IN 1999-12-31   \n",
       "\n",
       "                 vru_entry            vru_exit  vru_time             q_start  \\\n",
       "0      2023-11-03 00:00:31 2023-11-03 00:00:36         5 2023-11-03 00:00:36   \n",
       "1      2023-11-03 00:34:12 2023-11-03 00:34:23        11 2023-11-03 00:00:00   \n",
       "2      2023-11-03 06:55:20 2023-11-03 06:55:26         6 2023-11-03 06:55:26   \n",
       "3      2023-11-03 07:41:16 2023-11-03 07:41:26        10 2023-11-03 00:00:00   \n",
       "4      2023-11-03 08:03:14 2023-11-03 08:03:24        10 2023-11-03 00:00:00   \n",
       "...                    ...                 ...       ...                 ...   \n",
       "444443 2023-11-03 13:46:51 2023-11-03 13:47:04        13 2023-11-03 00:00:00   \n",
       "444444 2023-11-03 13:58:31 2023-11-03 13:58:40         9 2023-11-03 13:58:40   \n",
       "444445 2023-11-03 17:10:51 2023-11-03 17:11:12        21 2023-11-03 00:00:00   \n",
       "444446 2023-11-03 18:30:19 2023-11-03 18:30:54        35 2023-11-03 00:00:00   \n",
       "444447 2023-11-03 22:23:35 2023-11-03 22:23:45        10 2023-11-03 00:00:00   \n",
       "\n",
       "                    q_exit  q_time outcome           ser_start  \\\n",
       "0      2023-11-03 00:03:09     153    HANG 2023-11-03 00:00:00   \n",
       "1      2023-11-03 00:00:00       0    HANG 2023-11-03 00:00:00   \n",
       "2      2023-11-03 06:55:43      17   AGENT 2023-11-03 06:55:43   \n",
       "3      2023-11-03 00:00:00       0   AGENT 2023-11-03 07:41:25   \n",
       "4      2023-11-03 00:00:00       0   AGENT 2023-11-03 08:03:23   \n",
       "...                    ...     ...     ...                 ...   \n",
       "444443 2023-11-03 00:00:00       0   AGENT 2023-11-03 13:47:03   \n",
       "444444 2023-11-03 13:59:49      69    HANG 2023-11-03 00:00:00   \n",
       "444445 2023-11-03 00:00:00       0    HANG 2023-11-03 00:00:00   \n",
       "444446 2023-11-03 00:00:00       0    HANG 2023-11-03 00:00:00   \n",
       "444447 2023-11-03 00:00:00       0    HANG 2023-11-03 00:00:00   \n",
       "\n",
       "                  ser_exit  ser_time     server  startdate  \n",
       "0      2023-11-03 00:00:00         0  NO_SERVER          0  \n",
       "1      2023-11-03 00:00:00         0  NO_SERVER          0  \n",
       "2      2023-11-03 06:56:37        54     MICHAL          0  \n",
       "3      2023-11-03 07:44:53       208      BASCH          0  \n",
       "4      2023-11-03 08:05:10       107     MICHAL          0  \n",
       "...                    ...       ...        ...        ...  \n",
       "444443 2023-11-03 13:56:16       553   Z2ELINOR        334  \n",
       "444444 2023-11-03 00:00:00         0  NO_SERVER        334  \n",
       "444445 2023-11-03 00:00:00         0  NO_SERVER        334  \n",
       "444446 2023-11-03 00:00:00         0  NO_SERVER        334  \n",
       "444447 2023-11-03 00:00:00         0  NO_SERVER        334  \n",
       "\n",
       "[444448 rows x 18 columns]"
      ]
     },
     "execution_count": 18,
     "metadata": {},
     "output_type": "execute_result"
    }
   ],
   "source": [
    "df_center"
   ]
  },
  {
   "cell_type": "code",
   "execution_count": 17,
   "metadata": {},
   "outputs": [
    {
     "data": {
      "text/plain": [
       "444448"
      ]
     },
     "execution_count": 17,
     "metadata": {},
     "output_type": "execute_result"
    }
   ],
   "source": [
    "df_center['ID_call'].count()"
   ]
  },
  {
   "cell_type": "markdown",
   "metadata": {},
   "source": [
    "Eliminación de call_id"
   ]
  },
  {
   "cell_type": "code",
   "execution_count": null,
   "metadata": {},
   "outputs": [],
   "source": [
    "df_center = df_center.drop('call_id', axis=1)"
   ]
  },
  {
   "cell_type": "code",
   "execution_count": 19,
   "metadata": {},
   "outputs": [
    {
     "data": {
      "text/html": [
       "<div>\n",
       "<style scoped>\n",
       "    .dataframe tbody tr th:only-of-type {\n",
       "        vertical-align: middle;\n",
       "    }\n",
       "\n",
       "    .dataframe tbody tr th {\n",
       "        vertical-align: top;\n",
       "    }\n",
       "\n",
       "    .dataframe thead th {\n",
       "        text-align: right;\n",
       "    }\n",
       "</style>\n",
       "<table border=\"1\" class=\"dataframe\">\n",
       "  <thead>\n",
       "    <tr style=\"text-align: right;\">\n",
       "      <th></th>\n",
       "      <th>vru.line</th>\n",
       "      <th>ID_call</th>\n",
       "      <th>customer_id</th>\n",
       "      <th>priority</th>\n",
       "      <th>type</th>\n",
       "      <th>date</th>\n",
       "      <th>vru_entry</th>\n",
       "      <th>vru_exit</th>\n",
       "      <th>vru_time</th>\n",
       "      <th>q_start</th>\n",
       "      <th>q_exit</th>\n",
       "      <th>q_time</th>\n",
       "      <th>outcome</th>\n",
       "      <th>ser_start</th>\n",
       "      <th>ser_exit</th>\n",
       "      <th>ser_time</th>\n",
       "      <th>server</th>\n",
       "      <th>startdate</th>\n",
       "    </tr>\n",
       "  </thead>\n",
       "  <tbody>\n",
       "    <tr>\n",
       "      <th>0</th>\n",
       "      <td>AA0101</td>\n",
       "      <td>AA0101 33116</td>\n",
       "      <td>9664491.0</td>\n",
       "      <td>2</td>\n",
       "      <td>PS</td>\n",
       "      <td>1999-01-01</td>\n",
       "      <td>2023-11-03 00:00:31</td>\n",
       "      <td>2023-11-03 00:00:36</td>\n",
       "      <td>5</td>\n",
       "      <td>2023-11-03 00:00:36</td>\n",
       "      <td>2023-11-03 00:03:09</td>\n",
       "      <td>153</td>\n",
       "      <td>HANG</td>\n",
       "      <td>2023-11-03 00:00:00</td>\n",
       "      <td>2023-11-03 00:00:00</td>\n",
       "      <td>0</td>\n",
       "      <td>NO_SERVER</td>\n",
       "      <td>0</td>\n",
       "    </tr>\n",
       "    <tr>\n",
       "      <th>1</th>\n",
       "      <td>AA0101</td>\n",
       "      <td>AA0101 33117</td>\n",
       "      <td>0.0</td>\n",
       "      <td>0</td>\n",
       "      <td>PS</td>\n",
       "      <td>1999-01-01</td>\n",
       "      <td>2023-11-03 00:34:12</td>\n",
       "      <td>2023-11-03 00:34:23</td>\n",
       "      <td>11</td>\n",
       "      <td>2023-11-03 00:00:00</td>\n",
       "      <td>2023-11-03 00:00:00</td>\n",
       "      <td>0</td>\n",
       "      <td>HANG</td>\n",
       "      <td>2023-11-03 00:00:00</td>\n",
       "      <td>2023-11-03 00:00:00</td>\n",
       "      <td>0</td>\n",
       "      <td>NO_SERVER</td>\n",
       "      <td>0</td>\n",
       "    </tr>\n",
       "    <tr>\n",
       "      <th>2</th>\n",
       "      <td>AA0101</td>\n",
       "      <td>AA0101 33118</td>\n",
       "      <td>27997683.0</td>\n",
       "      <td>2</td>\n",
       "      <td>PS</td>\n",
       "      <td>1999-01-01</td>\n",
       "      <td>2023-11-03 06:55:20</td>\n",
       "      <td>2023-11-03 06:55:26</td>\n",
       "      <td>6</td>\n",
       "      <td>2023-11-03 06:55:26</td>\n",
       "      <td>2023-11-03 06:55:43</td>\n",
       "      <td>17</td>\n",
       "      <td>AGENT</td>\n",
       "      <td>2023-11-03 06:55:43</td>\n",
       "      <td>2023-11-03 06:56:37</td>\n",
       "      <td>54</td>\n",
       "      <td>MICHAL</td>\n",
       "      <td>0</td>\n",
       "    </tr>\n",
       "    <tr>\n",
       "      <th>3</th>\n",
       "      <td>AA0101</td>\n",
       "      <td>AA0101 33119</td>\n",
       "      <td>0.0</td>\n",
       "      <td>0</td>\n",
       "      <td>PS</td>\n",
       "      <td>1999-01-01</td>\n",
       "      <td>2023-11-03 07:41:16</td>\n",
       "      <td>2023-11-03 07:41:26</td>\n",
       "      <td>10</td>\n",
       "      <td>2023-11-03 00:00:00</td>\n",
       "      <td>2023-11-03 00:00:00</td>\n",
       "      <td>0</td>\n",
       "      <td>AGENT</td>\n",
       "      <td>2023-11-03 07:41:25</td>\n",
       "      <td>2023-11-03 07:44:53</td>\n",
       "      <td>208</td>\n",
       "      <td>BASCH</td>\n",
       "      <td>0</td>\n",
       "    </tr>\n",
       "    <tr>\n",
       "      <th>4</th>\n",
       "      <td>AA0101</td>\n",
       "      <td>AA0101 33120</td>\n",
       "      <td>0.0</td>\n",
       "      <td>0</td>\n",
       "      <td>PS</td>\n",
       "      <td>1999-01-01</td>\n",
       "      <td>2023-11-03 08:03:14</td>\n",
       "      <td>2023-11-03 08:03:24</td>\n",
       "      <td>10</td>\n",
       "      <td>2023-11-03 00:00:00</td>\n",
       "      <td>2023-11-03 00:00:00</td>\n",
       "      <td>0</td>\n",
       "      <td>AGENT</td>\n",
       "      <td>2023-11-03 08:03:23</td>\n",
       "      <td>2023-11-03 08:05:10</td>\n",
       "      <td>107</td>\n",
       "      <td>MICHAL</td>\n",
       "      <td>0</td>\n",
       "    </tr>\n",
       "    <tr>\n",
       "      <th>...</th>\n",
       "      <td>...</td>\n",
       "      <td>...</td>\n",
       "      <td>...</td>\n",
       "      <td>...</td>\n",
       "      <td>...</td>\n",
       "      <td>...</td>\n",
       "      <td>...</td>\n",
       "      <td>...</td>\n",
       "      <td>...</td>\n",
       "      <td>...</td>\n",
       "      <td>...</td>\n",
       "      <td>...</td>\n",
       "      <td>...</td>\n",
       "      <td>...</td>\n",
       "      <td>...</td>\n",
       "      <td>...</td>\n",
       "      <td>...</td>\n",
       "      <td>...</td>\n",
       "    </tr>\n",
       "    <tr>\n",
       "      <th>444443</th>\n",
       "      <td>AA0216</td>\n",
       "      <td>AA0216 17211</td>\n",
       "      <td>0.0</td>\n",
       "      <td>0</td>\n",
       "      <td>IN</td>\n",
       "      <td>1999-12-31</td>\n",
       "      <td>2023-11-03 13:46:51</td>\n",
       "      <td>2023-11-03 13:47:04</td>\n",
       "      <td>13</td>\n",
       "      <td>2023-11-03 00:00:00</td>\n",
       "      <td>2023-11-03 00:00:00</td>\n",
       "      <td>0</td>\n",
       "      <td>AGENT</td>\n",
       "      <td>2023-11-03 13:47:03</td>\n",
       "      <td>2023-11-03 13:56:16</td>\n",
       "      <td>553</td>\n",
       "      <td>Z2ELINOR</td>\n",
       "      <td>334</td>\n",
       "    </tr>\n",
       "    <tr>\n",
       "      <th>444444</th>\n",
       "      <td>AA0216</td>\n",
       "      <td>AA0216 17212</td>\n",
       "      <td>0.0</td>\n",
       "      <td>0</td>\n",
       "      <td>IN</td>\n",
       "      <td>1999-12-31</td>\n",
       "      <td>2023-11-03 13:58:31</td>\n",
       "      <td>2023-11-03 13:58:40</td>\n",
       "      <td>9</td>\n",
       "      <td>2023-11-03 13:58:40</td>\n",
       "      <td>2023-11-03 13:59:49</td>\n",
       "      <td>69</td>\n",
       "      <td>HANG</td>\n",
       "      <td>2023-11-03 00:00:00</td>\n",
       "      <td>2023-11-03 00:00:00</td>\n",
       "      <td>0</td>\n",
       "      <td>NO_SERVER</td>\n",
       "      <td>334</td>\n",
       "    </tr>\n",
       "    <tr>\n",
       "      <th>444445</th>\n",
       "      <td>AA0216</td>\n",
       "      <td>AA0216 17213</td>\n",
       "      <td>0.0</td>\n",
       "      <td>0</td>\n",
       "      <td>IN</td>\n",
       "      <td>1999-12-31</td>\n",
       "      <td>2023-11-03 17:10:51</td>\n",
       "      <td>2023-11-03 17:11:12</td>\n",
       "      <td>21</td>\n",
       "      <td>2023-11-03 00:00:00</td>\n",
       "      <td>2023-11-03 00:00:00</td>\n",
       "      <td>0</td>\n",
       "      <td>HANG</td>\n",
       "      <td>2023-11-03 00:00:00</td>\n",
       "      <td>2023-11-03 00:00:00</td>\n",
       "      <td>0</td>\n",
       "      <td>NO_SERVER</td>\n",
       "      <td>334</td>\n",
       "    </tr>\n",
       "    <tr>\n",
       "      <th>444446</th>\n",
       "      <td>AA0216</td>\n",
       "      <td>AA0216 17214</td>\n",
       "      <td>0.0</td>\n",
       "      <td>0</td>\n",
       "      <td>IN</td>\n",
       "      <td>1999-12-31</td>\n",
       "      <td>2023-11-03 18:30:19</td>\n",
       "      <td>2023-11-03 18:30:54</td>\n",
       "      <td>35</td>\n",
       "      <td>2023-11-03 00:00:00</td>\n",
       "      <td>2023-11-03 00:00:00</td>\n",
       "      <td>0</td>\n",
       "      <td>HANG</td>\n",
       "      <td>2023-11-03 00:00:00</td>\n",
       "      <td>2023-11-03 00:00:00</td>\n",
       "      <td>0</td>\n",
       "      <td>NO_SERVER</td>\n",
       "      <td>334</td>\n",
       "    </tr>\n",
       "    <tr>\n",
       "      <th>444447</th>\n",
       "      <td>AA0216</td>\n",
       "      <td>AA0216 17215</td>\n",
       "      <td>0.0</td>\n",
       "      <td>0</td>\n",
       "      <td>IN</td>\n",
       "      <td>1999-12-31</td>\n",
       "      <td>2023-11-03 22:23:35</td>\n",
       "      <td>2023-11-03 22:23:45</td>\n",
       "      <td>10</td>\n",
       "      <td>2023-11-03 00:00:00</td>\n",
       "      <td>2023-11-03 00:00:00</td>\n",
       "      <td>0</td>\n",
       "      <td>HANG</td>\n",
       "      <td>2023-11-03 00:00:00</td>\n",
       "      <td>2023-11-03 00:00:00</td>\n",
       "      <td>0</td>\n",
       "      <td>NO_SERVER</td>\n",
       "      <td>334</td>\n",
       "    </tr>\n",
       "  </tbody>\n",
       "</table>\n",
       "<p>444448 rows × 18 columns</p>\n",
       "</div>"
      ],
      "text/plain": [
       "       vru.line       ID_call customer_id priority type       date  \\\n",
       "0        AA0101  AA0101 33116   9664491.0        2   PS 1999-01-01   \n",
       "1        AA0101  AA0101 33117         0.0        0   PS 1999-01-01   \n",
       "2        AA0101  AA0101 33118  27997683.0        2   PS 1999-01-01   \n",
       "3        AA0101  AA0101 33119         0.0        0   PS 1999-01-01   \n",
       "4        AA0101  AA0101 33120         0.0        0   PS 1999-01-01   \n",
       "...         ...           ...         ...      ...  ...        ...   \n",
       "444443   AA0216  AA0216 17211         0.0        0   IN 1999-12-31   \n",
       "444444   AA0216  AA0216 17212         0.0        0   IN 1999-12-31   \n",
       "444445   AA0216  AA0216 17213         0.0        0   IN 1999-12-31   \n",
       "444446   AA0216  AA0216 17214         0.0        0   IN 1999-12-31   \n",
       "444447   AA0216  AA0216 17215         0.0        0   IN 1999-12-31   \n",
       "\n",
       "                 vru_entry            vru_exit  vru_time             q_start  \\\n",
       "0      2023-11-03 00:00:31 2023-11-03 00:00:36         5 2023-11-03 00:00:36   \n",
       "1      2023-11-03 00:34:12 2023-11-03 00:34:23        11 2023-11-03 00:00:00   \n",
       "2      2023-11-03 06:55:20 2023-11-03 06:55:26         6 2023-11-03 06:55:26   \n",
       "3      2023-11-03 07:41:16 2023-11-03 07:41:26        10 2023-11-03 00:00:00   \n",
       "4      2023-11-03 08:03:14 2023-11-03 08:03:24        10 2023-11-03 00:00:00   \n",
       "...                    ...                 ...       ...                 ...   \n",
       "444443 2023-11-03 13:46:51 2023-11-03 13:47:04        13 2023-11-03 00:00:00   \n",
       "444444 2023-11-03 13:58:31 2023-11-03 13:58:40         9 2023-11-03 13:58:40   \n",
       "444445 2023-11-03 17:10:51 2023-11-03 17:11:12        21 2023-11-03 00:00:00   \n",
       "444446 2023-11-03 18:30:19 2023-11-03 18:30:54        35 2023-11-03 00:00:00   \n",
       "444447 2023-11-03 22:23:35 2023-11-03 22:23:45        10 2023-11-03 00:00:00   \n",
       "\n",
       "                    q_exit  q_time outcome           ser_start  \\\n",
       "0      2023-11-03 00:03:09     153    HANG 2023-11-03 00:00:00   \n",
       "1      2023-11-03 00:00:00       0    HANG 2023-11-03 00:00:00   \n",
       "2      2023-11-03 06:55:43      17   AGENT 2023-11-03 06:55:43   \n",
       "3      2023-11-03 00:00:00       0   AGENT 2023-11-03 07:41:25   \n",
       "4      2023-11-03 00:00:00       0   AGENT 2023-11-03 08:03:23   \n",
       "...                    ...     ...     ...                 ...   \n",
       "444443 2023-11-03 00:00:00       0   AGENT 2023-11-03 13:47:03   \n",
       "444444 2023-11-03 13:59:49      69    HANG 2023-11-03 00:00:00   \n",
       "444445 2023-11-03 00:00:00       0    HANG 2023-11-03 00:00:00   \n",
       "444446 2023-11-03 00:00:00       0    HANG 2023-11-03 00:00:00   \n",
       "444447 2023-11-03 00:00:00       0    HANG 2023-11-03 00:00:00   \n",
       "\n",
       "                  ser_exit  ser_time     server  startdate  \n",
       "0      2023-11-03 00:00:00         0  NO_SERVER          0  \n",
       "1      2023-11-03 00:00:00         0  NO_SERVER          0  \n",
       "2      2023-11-03 06:56:37        54     MICHAL          0  \n",
       "3      2023-11-03 07:44:53       208      BASCH          0  \n",
       "4      2023-11-03 08:05:10       107     MICHAL          0  \n",
       "...                    ...       ...        ...        ...  \n",
       "444443 2023-11-03 13:56:16       553   Z2ELINOR        334  \n",
       "444444 2023-11-03 00:00:00         0  NO_SERVER        334  \n",
       "444445 2023-11-03 00:00:00         0  NO_SERVER        334  \n",
       "444446 2023-11-03 00:00:00         0  NO_SERVER        334  \n",
       "444447 2023-11-03 00:00:00         0  NO_SERVER        334  \n",
       "\n",
       "[444448 rows x 18 columns]"
      ]
     },
     "execution_count": 19,
     "metadata": {},
     "output_type": "execute_result"
    }
   ],
   "source": [
    "df_center"
   ]
  },
  {
   "cell_type": "markdown",
   "metadata": {},
   "source": [
    "# 4) Eliminación de startdate"
   ]
  },
  {
   "cell_type": "markdown",
   "metadata": {},
   "source": [
    "Se elimina esta columna porque no se la considera reelevante"
   ]
  },
  {
   "cell_type": "code",
   "execution_count": 20,
   "metadata": {},
   "outputs": [],
   "source": [
    "df_center = df_center.drop('startdate', axis=1)"
   ]
  },
  {
   "cell_type": "code",
   "execution_count": 21,
   "metadata": {},
   "outputs": [
    {
     "data": {
      "text/html": [
       "<div>\n",
       "<style scoped>\n",
       "    .dataframe tbody tr th:only-of-type {\n",
       "        vertical-align: middle;\n",
       "    }\n",
       "\n",
       "    .dataframe tbody tr th {\n",
       "        vertical-align: top;\n",
       "    }\n",
       "\n",
       "    .dataframe thead th {\n",
       "        text-align: right;\n",
       "    }\n",
       "</style>\n",
       "<table border=\"1\" class=\"dataframe\">\n",
       "  <thead>\n",
       "    <tr style=\"text-align: right;\">\n",
       "      <th></th>\n",
       "      <th>vru.line</th>\n",
       "      <th>ID_call</th>\n",
       "      <th>customer_id</th>\n",
       "      <th>priority</th>\n",
       "      <th>type</th>\n",
       "      <th>date</th>\n",
       "      <th>vru_entry</th>\n",
       "      <th>vru_exit</th>\n",
       "      <th>vru_time</th>\n",
       "      <th>q_start</th>\n",
       "      <th>q_exit</th>\n",
       "      <th>q_time</th>\n",
       "      <th>outcome</th>\n",
       "      <th>ser_start</th>\n",
       "      <th>ser_exit</th>\n",
       "      <th>ser_time</th>\n",
       "      <th>server</th>\n",
       "    </tr>\n",
       "  </thead>\n",
       "  <tbody>\n",
       "    <tr>\n",
       "      <th>0</th>\n",
       "      <td>AA0101</td>\n",
       "      <td>AA0101 33116</td>\n",
       "      <td>9664491.0</td>\n",
       "      <td>2</td>\n",
       "      <td>PS</td>\n",
       "      <td>1999-01-01</td>\n",
       "      <td>2023-11-03 00:00:31</td>\n",
       "      <td>2023-11-03 00:00:36</td>\n",
       "      <td>5</td>\n",
       "      <td>2023-11-03 00:00:36</td>\n",
       "      <td>2023-11-03 00:03:09</td>\n",
       "      <td>153</td>\n",
       "      <td>HANG</td>\n",
       "      <td>2023-11-03 00:00:00</td>\n",
       "      <td>2023-11-03 00:00:00</td>\n",
       "      <td>0</td>\n",
       "      <td>NO_SERVER</td>\n",
       "    </tr>\n",
       "    <tr>\n",
       "      <th>1</th>\n",
       "      <td>AA0101</td>\n",
       "      <td>AA0101 33117</td>\n",
       "      <td>0.0</td>\n",
       "      <td>0</td>\n",
       "      <td>PS</td>\n",
       "      <td>1999-01-01</td>\n",
       "      <td>2023-11-03 00:34:12</td>\n",
       "      <td>2023-11-03 00:34:23</td>\n",
       "      <td>11</td>\n",
       "      <td>2023-11-03 00:00:00</td>\n",
       "      <td>2023-11-03 00:00:00</td>\n",
       "      <td>0</td>\n",
       "      <td>HANG</td>\n",
       "      <td>2023-11-03 00:00:00</td>\n",
       "      <td>2023-11-03 00:00:00</td>\n",
       "      <td>0</td>\n",
       "      <td>NO_SERVER</td>\n",
       "    </tr>\n",
       "    <tr>\n",
       "      <th>2</th>\n",
       "      <td>AA0101</td>\n",
       "      <td>AA0101 33118</td>\n",
       "      <td>27997683.0</td>\n",
       "      <td>2</td>\n",
       "      <td>PS</td>\n",
       "      <td>1999-01-01</td>\n",
       "      <td>2023-11-03 06:55:20</td>\n",
       "      <td>2023-11-03 06:55:26</td>\n",
       "      <td>6</td>\n",
       "      <td>2023-11-03 06:55:26</td>\n",
       "      <td>2023-11-03 06:55:43</td>\n",
       "      <td>17</td>\n",
       "      <td>AGENT</td>\n",
       "      <td>2023-11-03 06:55:43</td>\n",
       "      <td>2023-11-03 06:56:37</td>\n",
       "      <td>54</td>\n",
       "      <td>MICHAL</td>\n",
       "    </tr>\n",
       "    <tr>\n",
       "      <th>3</th>\n",
       "      <td>AA0101</td>\n",
       "      <td>AA0101 33119</td>\n",
       "      <td>0.0</td>\n",
       "      <td>0</td>\n",
       "      <td>PS</td>\n",
       "      <td>1999-01-01</td>\n",
       "      <td>2023-11-03 07:41:16</td>\n",
       "      <td>2023-11-03 07:41:26</td>\n",
       "      <td>10</td>\n",
       "      <td>2023-11-03 00:00:00</td>\n",
       "      <td>2023-11-03 00:00:00</td>\n",
       "      <td>0</td>\n",
       "      <td>AGENT</td>\n",
       "      <td>2023-11-03 07:41:25</td>\n",
       "      <td>2023-11-03 07:44:53</td>\n",
       "      <td>208</td>\n",
       "      <td>BASCH</td>\n",
       "    </tr>\n",
       "    <tr>\n",
       "      <th>4</th>\n",
       "      <td>AA0101</td>\n",
       "      <td>AA0101 33120</td>\n",
       "      <td>0.0</td>\n",
       "      <td>0</td>\n",
       "      <td>PS</td>\n",
       "      <td>1999-01-01</td>\n",
       "      <td>2023-11-03 08:03:14</td>\n",
       "      <td>2023-11-03 08:03:24</td>\n",
       "      <td>10</td>\n",
       "      <td>2023-11-03 00:00:00</td>\n",
       "      <td>2023-11-03 00:00:00</td>\n",
       "      <td>0</td>\n",
       "      <td>AGENT</td>\n",
       "      <td>2023-11-03 08:03:23</td>\n",
       "      <td>2023-11-03 08:05:10</td>\n",
       "      <td>107</td>\n",
       "      <td>MICHAL</td>\n",
       "    </tr>\n",
       "    <tr>\n",
       "      <th>...</th>\n",
       "      <td>...</td>\n",
       "      <td>...</td>\n",
       "      <td>...</td>\n",
       "      <td>...</td>\n",
       "      <td>...</td>\n",
       "      <td>...</td>\n",
       "      <td>...</td>\n",
       "      <td>...</td>\n",
       "      <td>...</td>\n",
       "      <td>...</td>\n",
       "      <td>...</td>\n",
       "      <td>...</td>\n",
       "      <td>...</td>\n",
       "      <td>...</td>\n",
       "      <td>...</td>\n",
       "      <td>...</td>\n",
       "      <td>...</td>\n",
       "    </tr>\n",
       "    <tr>\n",
       "      <th>444443</th>\n",
       "      <td>AA0216</td>\n",
       "      <td>AA0216 17211</td>\n",
       "      <td>0.0</td>\n",
       "      <td>0</td>\n",
       "      <td>IN</td>\n",
       "      <td>1999-12-31</td>\n",
       "      <td>2023-11-03 13:46:51</td>\n",
       "      <td>2023-11-03 13:47:04</td>\n",
       "      <td>13</td>\n",
       "      <td>2023-11-03 00:00:00</td>\n",
       "      <td>2023-11-03 00:00:00</td>\n",
       "      <td>0</td>\n",
       "      <td>AGENT</td>\n",
       "      <td>2023-11-03 13:47:03</td>\n",
       "      <td>2023-11-03 13:56:16</td>\n",
       "      <td>553</td>\n",
       "      <td>Z2ELINOR</td>\n",
       "    </tr>\n",
       "    <tr>\n",
       "      <th>444444</th>\n",
       "      <td>AA0216</td>\n",
       "      <td>AA0216 17212</td>\n",
       "      <td>0.0</td>\n",
       "      <td>0</td>\n",
       "      <td>IN</td>\n",
       "      <td>1999-12-31</td>\n",
       "      <td>2023-11-03 13:58:31</td>\n",
       "      <td>2023-11-03 13:58:40</td>\n",
       "      <td>9</td>\n",
       "      <td>2023-11-03 13:58:40</td>\n",
       "      <td>2023-11-03 13:59:49</td>\n",
       "      <td>69</td>\n",
       "      <td>HANG</td>\n",
       "      <td>2023-11-03 00:00:00</td>\n",
       "      <td>2023-11-03 00:00:00</td>\n",
       "      <td>0</td>\n",
       "      <td>NO_SERVER</td>\n",
       "    </tr>\n",
       "    <tr>\n",
       "      <th>444445</th>\n",
       "      <td>AA0216</td>\n",
       "      <td>AA0216 17213</td>\n",
       "      <td>0.0</td>\n",
       "      <td>0</td>\n",
       "      <td>IN</td>\n",
       "      <td>1999-12-31</td>\n",
       "      <td>2023-11-03 17:10:51</td>\n",
       "      <td>2023-11-03 17:11:12</td>\n",
       "      <td>21</td>\n",
       "      <td>2023-11-03 00:00:00</td>\n",
       "      <td>2023-11-03 00:00:00</td>\n",
       "      <td>0</td>\n",
       "      <td>HANG</td>\n",
       "      <td>2023-11-03 00:00:00</td>\n",
       "      <td>2023-11-03 00:00:00</td>\n",
       "      <td>0</td>\n",
       "      <td>NO_SERVER</td>\n",
       "    </tr>\n",
       "    <tr>\n",
       "      <th>444446</th>\n",
       "      <td>AA0216</td>\n",
       "      <td>AA0216 17214</td>\n",
       "      <td>0.0</td>\n",
       "      <td>0</td>\n",
       "      <td>IN</td>\n",
       "      <td>1999-12-31</td>\n",
       "      <td>2023-11-03 18:30:19</td>\n",
       "      <td>2023-11-03 18:30:54</td>\n",
       "      <td>35</td>\n",
       "      <td>2023-11-03 00:00:00</td>\n",
       "      <td>2023-11-03 00:00:00</td>\n",
       "      <td>0</td>\n",
       "      <td>HANG</td>\n",
       "      <td>2023-11-03 00:00:00</td>\n",
       "      <td>2023-11-03 00:00:00</td>\n",
       "      <td>0</td>\n",
       "      <td>NO_SERVER</td>\n",
       "    </tr>\n",
       "    <tr>\n",
       "      <th>444447</th>\n",
       "      <td>AA0216</td>\n",
       "      <td>AA0216 17215</td>\n",
       "      <td>0.0</td>\n",
       "      <td>0</td>\n",
       "      <td>IN</td>\n",
       "      <td>1999-12-31</td>\n",
       "      <td>2023-11-03 22:23:35</td>\n",
       "      <td>2023-11-03 22:23:45</td>\n",
       "      <td>10</td>\n",
       "      <td>2023-11-03 00:00:00</td>\n",
       "      <td>2023-11-03 00:00:00</td>\n",
       "      <td>0</td>\n",
       "      <td>HANG</td>\n",
       "      <td>2023-11-03 00:00:00</td>\n",
       "      <td>2023-11-03 00:00:00</td>\n",
       "      <td>0</td>\n",
       "      <td>NO_SERVER</td>\n",
       "    </tr>\n",
       "  </tbody>\n",
       "</table>\n",
       "<p>444448 rows × 17 columns</p>\n",
       "</div>"
      ],
      "text/plain": [
       "       vru.line       ID_call customer_id priority type       date  \\\n",
       "0        AA0101  AA0101 33116   9664491.0        2   PS 1999-01-01   \n",
       "1        AA0101  AA0101 33117         0.0        0   PS 1999-01-01   \n",
       "2        AA0101  AA0101 33118  27997683.0        2   PS 1999-01-01   \n",
       "3        AA0101  AA0101 33119         0.0        0   PS 1999-01-01   \n",
       "4        AA0101  AA0101 33120         0.0        0   PS 1999-01-01   \n",
       "...         ...           ...         ...      ...  ...        ...   \n",
       "444443   AA0216  AA0216 17211         0.0        0   IN 1999-12-31   \n",
       "444444   AA0216  AA0216 17212         0.0        0   IN 1999-12-31   \n",
       "444445   AA0216  AA0216 17213         0.0        0   IN 1999-12-31   \n",
       "444446   AA0216  AA0216 17214         0.0        0   IN 1999-12-31   \n",
       "444447   AA0216  AA0216 17215         0.0        0   IN 1999-12-31   \n",
       "\n",
       "                 vru_entry            vru_exit  vru_time             q_start  \\\n",
       "0      2023-11-03 00:00:31 2023-11-03 00:00:36         5 2023-11-03 00:00:36   \n",
       "1      2023-11-03 00:34:12 2023-11-03 00:34:23        11 2023-11-03 00:00:00   \n",
       "2      2023-11-03 06:55:20 2023-11-03 06:55:26         6 2023-11-03 06:55:26   \n",
       "3      2023-11-03 07:41:16 2023-11-03 07:41:26        10 2023-11-03 00:00:00   \n",
       "4      2023-11-03 08:03:14 2023-11-03 08:03:24        10 2023-11-03 00:00:00   \n",
       "...                    ...                 ...       ...                 ...   \n",
       "444443 2023-11-03 13:46:51 2023-11-03 13:47:04        13 2023-11-03 00:00:00   \n",
       "444444 2023-11-03 13:58:31 2023-11-03 13:58:40         9 2023-11-03 13:58:40   \n",
       "444445 2023-11-03 17:10:51 2023-11-03 17:11:12        21 2023-11-03 00:00:00   \n",
       "444446 2023-11-03 18:30:19 2023-11-03 18:30:54        35 2023-11-03 00:00:00   \n",
       "444447 2023-11-03 22:23:35 2023-11-03 22:23:45        10 2023-11-03 00:00:00   \n",
       "\n",
       "                    q_exit  q_time outcome           ser_start  \\\n",
       "0      2023-11-03 00:03:09     153    HANG 2023-11-03 00:00:00   \n",
       "1      2023-11-03 00:00:00       0    HANG 2023-11-03 00:00:00   \n",
       "2      2023-11-03 06:55:43      17   AGENT 2023-11-03 06:55:43   \n",
       "3      2023-11-03 00:00:00       0   AGENT 2023-11-03 07:41:25   \n",
       "4      2023-11-03 00:00:00       0   AGENT 2023-11-03 08:03:23   \n",
       "...                    ...     ...     ...                 ...   \n",
       "444443 2023-11-03 00:00:00       0   AGENT 2023-11-03 13:47:03   \n",
       "444444 2023-11-03 13:59:49      69    HANG 2023-11-03 00:00:00   \n",
       "444445 2023-11-03 00:00:00       0    HANG 2023-11-03 00:00:00   \n",
       "444446 2023-11-03 00:00:00       0    HANG 2023-11-03 00:00:00   \n",
       "444447 2023-11-03 00:00:00       0    HANG 2023-11-03 00:00:00   \n",
       "\n",
       "                  ser_exit  ser_time     server  \n",
       "0      2023-11-03 00:00:00         0  NO_SERVER  \n",
       "1      2023-11-03 00:00:00         0  NO_SERVER  \n",
       "2      2023-11-03 06:56:37        54     MICHAL  \n",
       "3      2023-11-03 07:44:53       208      BASCH  \n",
       "4      2023-11-03 08:05:10       107     MICHAL  \n",
       "...                    ...       ...        ...  \n",
       "444443 2023-11-03 13:56:16       553   Z2ELINOR  \n",
       "444444 2023-11-03 00:00:00         0  NO_SERVER  \n",
       "444445 2023-11-03 00:00:00         0  NO_SERVER  \n",
       "444446 2023-11-03 00:00:00         0  NO_SERVER  \n",
       "444447 2023-11-03 00:00:00         0  NO_SERVER  \n",
       "\n",
       "[444448 rows x 17 columns]"
      ]
     },
     "execution_count": 21,
     "metadata": {},
     "output_type": "execute_result"
    }
   ],
   "source": [
    "df_center"
   ]
  },
  {
   "cell_type": "markdown",
   "metadata": {},
   "source": [
    "----------------------------------------\n",
    "-----------------------------"
   ]
  },
  {
   "cell_type": "markdown",
   "metadata": {},
   "source": [
    "# <center>EDA </center>\n",
    "# <center> -*-  Análisis de Datos Exploratorio  -*-</center>"
   ]
  },
  {
   "cell_type": "markdown",
   "metadata": {},
   "source": [
    "Se comienza el análisis, explorando cada columna (variable)"
   ]
  },
  {
   "cell_type": "markdown",
   "metadata": {},
   "source": [
    "### - ID_Call (identidficador de llamada, modificado para que sea unico)"
   ]
  },
  {
   "cell_type": "markdown",
   "metadata": {},
   "source": [
    "____"
   ]
  },
  {
   "cell_type": "markdown",
   "metadata": {},
   "source": [
    "### - vru.line (donde ingresan las llamadas, canal + línea)"
   ]
  },
  {
   "cell_type": "markdown",
   "metadata": {},
   "source": [
    "Se calcula la cantidad de llamadas por vru.line"
   ]
  },
  {
   "cell_type": "code",
   "execution_count": 22,
   "metadata": {},
   "outputs": [
    {
     "data": {
      "text/plain": [
       "vru.line\n",
       "AA0209    21423\n",
       "AA0202    21314\n",
       "AA0206    21087\n",
       "AA0213    20552\n",
       "AA0205    20247\n",
       "AA0203    20056\n",
       "AA0214    19897\n",
       "AA0210    19157\n",
       "AA0204    19011\n",
       "AA0215    18697\n",
       "AA0201    17932\n",
       "AA0103    17627\n",
       "AA0106    17627\n",
       "AA0104    17603\n",
       "AA0109    17580\n",
       "AA0101    17509\n",
       "AA0110    17485\n",
       "AA0105    17452\n",
       "AA0115    17043\n",
       "AA0208    13519\n",
       "AA0207    12665\n",
       "AA0113    12304\n",
       "AA0102    11877\n",
       "AA0216    11852\n",
       "AA0116     9342\n",
       "AA0107     3422\n",
       "AA0111     3381\n",
       "AA0108     3372\n",
       "AA0112     2178\n",
       "AA0114     1237\n",
       "Name: count, dtype: int64"
      ]
     },
     "execution_count": 22,
     "metadata": {},
     "output_type": "execute_result"
    }
   ],
   "source": [
    "cantidad = df_center['vru.line'].value_counts()\n",
    "cantidad"
   ]
  },
  {
   "cell_type": "code",
   "execution_count": 24,
   "metadata": {},
   "outputs": [
    {
     "data": {
      "text/plain": [
       "30"
      ]
     },
     "execution_count": 24,
     "metadata": {},
     "output_type": "execute_result"
    }
   ],
   "source": [
    "df_center['vru.line'].nunique() #unicas 30"
   ]
  },
  {
   "cell_type": "markdown",
   "metadata": {},
   "source": [
    "Se grafica las vru_line"
   ]
  },
  {
   "cell_type": "code",
   "execution_count": 27,
   "metadata": {},
   "outputs": [
    {
     "data": {
      "image/png": "[encoded data removed]",
      "text/plain": [
       "<Figure size 640x480 with 1 Axes>"
      ]
     },
     "metadata": {},
     "output_type": "display_data"
    }
   ],
   "source": [
    "colores_meses = [\"red\", \"green\", \"blue\",  \"orange\", 'yellow',\"purple\", \"pink\", \"brown\", \"gray\", \"cyan\", \"magenta\", \"lime\", \"teal\"]\n",
    "plt.figure()\n",
    "sns.barplot(x=cantidad.values, y=cantidad.index, palette=colores_meses)\n",
    "plt.xlabel('CANTIDAD')\n",
    "plt.ylabel('VRU_LINE')\n",
    "plt.title('LLAMADAS ENTRADAS POR VRU_LINE')\n",
    "plt.show()"
   ]
  },
  {
   "cell_type": "markdown",
   "metadata": {},
   "source": [
    "VRU AA0209 y AA0202 las que mas llamas atienden"
   ]
  },
  {
   "cell_type": "markdown",
   "metadata": {},
   "source": [
    "---"
   ]
  },
  {
   "cell_type": "markdown",
   "metadata": {},
   "source": [
    "### - customer_id (ID_CLIENTE)"
   ]
  },
  {
   "cell_type": "code",
   "execution_count": 186,
   "metadata": {},
   "outputs": [
    {
     "data": {
      "text/plain": [
       "customer_id\n",
       "0.0           178572\n",
       "0              55980\n",
       "58859752.0      1661\n",
       "58704610.0      1375\n",
       "7191646.0       1264\n",
       "               ...  \n",
       "22862023           1\n",
       "3100351.0          1\n",
       "53528683.0         1\n",
       "15571748.0         1\n",
       "53525267.0         1\n",
       "Name: count, Length: 19048, dtype: int64"
      ]
     },
     "execution_count": 186,
     "metadata": {},
     "output_type": "execute_result"
    }
   ],
   "source": [
    "df_center['customer_id'].value_counts()"
   ]
  },
  {
   "cell_type": "markdown",
   "metadata": {},
   "source": [
    "Se observa cliente 0 y 0.0, llegando a la conclusión que significan el mismo tipo de cliente y se cambia su valor"
   ]
  },
  {
   "cell_type": "code",
   "execution_count": 31,
   "metadata": {},
   "outputs": [],
   "source": [
    "df_center['customer_id'] = df_center['customer_id'].replace('0', 0.0)"
   ]
  },
  {
   "cell_type": "code",
   "execution_count": 32,
   "metadata": {},
   "outputs": [
    {
     "data": {
      "text/plain": [
       "customer_id\n",
       "0.0           234552\n",
       "58859752.0      1661\n",
       "58704610.0      1375\n",
       "7191646.0       1264\n",
       "52867744.0      1207\n",
       "               ...  \n",
       "36482305           1\n",
       "29571775           1\n",
       "55893531           1\n",
       "64876170           1\n",
       "53525267.0         1\n",
       "Name: count, Length: 19047, dtype: int64"
      ]
     },
     "execution_count": 32,
     "metadata": {},
     "output_type": "execute_result"
    }
   ],
   "source": [
    "df_center['customer_id'].value_counts()"
   ]
  },
  {
   "cell_type": "markdown",
   "metadata": {},
   "source": [
    "clientes que han llamado alguna vez"
   ]
  },
  {
   "cell_type": "code",
   "execution_count": 189,
   "metadata": {},
   "outputs": [
    {
     "data": {
      "text/plain": [
       "19047"
      ]
     },
     "execution_count": 189,
     "metadata": {},
     "output_type": "execute_result"
    }
   ],
   "source": [
    "df_center['customer_id'].nunique()"
   ]
  },
  {
   "cell_type": "code",
   "execution_count": 33,
   "metadata": {},
   "outputs": [
    {
     "data": {
      "text/plain": [
       "customer_id\n",
       "0.0           52.773778\n",
       "58859752.0     0.373722\n",
       "58704610.0     0.309373\n",
       "7191646.0      0.284398\n",
       "52867744.0     0.271573\n",
       "                ...    \n",
       "36482305       0.000225\n",
       "29571775       0.000225\n",
       "55893531       0.000225\n",
       "64876170       0.000225\n",
       "53525267.0     0.000225\n",
       "Name: count, Length: 19047, dtype: float64"
      ]
     },
     "execution_count": 33,
     "metadata": {},
     "output_type": "execute_result"
    }
   ],
   "source": [
    "value_counts = df_center['customer_id'].value_counts()\n",
    "porcentaje = (value_counts / len(df_center)) * 100\n",
    "porcentaje"
   ]
  },
  {
   "cell_type": "markdown",
   "metadata": {},
   "source": [
    "Los valores de cero identificados, son esperados, porque se informó que corresponden a aquellos que el sistema no pudo identicar. Estos representan cerca del 53% de los registros."
   ]
  },
  {
   "cell_type": "markdown",
   "metadata": {},
   "source": [
    "_____________\n"
   ]
  },
  {
   "cell_type": "markdown",
   "metadata": {},
   "source": [
    "### - priority (Prioridad en la llamada (0 y 1) ó 2- prioridad especial-)"
   ]
  },
  {
   "cell_type": "markdown",
   "metadata": {},
   "source": [
    "• 0 y 1 indican clientes no identificados o clientes regulares </br>\n",
    "• 2 indica clientes de Alta Prioridad."
   ]
  },
  {
   "cell_type": "code",
   "execution_count": 34,
   "metadata": {},
   "outputs": [
    {
     "data": {
      "text/plain": [
       "priority\n",
       "0    235168\n",
       "2    137453\n",
       "1     71827\n",
       "Name: count, dtype: int64"
      ]
     },
     "execution_count": 34,
     "metadata": {},
     "output_type": "execute_result"
    }
   ],
   "source": [
    "df_center['priority'].value_counts()"
   ]
  },
  {
   "cell_type": "markdown",
   "metadata": {},
   "source": [
    "porcentaje q representa"
   ]
  },
  {
   "cell_type": "code",
   "execution_count": 39,
   "metadata": {},
   "outputs": [
    {
     "data": {
      "text/plain": [
       "(priority\n",
       " 0    53.0\n",
       " 2    31.0\n",
       " 1    16.0\n",
       " Name: count, dtype: float64,\n",
       " 2)"
      ]
     },
     "execution_count": 39,
     "metadata": {},
     "output_type": "execute_result"
    }
   ],
   "source": [
    "porcentaje1=df_center['priority'].value_counts() / len(df_center) * 100\n",
    "round(porcentaje1),2"
   ]
  },
  {
   "cell_type": "code",
   "execution_count": 192,
   "metadata": {},
   "outputs": [
    {
     "name": "stderr",
     "output_type": "stream",
     "text": [
      "C:\\Users\\Usuario\\AppData\\Local\\Temp\\ipykernel_3192\\3312224915.py:1: FutureWarning: The default of observed=False is deprecated and will be changed to True in a future version of pandas. Pass observed=False to retain current behavior or observed=True to adopt the future default and silence this warning.\n",
      "  df_center.groupby('priority')['q_time_real'].agg(['mean'])\n"
     ]
    },
    {
     "ename": "KeyError",
     "evalue": "'Column not found: q_time_real'",
     "output_type": "error",
     "traceback": [
      "\u001b[1;31m---------------------------------------------------------------------------\u001b[0m",
      "\u001b[1;31mKeyError\u001b[0m                                  Traceback (most recent call last)",
      "\u001b[1;32mc:\\Users\\Usuario\\OneDrive\\Escritorio\\CURSADO DATA CIENCE\\MODULO 5\\Proyecto Integrador\\1 Call Center\\center.ipynb Celda 52\u001b[0m line \u001b[0;36m1\n\u001b[1;32m----> <a href='vscode-notebook-cell:/c%3A/Users/Usuario/OneDrive/Escritorio/CURSADO%20DATA%20CIENCE/MODULO%205/Proyecto%20Integrador/1%20Call%20Center/center.ipynb#Y260sZmlsZQ%3D%3D?line=0'>1</a>\u001b[0m df_center\u001b[39m.\u001b[39;49mgroupby(\u001b[39m'\u001b[39;49m\u001b[39mpriority\u001b[39;49m\u001b[39m'\u001b[39;49m)[\u001b[39m'\u001b[39;49m\u001b[39mq_time_real\u001b[39;49m\u001b[39m'\u001b[39;49m]\u001b[39m.\u001b[39magg([\u001b[39m'\u001b[39m\u001b[39mmean\u001b[39m\u001b[39m'\u001b[39m])\n",
      "File \u001b[1;32m~\\AppData\\Local\\Packages\\PythonSoftwareFoundation.Python.3.11_qbz5n2kfra8p0\\LocalCache\\local-packages\\Python311\\site-packages\\pandas\\core\\groupby\\generic.py:1961\u001b[0m, in \u001b[0;36mDataFrameGroupBy.__getitem__\u001b[1;34m(self, key)\u001b[0m\n\u001b[0;32m   1954\u001b[0m \u001b[39mif\u001b[39;00m \u001b[39misinstance\u001b[39m(key, \u001b[39mtuple\u001b[39m) \u001b[39mand\u001b[39;00m \u001b[39mlen\u001b[39m(key) \u001b[39m>\u001b[39m \u001b[39m1\u001b[39m:\n\u001b[0;32m   1955\u001b[0m     \u001b[39m# if len == 1, then it becomes a SeriesGroupBy and this is actually\u001b[39;00m\n\u001b[0;32m   1956\u001b[0m     \u001b[39m# valid syntax, so don't raise\u001b[39;00m\n\u001b[0;32m   1957\u001b[0m     \u001b[39mraise\u001b[39;00m \u001b[39mValueError\u001b[39;00m(\n\u001b[0;32m   1958\u001b[0m         \u001b[39m\"\u001b[39m\u001b[39mCannot subset columns with a tuple with more than one element. \u001b[39m\u001b[39m\"\u001b[39m\n\u001b[0;32m   1959\u001b[0m         \u001b[39m\"\u001b[39m\u001b[39mUse a list instead.\u001b[39m\u001b[39m\"\u001b[39m\n\u001b[0;32m   1960\u001b[0m     )\n\u001b[1;32m-> 1961\u001b[0m \u001b[39mreturn\u001b[39;00m \u001b[39msuper\u001b[39;49m()\u001b[39m.\u001b[39;49m\u001b[39m__getitem__\u001b[39;49m(key)\n",
      "File \u001b[1;32m~\\AppData\\Local\\Packages\\PythonSoftwareFoundation.Python.3.11_qbz5n2kfra8p0\\LocalCache\\local-packages\\Python311\\site-packages\\pandas\\core\\base.py:244\u001b[0m, in \u001b[0;36mSelectionMixin.__getitem__\u001b[1;34m(self, key)\u001b[0m\n\u001b[0;32m    242\u001b[0m \u001b[39melse\u001b[39;00m:\n\u001b[0;32m    243\u001b[0m     \u001b[39mif\u001b[39;00m key \u001b[39mnot\u001b[39;00m \u001b[39min\u001b[39;00m \u001b[39mself\u001b[39m\u001b[39m.\u001b[39mobj:\n\u001b[1;32m--> 244\u001b[0m         \u001b[39mraise\u001b[39;00m \u001b[39mKeyError\u001b[39;00m(\u001b[39mf\u001b[39m\u001b[39m\"\u001b[39m\u001b[39mColumn not found: \u001b[39m\u001b[39m{\u001b[39;00mkey\u001b[39m}\u001b[39;00m\u001b[39m\"\u001b[39m)\n\u001b[0;32m    245\u001b[0m     ndim \u001b[39m=\u001b[39m \u001b[39mself\u001b[39m\u001b[39m.\u001b[39mobj[key]\u001b[39m.\u001b[39mndim\n\u001b[0;32m    246\u001b[0m     \u001b[39mreturn\u001b[39;00m \u001b[39mself\u001b[39m\u001b[39m.\u001b[39m_gotitem(key, ndim\u001b[39m=\u001b[39mndim)\n",
      "\u001b[1;31mKeyError\u001b[0m: 'Column not found: q_time_real'"
     ]
    }
   ],
   "source": [
    "df_center.groupby('priority')['q_time_real'].agg(['mean'])"
   ]
  },
  {
   "cell_type": "markdown",
   "metadata": {},
   "source": [
    "Conclusion: del total de llamadas:\n",
    "- 2 = 31% son de alta prioridad\n",
    "- 0 y 1 = 69% comunes"
   ]
  },
  {
   "cell_type": "markdown",
   "metadata": {},
   "source": [
    "____________"
   ]
  },
  {
   "cell_type": "markdown",
   "metadata": {},
   "source": [
    "### -  type (tipo de servicio) :Hay 6 tipos diferentes de servicio:</br>\n",
    "• PS - Actividad Regular</br>\n",
    "• PE - Actividad Regular en inglés</br>\n",
    "• IN - Actividad / Consulta por internet</br>\n",
    "• NE - Actividad por Acciones (stock exchange)</br>\n",
    "• NW - Cliente potencial (prospecto) solicitando información</br>\n",
    "• TT – clientes que dejan un mensaje pidiendo al banco que le devuelvan su llamado"
   ]
  },
  {
   "cell_type": "code",
   "execution_count": 40,
   "metadata": {},
   "outputs": [
    {
     "data": {
      "text/plain": [
       "type\n",
       "PS     302522\n",
       "NW      67728\n",
       "NE      39342\n",
       "IN      20732\n",
       "TT      12289\n",
       "PE       1824\n",
       " TT         6\n",
       "AA          5\n",
       "Name: count, dtype: int64"
      ]
     },
     "execution_count": 40,
     "metadata": {},
     "output_type": "execute_result"
    }
   ],
   "source": [
    "df_center['type'].value_counts()"
   ]
  },
  {
   "cell_type": "markdown",
   "metadata": {},
   "source": [
    "Se observa que 'TT' tiene espacios extras, por lo que se limpia esa columna."
   ]
  },
  {
   "cell_type": "code",
   "execution_count": 41,
   "metadata": {},
   "outputs": [
    {
     "data": {
      "text/plain": [
       "type\n",
       "PS    302522\n",
       "NW     67728\n",
       "NE     39342\n",
       "IN     20732\n",
       "TT     12295\n",
       "PE      1824\n",
       "AA         5\n",
       "Name: count, dtype: int64"
      ]
     },
     "execution_count": 41,
     "metadata": {},
     "output_type": "execute_result"
    }
   ],
   "source": [
    "df_center['type'] = df_center['type'].str.strip()\n",
    "df_center['type'].value_counts()"
   ]
  },
  {
   "cell_type": "markdown",
   "metadata": {},
   "source": [
    "Se observa AA y no es un valor definido asiq se borran los registros y porque tiene prioridad 0"
   ]
  },
  {
   "cell_type": "code",
   "execution_count": 42,
   "metadata": {},
   "outputs": [],
   "source": [
    "df_center.drop(df_center[df_center['type'] == 'AA'].index, inplace=True)"
   ]
  },
  {
   "cell_type": "code",
   "execution_count": 43,
   "metadata": {},
   "outputs": [
    {
     "data": {
      "text/plain": [
       "type\n",
       "PS    68.07\n",
       "NW    15.24\n",
       "NE     8.85\n",
       "IN     4.66\n",
       "TT     2.77\n",
       "PE     0.41\n",
       "Name: count, dtype: float64"
      ]
     },
     "execution_count": 43,
     "metadata": {},
     "output_type": "execute_result"
    }
   ],
   "source": [
    "round(((df_center['type'].value_counts() / len(df_center)) * 100),2)"
   ]
  },
  {
   "cell_type": "markdown",
   "metadata": {},
   "source": [
    "PS que significa Actividad regular, fue el servicio que se prestó en el 68% de los llamados."
   ]
  },
  {
   "cell_type": "markdown",
   "metadata": {},
   "source": [
    "---"
   ]
  },
  {
   "cell_type": "markdown",
   "metadata": {},
   "source": [
    "### - DATE (Fecha - v. cuantitativa )"
   ]
  },
  {
   "cell_type": "markdown",
   "metadata": {},
   "source": [
    "Se separa el mes en una columna, para ver su comportamiento por mes, y se hace una columna de año para conservarlo, aunque sabemos que solo hay 1999"
   ]
  },
  {
   "cell_type": "code",
   "execution_count": 44,
   "metadata": {},
   "outputs": [],
   "source": [
    "# Se agrega una nueva columna para el mes\n",
    "df_center.insert(5, 'Month', df_center['date'].dt.month)"
   ]
  },
  {
   "cell_type": "code",
   "execution_count": 45,
   "metadata": {},
   "outputs": [],
   "source": [
    "#insertamos columna con Año\n",
    "df_center.insert(6, 'Year', df_center['date'].dt.year)"
   ]
  },
  {
   "cell_type": "code",
   "execution_count": 46,
   "metadata": {},
   "outputs": [],
   "source": [
    "# eliminamos columna Date\n",
    "df_center = df_center.drop('date', axis=1)"
   ]
  },
  {
   "cell_type": "markdown",
   "metadata": {},
   "source": [
    "### Se grafica el volumen de llamadas por mes"
   ]
  },
  {
   "cell_type": "code",
   "execution_count": 47,
   "metadata": {},
   "outputs": [
    {
     "data": {
      "image/png": "[encoded data removed]",
      "text/plain": [
       "<Figure size 640x480 with 1 Axes>"
      ]
     },
     "metadata": {},
     "output_type": "display_data"
    }
   ],
   "source": [
    "colores_meses = [\"red\", \"green\", \"blue\", \"orange\", \"purple\", \"pink\", \"brown\", \"gray\", \"cyan\", \"magenta\", \"lime\", \"teal\"]\n",
    "plt.figure()\n",
    "sns.countplot(data=df_center, x='Month', palette=colores_meses)\n",
    "plt.xlabel('MES')\n",
    "plt.ylabel('VOLUMEN')\n",
    "plt.title('CANTIDAD DE LLAMADAS POR MES')\n",
    "plt.show()"
   ]
  },
  {
   "cell_type": "markdown",
   "metadata": {},
   "source": [
    "### Conclusión: \n",
    "- Diciembre y Agosto: mayor\n",
    "- Enero, Abril, Septiembre, menos llamadas"
   ]
  },
  {
   "cell_type": "markdown",
   "metadata": {},
   "source": [
    "_____"
   ]
  },
  {
   "cell_type": "markdown",
   "metadata": {},
   "source": [
    "### - Vru_entry - Vru_exit - Vru_time (tiempos referidos a la LLAMADA)"
   ]
  },
  {
   "cell_type": "markdown",
   "metadata": {},
   "source": [
    " Se observan la frecuencia de llamadas por horas\n"
   ]
  },
  {
   "cell_type": "code",
   "execution_count": 51,
   "metadata": {},
   "outputs": [
    {
     "data": {
      "image/png": "[encoded data removed]",
      "text/plain": [
       "<Figure size 640x480 with 1 Axes>"
      ]
     },
     "metadata": {},
     "output_type": "display_data"
    }
   ],
   "source": [
    "plt.figure()\n",
    "sns.histplot(data=df_center, x=(df_center['vru_entry'] - df_center['vru_entry'].dt.normalize()) / pd.Timedelta(hours=1),bins=24, kde=True, color= 'blue')\n",
    "plt.xlabel('VRU_ENTRY')\n",
    "plt.ylabel('VOLUMEN')\n",
    "plt.title('FRANJA HORARIA de VRU_ENTRY')\n",
    "plt.show()\n"
   ]
  },
  {
   "cell_type": "code",
   "execution_count": 202,
   "metadata": {},
   "outputs": [
    {
     "name": "stderr",
     "output_type": "stream",
     "text": [
      "C:\\Users\\Usuario\\AppData\\Local\\Packages\\PythonSoftwareFoundation.Python.3.11_qbz5n2kfra8p0\\LocalCache\\local-packages\\Python311\\site-packages\\seaborn\\_oldcore.py:1498: FutureWarning: is_categorical_dtype is deprecated and will be removed in a future version. Use isinstance(dtype, CategoricalDtype) instead\n",
      "  if pd.api.types.is_categorical_dtype(vector):\n",
      "C:\\Users\\Usuario\\AppData\\Local\\Packages\\PythonSoftwareFoundation.Python.3.11_qbz5n2kfra8p0\\LocalCache\\local-packages\\Python311\\site-packages\\seaborn\\_oldcore.py:1119: FutureWarning: use_inf_as_na option is deprecated and will be removed in a future version. Convert inf values to NaN before operating instead.\n",
      "  with pd.option_context('mode.use_inf_as_na', True):\n"
     ]
    },
    {
     "data": {
      "image/png": "[encoded data removed]",
      "text/plain": [
       "<Figure size 640x480 with 1 Axes>"
      ]
     },
     "metadata": {},
     "output_type": "display_data"
    }
   ],
   "source": [
    "plt.figure()\n",
    "sns.histplot(data=df_center, x=(df_center['vru_exit'] - df_center['vru_exit'].dt.normalize()) / pd.Timedelta(hours=1),bins=24, kde=True, color= 'yellow')\n",
    "plt.xlabel('VRU_EXIT')\n",
    "plt.ylabel('VOLUMEN')\n",
    "plt.title('FRANJA HORARIA de VRU_EXIT')\n",
    "plt.show()"
   ]
  },
  {
   "cell_type": "markdown",
   "metadata": {},
   "source": [
    "Conclusión:\n",
    "- 10-11hs: mayor cantidad de llamadas\n",
    "- 14-15hs: un nuevo pico de llamadas \n",
    "- 0-6hs: servicio automatico- baja considerable"
   ]
  },
  {
   "cell_type": "markdown",
   "metadata": {},
   "source": [
    "VRU_TIME: tiene tiempos negativos, por lo que se observa "
   ]
  },
  {
   "cell_type": "code",
   "execution_count": 203,
   "metadata": {},
   "outputs": [
    {
     "data": {
      "text/plain": [
       "count    444448.000000\n",
       "mean         10.286081\n",
       "std          34.942136\n",
       "min        -362.000000\n",
       "25%           6.000000\n",
       "50%           8.000000\n",
       "75%          10.000000\n",
       "max        4832.000000\n",
       "Name: vru_time, dtype: float64"
      ]
     },
     "execution_count": 203,
     "metadata": {},
     "output_type": "execute_result"
    }
   ],
   "source": [
    "df_center['vru_time'].describe()"
   ]
  },
  {
   "cell_type": "markdown",
   "metadata": {},
   "source": [
    "Se cuentan los valores negativos"
   ]
  },
  {
   "cell_type": "code",
   "execution_count": 52,
   "metadata": {},
   "outputs": [
    {
     "data": {
      "text/plain": [
       "350"
      ]
     },
     "execution_count": 52,
     "metadata": {},
     "output_type": "execute_result"
    }
   ],
   "source": [
    "cant_neg = (df_center['vru_time'] < 0).sum()\n",
    "cant_neg"
   ]
  },
  {
   "cell_type": "code",
   "execution_count": 53,
   "metadata": {},
   "outputs": [
    {
     "data": {
      "text/plain": [
       "0.08"
      ]
     },
     "execution_count": 53,
     "metadata": {},
     "output_type": "execute_result"
    }
   ],
   "source": [
    "porc_neg = round(cant_neg/df_center['vru_time'].count()*100, 2)\n",
    "porc_neg"
   ]
  },
  {
   "cell_type": "markdown",
   "metadata": {},
   "source": [
    "Si bien es un porcentaje pequeño, se  interpreta que se han cambiado de columna, por lo que se colocan de forma correcta"
   ]
  },
  {
   "cell_type": "code",
   "execution_count": null,
   "metadata": {},
   "outputs": [],
   "source": [
    "#df_center = df_center.drop('VRU_entry_N', axis=1)\n",
    "#df_center = df_center.drop('VRU_exit_N', axis=1)"
   ]
  },
  {
   "cell_type": "code",
   "execution_count": 54,
   "metadata": {},
   "outputs": [],
   "source": [
    "df_center['VRU_entry_N'] = np.where(df_center['vru_entry'] > df_center['vru_exit'], df_center['vru_exit'], df_center['vru_entry'])\n",
    "columna_temporal = df_center.pop('VRU_entry_N')\n",
    "df_center.insert(8, 'VRU_entry_N', columna_temporal)\n",
    "df_center['VRU_exit_N'] = np.where(df_center['vru_entry'] > df_center['vru_exit'], df_center['vru_entry'], df_center['vru_exit'])\n",
    "columna_temporal = df_center.pop('VRU_exit_N')\n",
    "df_center.insert(9, 'VRU_exit_N', columna_temporal)\n"
   ]
  },
  {
   "cell_type": "code",
   "execution_count": 55,
   "metadata": {},
   "outputs": [],
   "source": [
    "df_center['VRU_time_N'] = (df_center['VRU_exit_N'] - df_center['VRU_entry_N']).dt.total_seconds()\n",
    "df_center['VRU_time_N'] = df_center['VRU_time_N'].astype('int64')\n",
    "columna_temporal = df_center.pop('VRU_time_N')\n",
    "df_center.insert(10, 'VRU_time_N', columna_temporal)"
   ]
  },
  {
   "cell_type": "markdown",
   "metadata": {},
   "source": [
    "Se eliminan las columnas erroneas"
   ]
  },
  {
   "cell_type": "code",
   "execution_count": 56,
   "metadata": {},
   "outputs": [],
   "source": [
    "df_center = df_center.drop('vru_entry', axis=1)\n",
    "df_center = df_center.drop('vru_exit', axis=1)\n",
    "df_center = df_center.drop('vru_time', axis=1)"
   ]
  },
  {
   "cell_type": "code",
   "execution_count": 57,
   "metadata": {},
   "outputs": [
    {
     "data": {
      "text/plain": [
       "count    444443.000000\n",
       "mean         10.396195\n",
       "std          34.909622\n",
       "min           0.000000\n",
       "25%           6.000000\n",
       "50%           8.000000\n",
       "75%          10.000000\n",
       "max        4832.000000\n",
       "Name: VRU_time_N, dtype: float64"
      ]
     },
     "execution_count": 57,
     "metadata": {},
     "output_type": "execute_result"
    }
   ],
   "source": [
    "df_center['VRU_time_N'].describe()"
   ]
  },
  {
   "cell_type": "markdown",
   "metadata": {},
   "source": [
    "Se grafica la dispersion de las llamadas"
   ]
  },
  {
   "cell_type": "code",
   "execution_count": 58,
   "metadata": {},
   "outputs": [
    {
     "data": {
      "image/png": "[encoded data removed]",
      "text/plain": [
       "<Figure size 1400x600 with 3 Axes>"
      ]
     },
     "metadata": {},
     "output_type": "display_data"
    }
   ],
   "source": [
    "\n",
    "fig = plt.figure(figsize=(14, 6))\n",
    "\n",
    "ax1 = fig.add_subplot(311)\n",
    "sns.stripplot(data=df_center, x='VRU_time_N', ax=ax1)\n",
    "ax1.set_xlabel('time (seconds)') ; ax1.set_ylabel('stripplot') ; ax1.set_title('Stripplot of Operator Time (vru_time)')\n",
    "\n",
    "ax2 = fig.add_subplot(312, sharex=ax1)\n",
    "sns.boxplot(data=df_center, x='VRU_time_N', ax=ax2)\n",
    "ax2.set_xlabel('time (seconds)') ; ax2.set_ylabel('boxplot')\n",
    "\n",
    "ax3 = fig.add_subplot(313)\n",
    "sns.boxplot(data=df_center[df_center['VRU_time_N'] < 30], x='VRU_time_N', ax=ax3)\n",
    "ax3.set_xlabel('time (seconds)') ; ax3.set_ylabel('boxplot detail') ; ax3.set_title('Zoomed Boxplot for Values < 30 seconds')\n",
    "\n",
    "plt.tight_layout()"
   ]
  },
  {
   "cell_type": "markdown",
   "metadata": {},
   "source": [
    "Se calculan los outliers vistos graficamente"
   ]
  },
  {
   "cell_type": "code",
   "execution_count": 59,
   "metadata": {},
   "outputs": [
    {
     "name": "stdout",
     "output_type": "stream",
     "text": [
      "Cantidad de valores outlier sobre 16 segundos:  26651\n",
      "Porcentaje sobre el total: 6.0 %\n"
     ]
    }
   ],
   "source": [
    "outlier_count = (df_center['VRU_time_N'] > 16).sum()\n",
    "perc_outlier = round(outlier_count/df_center['VRU_time_N'].count()*100,2)\n",
    "print('Cantidad de valores outlier sobre 16 segundos: ', outlier_count)\n",
    "print('Porcentaje sobre el total:', perc_outlier, '%')"
   ]
  },
  {
   "cell_type": "code",
   "execution_count": 69,
   "metadata": {},
   "outputs": [
    {
     "name": "stdout",
     "output_type": "stream",
     "text": [
      "Cantidad de valores outlier sobre 1100 segundos:  83\n",
      "Porcentaje sobre el total: 0.02 %\n"
     ]
    }
   ],
   "source": [
    "outlier_count = (df_center['VRU_time_N'] > 1100).sum()\n",
    "perc_outlier = round(outlier_count/df_center['VRU_time_N'].count()*100,2)\n",
    "print('Cantidad de valores outlier sobre 1100 segundos: ', outlier_count)\n",
    "print('Porcentaje sobre el total:', perc_outlier, '%')"
   ]
  },
  {
   "cell_type": "code",
   "execution_count": 71,
   "metadata": {},
   "outputs": [
    {
     "data": {
      "text/plain": [
       "count    444443.000000\n",
       "mean         10.396195\n",
       "std          34.909622\n",
       "min           0.000000\n",
       "25%           6.000000\n",
       "50%           8.000000\n",
       "75%          10.000000\n",
       "max        4832.000000\n",
       "Name: VRU_time_N, dtype: float64"
      ]
     },
     "execution_count": 71,
     "metadata": {},
     "output_type": "execute_result"
    }
   ],
   "source": [
    "df_center['VRU_time_N'].describe()"
   ]
  },
  {
   "cell_type": "markdown",
   "metadata": {},
   "source": [
    "Conclusión: \n",
    "- vru_time (corregida): el 75% de las llamadas = duración de 10s </br>\n",
    "                        MAX = 4832s</br>\n",
    "                        \n",
    "El detalle del boxplot muestra que por arriba de los 16 segundos aproximadamente, hay 26651 llamados, que representan cerca del 6% de todos los registros, que podrían ser considerados como atípicos. No obstantes, tiempos de espera hasta 18 minutos (1100 segundos aproximadamente), podrían asumirse como aceptables. En tal caso, quedarían solo 83 llamadas como outliers representando el 0.02% de los llamados. Se decide eliminar estos registros."
   ]
  },
  {
   "cell_type": "code",
   "execution_count": 73,
   "metadata": {},
   "outputs": [],
   "source": [
    "df_center.drop(df_center[df_center['VRU_time_N'] > 1100].index, inplace=True)"
   ]
  },
  {
   "cell_type": "code",
   "execution_count": 75,
   "metadata": {},
   "outputs": [
    {
     "data": {
      "text/plain": [
       "vru.line       444360\n",
       "ID_call        444360\n",
       "customer_id    444360\n",
       "priority       444360\n",
       "type           444360\n",
       "Month          444360\n",
       "Year           444360\n",
       "VRU_entry_N    444360\n",
       "VRU_exit_N     444360\n",
       "VRU_time_N     444360\n",
       "q_start        444360\n",
       "q_exit         444360\n",
       "q_time         444360\n",
       "outcome        444360\n",
       "ser_start      444360\n",
       "ser_exit       444360\n",
       "ser_time       444360\n",
       "server         444360\n",
       "dtype: int64"
      ]
     },
     "execution_count": 75,
     "metadata": {},
     "output_type": "execute_result"
    }
   ],
   "source": [
    "df_center.count()"
   ]
  },
  {
   "cell_type": "markdown",
   "metadata": {},
   "source": [
    "____"
   ]
  },
  {
   "cell_type": "markdown",
   "metadata": {},
   "source": [
    "### - q_start y q_exit (tiempo en COLA)"
   ]
  },
  {
   "cell_type": "markdown",
   "metadata": {},
   "source": [
    "Se observan la frecuencia de llamadas por horas"
   ]
  },
  {
   "cell_type": "code",
   "execution_count": 76,
   "metadata": {},
   "outputs": [
    {
     "data": {
      "image/png": "[encoded data removed]",
      "text/plain": [
       "<Figure size 1000x400 with 2 Axes>"
      ]
     },
     "metadata": {},
     "output_type": "display_data"
    }
   ],
   "source": [
    "fig, (ax1, ax2) = plt.subplots(1, 2, figsize=(10, 4), sharey=True)\n",
    "sns.histplot(data=df_center, x=(df_center['q_start'] - df_center['q_start'].dt.normalize()) / pd.Timedelta(hours=1), bins=24, kde=True, ax=ax1)\n",
    "sns.histplot(data=df_center, x=(df_center['q_exit'] - df_center['q_exit'].dt.normalize()) / pd.Timedelta(hours=1), bins=24, kde=True, ax=ax2)\n",
    "\n",
    "ax1.set_xlabel('q_start') ; ax1.set_ylabel('Count')\n",
    "ax2.set_xlabel('q_exit')\n",
    "plt.suptitle('Histograma de tiempo en Cola')\n",
    "plt.tight_layout()\n",
    "plt.show()"
   ]
  },
  {
   "cell_type": "markdown",
   "metadata": {},
   "source": [
    "Se contabiliza la cantidad en 0"
   ]
  },
  {
   "cell_type": "code",
   "execution_count": 77,
   "metadata": {},
   "outputs": [
    {
     "data": {
      "text/plain": [
       "180761"
      ]
     },
     "execution_count": 77,
     "metadata": {},
     "output_type": "execute_result"
    }
   ],
   "source": [
    "count_0 = (df_center['q_start'].dt.time == pd.to_datetime('00:00:00').time()).sum()\n",
    "count_0\n"
   ]
  },
  {
   "cell_type": "code",
   "execution_count": 78,
   "metadata": {},
   "outputs": [
    {
     "data": {
      "text/plain": [
       "40.68"
      ]
     },
     "execution_count": 78,
     "metadata": {},
     "output_type": "execute_result"
    }
   ],
   "source": [
    "porcentaje_0 = round(count_0/df_center['q_start'].count()*100, 2)\n",
    "porcentaje_0"
   ]
  },
  {
   "cell_type": "markdown",
   "metadata": {},
   "source": [
    "Conclusión:\n",
    "- 180761 clientes abadonan la llamada estando en el VRU (son registrados en 00:00:00). Esto representa el 41% de las llamadas que ingresan aproximadamente."
   ]
  },
  {
   "cell_type": "markdown",
   "metadata": {},
   "source": [
    "### - q_time"
   ]
  },
  {
   "cell_type": "code",
   "execution_count": null,
   "metadata": {},
   "outputs": [],
   "source": [
    "#df_center = df_center.drop('q_time_REAL', axis=1)"
   ]
  },
  {
   "cell_type": "markdown",
   "metadata": {},
   "source": [
    "Se agrega una columna con los tiempos reales de espera segun la prioridad 2"
   ]
  },
  {
   "cell_type": "code",
   "execution_count": 79,
   "metadata": {},
   "outputs": [],
   "source": [
    "\n",
    "def modify_q_time(row):\n",
    "    if row['priority'] == 2:\n",
    "        modified_value = row['q_time'] - 90\n",
    "        return max(modified_value, 0)\n",
    "    else:\n",
    "        return row['q_time']\n",
    "\n",
    "df_center['q_time_REAL'] = df_center.apply(modify_q_time, axis=1)\n",
    "columna_temporal = df_center.pop('q_time_REAL')\n",
    "df_center.insert(13, 'q_time_REAL', columna_temporal)"
   ]
  },
  {
   "cell_type": "code",
   "execution_count": 80,
   "metadata": {},
   "outputs": [],
   "source": [
    "df_center = df_center.drop('q_time', axis=1)"
   ]
  },
  {
   "cell_type": "code",
   "execution_count": 81,
   "metadata": {},
   "outputs": [
    {
     "data": {
      "text/html": [
       "<div>\n",
       "<style scoped>\n",
       "    .dataframe tbody tr th:only-of-type {\n",
       "        vertical-align: middle;\n",
       "    }\n",
       "\n",
       "    .dataframe tbody tr th {\n",
       "        vertical-align: top;\n",
       "    }\n",
       "\n",
       "    .dataframe thead th {\n",
       "        text-align: right;\n",
       "    }\n",
       "</style>\n",
       "<table border=\"1\" class=\"dataframe\">\n",
       "  <thead>\n",
       "    <tr style=\"text-align: right;\">\n",
       "      <th></th>\n",
       "      <th>vru.line</th>\n",
       "      <th>ID_call</th>\n",
       "      <th>customer_id</th>\n",
       "      <th>priority</th>\n",
       "      <th>type</th>\n",
       "      <th>Month</th>\n",
       "      <th>Year</th>\n",
       "      <th>VRU_entry_N</th>\n",
       "      <th>VRU_exit_N</th>\n",
       "      <th>VRU_time_N</th>\n",
       "      <th>q_start</th>\n",
       "      <th>q_exit</th>\n",
       "      <th>q_time_REAL</th>\n",
       "      <th>outcome</th>\n",
       "      <th>ser_start</th>\n",
       "      <th>ser_exit</th>\n",
       "      <th>ser_time</th>\n",
       "      <th>server</th>\n",
       "    </tr>\n",
       "  </thead>\n",
       "  <tbody>\n",
       "    <tr>\n",
       "      <th>0</th>\n",
       "      <td>AA0101</td>\n",
       "      <td>AA0101 33116</td>\n",
       "      <td>9664491.0</td>\n",
       "      <td>2</td>\n",
       "      <td>PS</td>\n",
       "      <td>1</td>\n",
       "      <td>1999</td>\n",
       "      <td>2023-11-03 00:00:31</td>\n",
       "      <td>2023-11-03 00:00:36</td>\n",
       "      <td>5</td>\n",
       "      <td>2023-11-03 00:00:36</td>\n",
       "      <td>2023-11-03 00:03:09</td>\n",
       "      <td>63</td>\n",
       "      <td>HANG</td>\n",
       "      <td>2023-11-03 00:00:00</td>\n",
       "      <td>2023-11-03 00:00:00</td>\n",
       "      <td>0</td>\n",
       "      <td>NO_SERVER</td>\n",
       "    </tr>\n",
       "    <tr>\n",
       "      <th>1</th>\n",
       "      <td>AA0101</td>\n",
       "      <td>AA0101 33117</td>\n",
       "      <td>0.0</td>\n",
       "      <td>0</td>\n",
       "      <td>PS</td>\n",
       "      <td>1</td>\n",
       "      <td>1999</td>\n",
       "      <td>2023-11-03 00:34:12</td>\n",
       "      <td>2023-11-03 00:34:23</td>\n",
       "      <td>11</td>\n",
       "      <td>2023-11-03 00:00:00</td>\n",
       "      <td>2023-11-03 00:00:00</td>\n",
       "      <td>0</td>\n",
       "      <td>HANG</td>\n",
       "      <td>2023-11-03 00:00:00</td>\n",
       "      <td>2023-11-03 00:00:00</td>\n",
       "      <td>0</td>\n",
       "      <td>NO_SERVER</td>\n",
       "    </tr>\n",
       "    <tr>\n",
       "      <th>2</th>\n",
       "      <td>AA0101</td>\n",
       "      <td>AA0101 33118</td>\n",
       "      <td>27997683.0</td>\n",
       "      <td>2</td>\n",
       "      <td>PS</td>\n",
       "      <td>1</td>\n",
       "      <td>1999</td>\n",
       "      <td>2023-11-03 06:55:20</td>\n",
       "      <td>2023-11-03 06:55:26</td>\n",
       "      <td>6</td>\n",
       "      <td>2023-11-03 06:55:26</td>\n",
       "      <td>2023-11-03 06:55:43</td>\n",
       "      <td>0</td>\n",
       "      <td>AGENT</td>\n",
       "      <td>2023-11-03 06:55:43</td>\n",
       "      <td>2023-11-03 06:56:37</td>\n",
       "      <td>54</td>\n",
       "      <td>MICHAL</td>\n",
       "    </tr>\n",
       "    <tr>\n",
       "      <th>3</th>\n",
       "      <td>AA0101</td>\n",
       "      <td>AA0101 33119</td>\n",
       "      <td>0.0</td>\n",
       "      <td>0</td>\n",
       "      <td>PS</td>\n",
       "      <td>1</td>\n",
       "      <td>1999</td>\n",
       "      <td>2023-11-03 07:41:16</td>\n",
       "      <td>2023-11-03 07:41:26</td>\n",
       "      <td>10</td>\n",
       "      <td>2023-11-03 00:00:00</td>\n",
       "      <td>2023-11-03 00:00:00</td>\n",
       "      <td>0</td>\n",
       "      <td>AGENT</td>\n",
       "      <td>2023-11-03 07:41:25</td>\n",
       "      <td>2023-11-03 07:44:53</td>\n",
       "      <td>208</td>\n",
       "      <td>BASCH</td>\n",
       "    </tr>\n",
       "    <tr>\n",
       "      <th>4</th>\n",
       "      <td>AA0101</td>\n",
       "      <td>AA0101 33120</td>\n",
       "      <td>0.0</td>\n",
       "      <td>0</td>\n",
       "      <td>PS</td>\n",
       "      <td>1</td>\n",
       "      <td>1999</td>\n",
       "      <td>2023-11-03 08:03:14</td>\n",
       "      <td>2023-11-03 08:03:24</td>\n",
       "      <td>10</td>\n",
       "      <td>2023-11-03 00:00:00</td>\n",
       "      <td>2023-11-03 00:00:00</td>\n",
       "      <td>0</td>\n",
       "      <td>AGENT</td>\n",
       "      <td>2023-11-03 08:03:23</td>\n",
       "      <td>2023-11-03 08:05:10</td>\n",
       "      <td>107</td>\n",
       "      <td>MICHAL</td>\n",
       "    </tr>\n",
       "    <tr>\n",
       "      <th>...</th>\n",
       "      <td>...</td>\n",
       "      <td>...</td>\n",
       "      <td>...</td>\n",
       "      <td>...</td>\n",
       "      <td>...</td>\n",
       "      <td>...</td>\n",
       "      <td>...</td>\n",
       "      <td>...</td>\n",
       "      <td>...</td>\n",
       "      <td>...</td>\n",
       "      <td>...</td>\n",
       "      <td>...</td>\n",
       "      <td>...</td>\n",
       "      <td>...</td>\n",
       "      <td>...</td>\n",
       "      <td>...</td>\n",
       "      <td>...</td>\n",
       "      <td>...</td>\n",
       "    </tr>\n",
       "    <tr>\n",
       "      <th>444443</th>\n",
       "      <td>AA0216</td>\n",
       "      <td>AA0216 17211</td>\n",
       "      <td>0.0</td>\n",
       "      <td>0</td>\n",
       "      <td>IN</td>\n",
       "      <td>12</td>\n",
       "      <td>1999</td>\n",
       "      <td>2023-11-03 13:46:51</td>\n",
       "      <td>2023-11-03 13:47:04</td>\n",
       "      <td>13</td>\n",
       "      <td>2023-11-03 00:00:00</td>\n",
       "      <td>2023-11-03 00:00:00</td>\n",
       "      <td>0</td>\n",
       "      <td>AGENT</td>\n",
       "      <td>2023-11-03 13:47:03</td>\n",
       "      <td>2023-11-03 13:56:16</td>\n",
       "      <td>553</td>\n",
       "      <td>Z2ELINOR</td>\n",
       "    </tr>\n",
       "    <tr>\n",
       "      <th>444444</th>\n",
       "      <td>AA0216</td>\n",
       "      <td>AA0216 17212</td>\n",
       "      <td>0.0</td>\n",
       "      <td>0</td>\n",
       "      <td>IN</td>\n",
       "      <td>12</td>\n",
       "      <td>1999</td>\n",
       "      <td>2023-11-03 13:58:31</td>\n",
       "      <td>2023-11-03 13:58:40</td>\n",
       "      <td>9</td>\n",
       "      <td>2023-11-03 13:58:40</td>\n",
       "      <td>2023-11-03 13:59:49</td>\n",
       "      <td>69</td>\n",
       "      <td>HANG</td>\n",
       "      <td>2023-11-03 00:00:00</td>\n",
       "      <td>2023-11-03 00:00:00</td>\n",
       "      <td>0</td>\n",
       "      <td>NO_SERVER</td>\n",
       "    </tr>\n",
       "    <tr>\n",
       "      <th>444445</th>\n",
       "      <td>AA0216</td>\n",
       "      <td>AA0216 17213</td>\n",
       "      <td>0.0</td>\n",
       "      <td>0</td>\n",
       "      <td>IN</td>\n",
       "      <td>12</td>\n",
       "      <td>1999</td>\n",
       "      <td>2023-11-03 17:10:51</td>\n",
       "      <td>2023-11-03 17:11:12</td>\n",
       "      <td>21</td>\n",
       "      <td>2023-11-03 00:00:00</td>\n",
       "      <td>2023-11-03 00:00:00</td>\n",
       "      <td>0</td>\n",
       "      <td>HANG</td>\n",
       "      <td>2023-11-03 00:00:00</td>\n",
       "      <td>2023-11-03 00:00:00</td>\n",
       "      <td>0</td>\n",
       "      <td>NO_SERVER</td>\n",
       "    </tr>\n",
       "    <tr>\n",
       "      <th>444446</th>\n",
       "      <td>AA0216</td>\n",
       "      <td>AA0216 17214</td>\n",
       "      <td>0.0</td>\n",
       "      <td>0</td>\n",
       "      <td>IN</td>\n",
       "      <td>12</td>\n",
       "      <td>1999</td>\n",
       "      <td>2023-11-03 18:30:19</td>\n",
       "      <td>2023-11-03 18:30:54</td>\n",
       "      <td>35</td>\n",
       "      <td>2023-11-03 00:00:00</td>\n",
       "      <td>2023-11-03 00:00:00</td>\n",
       "      <td>0</td>\n",
       "      <td>HANG</td>\n",
       "      <td>2023-11-03 00:00:00</td>\n",
       "      <td>2023-11-03 00:00:00</td>\n",
       "      <td>0</td>\n",
       "      <td>NO_SERVER</td>\n",
       "    </tr>\n",
       "    <tr>\n",
       "      <th>444447</th>\n",
       "      <td>AA0216</td>\n",
       "      <td>AA0216 17215</td>\n",
       "      <td>0.0</td>\n",
       "      <td>0</td>\n",
       "      <td>IN</td>\n",
       "      <td>12</td>\n",
       "      <td>1999</td>\n",
       "      <td>2023-11-03 22:23:35</td>\n",
       "      <td>2023-11-03 22:23:45</td>\n",
       "      <td>10</td>\n",
       "      <td>2023-11-03 00:00:00</td>\n",
       "      <td>2023-11-03 00:00:00</td>\n",
       "      <td>0</td>\n",
       "      <td>HANG</td>\n",
       "      <td>2023-11-03 00:00:00</td>\n",
       "      <td>2023-11-03 00:00:00</td>\n",
       "      <td>0</td>\n",
       "      <td>NO_SERVER</td>\n",
       "    </tr>\n",
       "  </tbody>\n",
       "</table>\n",
       "<p>444360 rows × 18 columns</p>\n",
       "</div>"
      ],
      "text/plain": [
       "       vru.line       ID_call customer_id priority type  Month  Year  \\\n",
       "0        AA0101  AA0101 33116   9664491.0        2   PS      1  1999   \n",
       "1        AA0101  AA0101 33117         0.0        0   PS      1  1999   \n",
       "2        AA0101  AA0101 33118  27997683.0        2   PS      1  1999   \n",
       "3        AA0101  AA0101 33119         0.0        0   PS      1  1999   \n",
       "4        AA0101  AA0101 33120         0.0        0   PS      1  1999   \n",
       "...         ...           ...         ...      ...  ...    ...   ...   \n",
       "444443   AA0216  AA0216 17211         0.0        0   IN     12  1999   \n",
       "444444   AA0216  AA0216 17212         0.0        0   IN     12  1999   \n",
       "444445   AA0216  AA0216 17213         0.0        0   IN     12  1999   \n",
       "444446   AA0216  AA0216 17214         0.0        0   IN     12  1999   \n",
       "444447   AA0216  AA0216 17215         0.0        0   IN     12  1999   \n",
       "\n",
       "               VRU_entry_N          VRU_exit_N  VRU_time_N  \\\n",
       "0      2023-11-03 00:00:31 2023-11-03 00:00:36           5   \n",
       "1      2023-11-03 00:34:12 2023-11-03 00:34:23          11   \n",
       "2      2023-11-03 06:55:20 2023-11-03 06:55:26           6   \n",
       "3      2023-11-03 07:41:16 2023-11-03 07:41:26          10   \n",
       "4      2023-11-03 08:03:14 2023-11-03 08:03:24          10   \n",
       "...                    ...                 ...         ...   \n",
       "444443 2023-11-03 13:46:51 2023-11-03 13:47:04          13   \n",
       "444444 2023-11-03 13:58:31 2023-11-03 13:58:40           9   \n",
       "444445 2023-11-03 17:10:51 2023-11-03 17:11:12          21   \n",
       "444446 2023-11-03 18:30:19 2023-11-03 18:30:54          35   \n",
       "444447 2023-11-03 22:23:35 2023-11-03 22:23:45          10   \n",
       "\n",
       "                   q_start              q_exit  q_time_REAL outcome  \\\n",
       "0      2023-11-03 00:00:36 2023-11-03 00:03:09           63    HANG   \n",
       "1      2023-11-03 00:00:00 2023-11-03 00:00:00            0    HANG   \n",
       "2      2023-11-03 06:55:26 2023-11-03 06:55:43            0   AGENT   \n",
       "3      2023-11-03 00:00:00 2023-11-03 00:00:00            0   AGENT   \n",
       "4      2023-11-03 00:00:00 2023-11-03 00:00:00            0   AGENT   \n",
       "...                    ...                 ...          ...     ...   \n",
       "444443 2023-11-03 00:00:00 2023-11-03 00:00:00            0   AGENT   \n",
       "444444 2023-11-03 13:58:40 2023-11-03 13:59:49           69    HANG   \n",
       "444445 2023-11-03 00:00:00 2023-11-03 00:00:00            0    HANG   \n",
       "444446 2023-11-03 00:00:00 2023-11-03 00:00:00            0    HANG   \n",
       "444447 2023-11-03 00:00:00 2023-11-03 00:00:00            0    HANG   \n",
       "\n",
       "                 ser_start            ser_exit  ser_time     server  \n",
       "0      2023-11-03 00:00:00 2023-11-03 00:00:00         0  NO_SERVER  \n",
       "1      2023-11-03 00:00:00 2023-11-03 00:00:00         0  NO_SERVER  \n",
       "2      2023-11-03 06:55:43 2023-11-03 06:56:37        54     MICHAL  \n",
       "3      2023-11-03 07:41:25 2023-11-03 07:44:53       208      BASCH  \n",
       "4      2023-11-03 08:03:23 2023-11-03 08:05:10       107     MICHAL  \n",
       "...                    ...                 ...       ...        ...  \n",
       "444443 2023-11-03 13:47:03 2023-11-03 13:56:16       553   Z2ELINOR  \n",
       "444444 2023-11-03 00:00:00 2023-11-03 00:00:00         0  NO_SERVER  \n",
       "444445 2023-11-03 00:00:00 2023-11-03 00:00:00         0  NO_SERVER  \n",
       "444446 2023-11-03 00:00:00 2023-11-03 00:00:00         0  NO_SERVER  \n",
       "444447 2023-11-03 00:00:00 2023-11-03 00:00:00         0  NO_SERVER  \n",
       "\n",
       "[444360 rows x 18 columns]"
      ]
     },
     "execution_count": 81,
     "metadata": {},
     "output_type": "execute_result"
    }
   ],
   "source": [
    "df_center"
   ]
  },
  {
   "cell_type": "code",
   "execution_count": 82,
   "metadata": {},
   "outputs": [
    {
     "data": {
      "text/plain": [
       "count    444360.000000\n",
       "mean         42.297563\n",
       "std         113.654151\n",
       "min           0.000000\n",
       "25%           0.000000\n",
       "50%           0.000000\n",
       "75%          44.000000\n",
       "max       28693.000000\n",
       "Name: q_time_REAL, dtype: float64"
      ]
     },
     "execution_count": 82,
     "metadata": {},
     "output_type": "execute_result"
    }
   ],
   "source": [
    "df_center['q_time_REAL'].describe()"
   ]
  },
  {
   "cell_type": "markdown",
   "metadata": {},
   "source": [
    "Se grafican la dispersion de las llamadas"
   ]
  },
  {
   "cell_type": "code",
   "execution_count": 83,
   "metadata": {},
   "outputs": [
    {
     "data": {
      "image/png": "[encoded data removed]",
      "text/plain": [
       "<Figure size 1400x600 with 3 Axes>"
      ]
     },
     "metadata": {},
     "output_type": "display_data"
    }
   ],
   "source": [
    "fig = plt.figure(figsize=(14, 6))\n",
    "\n",
    "ax1 = fig.add_subplot(311)\n",
    "sns.stripplot(data=df_center, x='q_time_REAL', ax=ax1)\n",
    "ax1.set_xlabel('time (seconds)') ; ax1.set_ylabel('stripplot') ; ax1.set_title('Stripplot of waiting queue (q_time_real)')\n",
    "\n",
    "ax2 = fig.add_subplot(312, sharex=ax1)\n",
    "sns.boxplot(data=df_center, x='q_time_REAL', ax=ax2)\n",
    "ax2.set_xlabel('time (seconds)') ; ax2.set_ylabel('boxplot')\n",
    "\n",
    "ax3 = fig.add_subplot(313)\n",
    "sns.boxplot(data=df_center[df_center['q_time_REAL'] < 30], x='q_time_REAL', ax=ax3)\n",
    "ax3.set_xlabel('time (seconds)') ; ax3.set_ylabel('boxplot detail') ; ax3.set_title('Zoomed Boxplot for Values < 30 seconds')\n",
    "\n",
    "plt.tight_layout()"
   ]
  },
  {
   "cell_type": "markdown",
   "metadata": {},
   "source": [
    "Se observan 3 valores atípicos mayores a los 3000 segundos, se los considera outliers, se eliminan"
   ]
  },
  {
   "cell_type": "code",
   "execution_count": 89,
   "metadata": {},
   "outputs": [],
   "source": [
    "df_center.drop(df_center[df_center['q_time_REAL'] > 3000].index, inplace=True)"
   ]
  },
  {
   "cell_type": "code",
   "execution_count": 90,
   "metadata": {},
   "outputs": [
    {
     "data": {
      "text/plain": [
       "444345"
      ]
     },
     "execution_count": 90,
     "metadata": {},
     "output_type": "execute_result"
    }
   ],
   "source": [
    "df_center['q_time_REAL'] .count()"
   ]
  },
  {
   "cell_type": "code",
   "execution_count": 91,
   "metadata": {},
   "outputs": [
    {
     "data": {
      "text/plain": [
       "0"
      ]
     },
     "execution_count": 91,
     "metadata": {},
     "output_type": "execute_result"
    }
   ],
   "source": [
    "(df_center['q_time_REAL'] > 20000).sum()"
   ]
  },
  {
   "cell_type": "markdown",
   "metadata": {},
   "source": [
    "Se repite la grafica"
   ]
  },
  {
   "cell_type": "code",
   "execution_count": 92,
   "metadata": {},
   "outputs": [
    {
     "data": {
      "image/png": "[encoded data removed]",
      "text/plain": [
       "<Figure size 1400x600 with 3 Axes>"
      ]
     },
     "metadata": {},
     "output_type": "display_data"
    }
   ],
   "source": [
    "fig = plt.figure(figsize=(14, 6))\n",
    "\n",
    "ax1 = fig.add_subplot(311)\n",
    "sns.stripplot(data=df_center, x='q_time_REAL', ax=ax1)\n",
    "ax1.set_xlabel('time (seconds)') ; ax1.set_ylabel('stripplot') ; ax1.set_title('Stripplot of waiting queue (q_time_real)')\n",
    "\n",
    "ax2 = fig.add_subplot(312, sharex=ax1)\n",
    "sns.boxplot(data=df_center, x='q_time_REAL', ax=ax2)\n",
    "ax2.set_xlabel('time (seconds)') ; ax2.set_ylabel('boxplot')\n",
    "\n",
    "ax3 = fig.add_subplot(313)\n",
    "sns.boxplot(data=df_center[df_center['q_time_REAL'] < 30], x='q_time_REAL', ax=ax3)\n",
    "ax3.set_xlabel('time (seconds)') ; ax3.set_ylabel('boxplot detail') ; ax3.set_title('Zoomed Boxplot for Values < 30 seconds')\n",
    "\n",
    "plt.tight_layout()"
   ]
  },
  {
   "cell_type": "code",
   "execution_count": 95,
   "metadata": {},
   "outputs": [
    {
     "name": "stdout",
     "output_type": "stream",
     "text": [
      "Cantidad de valores outlier sobre 3000 segundos:  0\n",
      "Porcentaje sobre el total: 0.0 %\n"
     ]
    }
   ],
   "source": [
    "outlier_count = (df_center['q_time_REAL'] > 3000).sum()\n",
    "perc_outlier = round(outlier_count/df_center['q_time_REAL'].count()*100,2)\n",
    "print('Cantidad de valores outlier sobre 3000 segundos: ', outlier_count)\n",
    "print('Porcentaje sobre el total:', perc_outlier, '%')"
   ]
  },
  {
   "cell_type": "code",
   "execution_count": 96,
   "metadata": {},
   "outputs": [
    {
     "name": "stdout",
     "output_type": "stream",
     "text": [
      "Cantidad de valores outlier sobre 1000 segundos:  119\n",
      "Porcentaje sobre el total: 0.03 %\n"
     ]
    }
   ],
   "source": [
    "outlier_count = (df_center['q_time_REAL'] > 1000).sum()\n",
    "perc_outlier = round(outlier_count/df_center['q_time_REAL'].count()*100,2)\n",
    "print('Cantidad de valores outlier sobre 1000 segundos: ', outlier_count)\n",
    "print('Porcentaje sobre el total:', perc_outlier, '%')"
   ]
  },
  {
   "cell_type": "markdown",
   "metadata": {},
   "source": [
    "En el mismo sentido, y siguiendo con la lógica planteada en vru_time, se asume que una espera de mas de 1000 segundos no es viable. Las llamadas mayores a 1000 segundos son 119 y representan el 0.03%, por lo que se decide borrar."
   ]
  },
  {
   "cell_type": "code",
   "execution_count": 228,
   "metadata": {},
   "outputs": [
    {
     "data": {
      "text/plain": [
       "0"
      ]
     },
     "execution_count": 228,
     "metadata": {},
     "output_type": "execute_result"
    }
   ],
   "source": [
    "df_center = df_center[df_center['q_time_REAL'] <= 1000]\n",
    "(df_center['q_time_REAL'] > 1000).sum()"
   ]
  },
  {
   "cell_type": "code",
   "execution_count": 97,
   "metadata": {},
   "outputs": [],
   "source": [
    "df_center.drop(df_center[df_center['q_time_REAL'] > 1000].index, inplace=True)"
   ]
  },
  {
   "cell_type": "markdown",
   "metadata": {},
   "source": [
    "Se grafican nuevamente"
   ]
  },
  {
   "cell_type": "code",
   "execution_count": 98,
   "metadata": {},
   "outputs": [
    {
     "data": {
      "image/png": "[encoded data removed]",
      "text/plain": [
       "<Figure size 1400x600 with 3 Axes>"
      ]
     },
     "metadata": {},
     "output_type": "display_data"
    }
   ],
   "source": [
    "\n",
    "fig = plt.figure(figsize=(14, 6))\n",
    "\n",
    "ax1 = fig.add_subplot(311)\n",
    "sns.stripplot(data=df_center, x='q_time_REAL', ax=ax1)\n",
    "ax1.set_xlabel('time (seconds)') ; ax1.set_ylabel('stripplot') ; ax1.set_title('Stripplot of waiting queue (q_time_real)')\n",
    "\n",
    "ax2 = fig.add_subplot(312, sharex=ax1)\n",
    "sns.boxplot(data=df_center, x='q_time_REAL', ax=ax2)\n",
    "ax2.set_xlabel('time (seconds)') ; ax2.set_ylabel('boxplot')\n",
    "\n",
    "ax3 = fig.add_subplot(313)\n",
    "sns.boxplot(data=df_center[df_center['q_time_REAL'] < 30], x='q_time_REAL', ax=ax3)\n",
    "ax3.set_xlabel('time (seconds)') ; ax3.set_ylabel('boxplot detail') ; ax3.set_title('Zoomed Boxplot for Values < 30 seconds')\n",
    "\n",
    "plt.tight_layout()\n"
   ]
  },
  {
   "cell_type": "code",
   "execution_count": 99,
   "metadata": {},
   "outputs": [
    {
     "data": {
      "text/plain": [
       "count    444226.000000\n",
       "mean         41.718821\n",
       "std          87.372302\n",
       "min           0.000000\n",
       "25%           0.000000\n",
       "50%           0.000000\n",
       "75%          44.000000\n",
       "max         997.000000\n",
       "Name: q_time_REAL, dtype: float64"
      ]
     },
     "execution_count": 99,
     "metadata": {},
     "output_type": "execute_result"
    }
   ],
   "source": [
    "df_center['q_time_REAL'].describe()"
   ]
  },
  {
   "cell_type": "markdown",
   "metadata": {},
   "source": [
    "Considerando a los clientes prioritarios con el tiempo real de espera, se oberva que el 50% de las llamadas son atendidas inmediatamente y que el 75% de las llamadas esperan en la cola menos de 44 segundos."
   ]
  },
  {
   "cell_type": "code",
   "execution_count": 100,
   "metadata": {},
   "outputs": [
    {
     "data": {
      "text/html": [
       "<div>\n",
       "<style scoped>\n",
       "    .dataframe tbody tr th:only-of-type {\n",
       "        vertical-align: middle;\n",
       "    }\n",
       "\n",
       "    .dataframe tbody tr th {\n",
       "        vertical-align: top;\n",
       "    }\n",
       "\n",
       "    .dataframe thead th {\n",
       "        text-align: right;\n",
       "    }\n",
       "</style>\n",
       "<table border=\"1\" class=\"dataframe\">\n",
       "  <thead>\n",
       "    <tr style=\"text-align: right;\">\n",
       "      <th></th>\n",
       "      <th>vru.line</th>\n",
       "      <th>ID_call</th>\n",
       "      <th>customer_id</th>\n",
       "      <th>priority</th>\n",
       "      <th>type</th>\n",
       "      <th>Month</th>\n",
       "      <th>Year</th>\n",
       "      <th>VRU_entry_N</th>\n",
       "      <th>VRU_exit_N</th>\n",
       "      <th>VRU_time_N</th>\n",
       "      <th>q_start</th>\n",
       "      <th>q_exit</th>\n",
       "      <th>q_time_REAL</th>\n",
       "      <th>outcome</th>\n",
       "      <th>ser_start</th>\n",
       "      <th>ser_exit</th>\n",
       "      <th>ser_time</th>\n",
       "      <th>server</th>\n",
       "    </tr>\n",
       "  </thead>\n",
       "  <tbody>\n",
       "    <tr>\n",
       "      <th>0</th>\n",
       "      <td>AA0101</td>\n",
       "      <td>AA0101 33116</td>\n",
       "      <td>9664491.0</td>\n",
       "      <td>2</td>\n",
       "      <td>PS</td>\n",
       "      <td>1</td>\n",
       "      <td>1999</td>\n",
       "      <td>2023-11-03 00:00:31</td>\n",
       "      <td>2023-11-03 00:00:36</td>\n",
       "      <td>5</td>\n",
       "      <td>2023-11-03 00:00:36</td>\n",
       "      <td>2023-11-03 00:03:09</td>\n",
       "      <td>63</td>\n",
       "      <td>HANG</td>\n",
       "      <td>2023-11-03 00:00:00</td>\n",
       "      <td>2023-11-03 00:00:00</td>\n",
       "      <td>0</td>\n",
       "      <td>NO_SERVER</td>\n",
       "    </tr>\n",
       "    <tr>\n",
       "      <th>1</th>\n",
       "      <td>AA0101</td>\n",
       "      <td>AA0101 33117</td>\n",
       "      <td>0.0</td>\n",
       "      <td>0</td>\n",
       "      <td>PS</td>\n",
       "      <td>1</td>\n",
       "      <td>1999</td>\n",
       "      <td>2023-11-03 00:34:12</td>\n",
       "      <td>2023-11-03 00:34:23</td>\n",
       "      <td>11</td>\n",
       "      <td>2023-11-03 00:00:00</td>\n",
       "      <td>2023-11-03 00:00:00</td>\n",
       "      <td>0</td>\n",
       "      <td>HANG</td>\n",
       "      <td>2023-11-03 00:00:00</td>\n",
       "      <td>2023-11-03 00:00:00</td>\n",
       "      <td>0</td>\n",
       "      <td>NO_SERVER</td>\n",
       "    </tr>\n",
       "    <tr>\n",
       "      <th>2</th>\n",
       "      <td>AA0101</td>\n",
       "      <td>AA0101 33118</td>\n",
       "      <td>27997683.0</td>\n",
       "      <td>2</td>\n",
       "      <td>PS</td>\n",
       "      <td>1</td>\n",
       "      <td>1999</td>\n",
       "      <td>2023-11-03 06:55:20</td>\n",
       "      <td>2023-11-03 06:55:26</td>\n",
       "      <td>6</td>\n",
       "      <td>2023-11-03 06:55:26</td>\n",
       "      <td>2023-11-03 06:55:43</td>\n",
       "      <td>0</td>\n",
       "      <td>AGENT</td>\n",
       "      <td>2023-11-03 06:55:43</td>\n",
       "      <td>2023-11-03 06:56:37</td>\n",
       "      <td>54</td>\n",
       "      <td>MICHAL</td>\n",
       "    </tr>\n",
       "    <tr>\n",
       "      <th>3</th>\n",
       "      <td>AA0101</td>\n",
       "      <td>AA0101 33119</td>\n",
       "      <td>0.0</td>\n",
       "      <td>0</td>\n",
       "      <td>PS</td>\n",
       "      <td>1</td>\n",
       "      <td>1999</td>\n",
       "      <td>2023-11-03 07:41:16</td>\n",
       "      <td>2023-11-03 07:41:26</td>\n",
       "      <td>10</td>\n",
       "      <td>2023-11-03 00:00:00</td>\n",
       "      <td>2023-11-03 00:00:00</td>\n",
       "      <td>0</td>\n",
       "      <td>AGENT</td>\n",
       "      <td>2023-11-03 07:41:25</td>\n",
       "      <td>2023-11-03 07:44:53</td>\n",
       "      <td>208</td>\n",
       "      <td>BASCH</td>\n",
       "    </tr>\n",
       "    <tr>\n",
       "      <th>4</th>\n",
       "      <td>AA0101</td>\n",
       "      <td>AA0101 33120</td>\n",
       "      <td>0.0</td>\n",
       "      <td>0</td>\n",
       "      <td>PS</td>\n",
       "      <td>1</td>\n",
       "      <td>1999</td>\n",
       "      <td>2023-11-03 08:03:14</td>\n",
       "      <td>2023-11-03 08:03:24</td>\n",
       "      <td>10</td>\n",
       "      <td>2023-11-03 00:00:00</td>\n",
       "      <td>2023-11-03 00:00:00</td>\n",
       "      <td>0</td>\n",
       "      <td>AGENT</td>\n",
       "      <td>2023-11-03 08:03:23</td>\n",
       "      <td>2023-11-03 08:05:10</td>\n",
       "      <td>107</td>\n",
       "      <td>MICHAL</td>\n",
       "    </tr>\n",
       "    <tr>\n",
       "      <th>...</th>\n",
       "      <td>...</td>\n",
       "      <td>...</td>\n",
       "      <td>...</td>\n",
       "      <td>...</td>\n",
       "      <td>...</td>\n",
       "      <td>...</td>\n",
       "      <td>...</td>\n",
       "      <td>...</td>\n",
       "      <td>...</td>\n",
       "      <td>...</td>\n",
       "      <td>...</td>\n",
       "      <td>...</td>\n",
       "      <td>...</td>\n",
       "      <td>...</td>\n",
       "      <td>...</td>\n",
       "      <td>...</td>\n",
       "      <td>...</td>\n",
       "      <td>...</td>\n",
       "    </tr>\n",
       "    <tr>\n",
       "      <th>444443</th>\n",
       "      <td>AA0216</td>\n",
       "      <td>AA0216 17211</td>\n",
       "      <td>0.0</td>\n",
       "      <td>0</td>\n",
       "      <td>IN</td>\n",
       "      <td>12</td>\n",
       "      <td>1999</td>\n",
       "      <td>2023-11-03 13:46:51</td>\n",
       "      <td>2023-11-03 13:47:04</td>\n",
       "      <td>13</td>\n",
       "      <td>2023-11-03 00:00:00</td>\n",
       "      <td>2023-11-03 00:00:00</td>\n",
       "      <td>0</td>\n",
       "      <td>AGENT</td>\n",
       "      <td>2023-11-03 13:47:03</td>\n",
       "      <td>2023-11-03 13:56:16</td>\n",
       "      <td>553</td>\n",
       "      <td>Z2ELINOR</td>\n",
       "    </tr>\n",
       "    <tr>\n",
       "      <th>444444</th>\n",
       "      <td>AA0216</td>\n",
       "      <td>AA0216 17212</td>\n",
       "      <td>0.0</td>\n",
       "      <td>0</td>\n",
       "      <td>IN</td>\n",
       "      <td>12</td>\n",
       "      <td>1999</td>\n",
       "      <td>2023-11-03 13:58:31</td>\n",
       "      <td>2023-11-03 13:58:40</td>\n",
       "      <td>9</td>\n",
       "      <td>2023-11-03 13:58:40</td>\n",
       "      <td>2023-11-03 13:59:49</td>\n",
       "      <td>69</td>\n",
       "      <td>HANG</td>\n",
       "      <td>2023-11-03 00:00:00</td>\n",
       "      <td>2023-11-03 00:00:00</td>\n",
       "      <td>0</td>\n",
       "      <td>NO_SERVER</td>\n",
       "    </tr>\n",
       "    <tr>\n",
       "      <th>444445</th>\n",
       "      <td>AA0216</td>\n",
       "      <td>AA0216 17213</td>\n",
       "      <td>0.0</td>\n",
       "      <td>0</td>\n",
       "      <td>IN</td>\n",
       "      <td>12</td>\n",
       "      <td>1999</td>\n",
       "      <td>2023-11-03 17:10:51</td>\n",
       "      <td>2023-11-03 17:11:12</td>\n",
       "      <td>21</td>\n",
       "      <td>2023-11-03 00:00:00</td>\n",
       "      <td>2023-11-03 00:00:00</td>\n",
       "      <td>0</td>\n",
       "      <td>HANG</td>\n",
       "      <td>2023-11-03 00:00:00</td>\n",
       "      <td>2023-11-03 00:00:00</td>\n",
       "      <td>0</td>\n",
       "      <td>NO_SERVER</td>\n",
       "    </tr>\n",
       "    <tr>\n",
       "      <th>444446</th>\n",
       "      <td>AA0216</td>\n",
       "      <td>AA0216 17214</td>\n",
       "      <td>0.0</td>\n",
       "      <td>0</td>\n",
       "      <td>IN</td>\n",
       "      <td>12</td>\n",
       "      <td>1999</td>\n",
       "      <td>2023-11-03 18:30:19</td>\n",
       "      <td>2023-11-03 18:30:54</td>\n",
       "      <td>35</td>\n",
       "      <td>2023-11-03 00:00:00</td>\n",
       "      <td>2023-11-03 00:00:00</td>\n",
       "      <td>0</td>\n",
       "      <td>HANG</td>\n",
       "      <td>2023-11-03 00:00:00</td>\n",
       "      <td>2023-11-03 00:00:00</td>\n",
       "      <td>0</td>\n",
       "      <td>NO_SERVER</td>\n",
       "    </tr>\n",
       "    <tr>\n",
       "      <th>444447</th>\n",
       "      <td>AA0216</td>\n",
       "      <td>AA0216 17215</td>\n",
       "      <td>0.0</td>\n",
       "      <td>0</td>\n",
       "      <td>IN</td>\n",
       "      <td>12</td>\n",
       "      <td>1999</td>\n",
       "      <td>2023-11-03 22:23:35</td>\n",
       "      <td>2023-11-03 22:23:45</td>\n",
       "      <td>10</td>\n",
       "      <td>2023-11-03 00:00:00</td>\n",
       "      <td>2023-11-03 00:00:00</td>\n",
       "      <td>0</td>\n",
       "      <td>HANG</td>\n",
       "      <td>2023-11-03 00:00:00</td>\n",
       "      <td>2023-11-03 00:00:00</td>\n",
       "      <td>0</td>\n",
       "      <td>NO_SERVER</td>\n",
       "    </tr>\n",
       "  </tbody>\n",
       "</table>\n",
       "<p>444226 rows × 18 columns</p>\n",
       "</div>"
      ],
      "text/plain": [
       "       vru.line       ID_call customer_id priority type  Month  Year  \\\n",
       "0        AA0101  AA0101 33116   9664491.0        2   PS      1  1999   \n",
       "1        AA0101  AA0101 33117         0.0        0   PS      1  1999   \n",
       "2        AA0101  AA0101 33118  27997683.0        2   PS      1  1999   \n",
       "3        AA0101  AA0101 33119         0.0        0   PS      1  1999   \n",
       "4        AA0101  AA0101 33120         0.0        0   PS      1  1999   \n",
       "...         ...           ...         ...      ...  ...    ...   ...   \n",
       "444443   AA0216  AA0216 17211         0.0        0   IN     12  1999   \n",
       "444444   AA0216  AA0216 17212         0.0        0   IN     12  1999   \n",
       "444445   AA0216  AA0216 17213         0.0        0   IN     12  1999   \n",
       "444446   AA0216  AA0216 17214         0.0        0   IN     12  1999   \n",
       "444447   AA0216  AA0216 17215         0.0        0   IN     12  1999   \n",
       "\n",
       "               VRU_entry_N          VRU_exit_N  VRU_time_N  \\\n",
       "0      2023-11-03 00:00:31 2023-11-03 00:00:36           5   \n",
       "1      2023-11-03 00:34:12 2023-11-03 00:34:23          11   \n",
       "2      2023-11-03 06:55:20 2023-11-03 06:55:26           6   \n",
       "3      2023-11-03 07:41:16 2023-11-03 07:41:26          10   \n",
       "4      2023-11-03 08:03:14 2023-11-03 08:03:24          10   \n",
       "...                    ...                 ...         ...   \n",
       "444443 2023-11-03 13:46:51 2023-11-03 13:47:04          13   \n",
       "444444 2023-11-03 13:58:31 2023-11-03 13:58:40           9   \n",
       "444445 2023-11-03 17:10:51 2023-11-03 17:11:12          21   \n",
       "444446 2023-11-03 18:30:19 2023-11-03 18:30:54          35   \n",
       "444447 2023-11-03 22:23:35 2023-11-03 22:23:45          10   \n",
       "\n",
       "                   q_start              q_exit  q_time_REAL outcome  \\\n",
       "0      2023-11-03 00:00:36 2023-11-03 00:03:09           63    HANG   \n",
       "1      2023-11-03 00:00:00 2023-11-03 00:00:00            0    HANG   \n",
       "2      2023-11-03 06:55:26 2023-11-03 06:55:43            0   AGENT   \n",
       "3      2023-11-03 00:00:00 2023-11-03 00:00:00            0   AGENT   \n",
       "4      2023-11-03 00:00:00 2023-11-03 00:00:00            0   AGENT   \n",
       "...                    ...                 ...          ...     ...   \n",
       "444443 2023-11-03 00:00:00 2023-11-03 00:00:00            0   AGENT   \n",
       "444444 2023-11-03 13:58:40 2023-11-03 13:59:49           69    HANG   \n",
       "444445 2023-11-03 00:00:00 2023-11-03 00:00:00            0    HANG   \n",
       "444446 2023-11-03 00:00:00 2023-11-03 00:00:00            0    HANG   \n",
       "444447 2023-11-03 00:00:00 2023-11-03 00:00:00            0    HANG   \n",
       "\n",
       "                 ser_start            ser_exit  ser_time     server  \n",
       "0      2023-11-03 00:00:00 2023-11-03 00:00:00         0  NO_SERVER  \n",
       "1      2023-11-03 00:00:00 2023-11-03 00:00:00         0  NO_SERVER  \n",
       "2      2023-11-03 06:55:43 2023-11-03 06:56:37        54     MICHAL  \n",
       "3      2023-11-03 07:41:25 2023-11-03 07:44:53       208      BASCH  \n",
       "4      2023-11-03 08:03:23 2023-11-03 08:05:10       107     MICHAL  \n",
       "...                    ...                 ...       ...        ...  \n",
       "444443 2023-11-03 13:47:03 2023-11-03 13:56:16       553   Z2ELINOR  \n",
       "444444 2023-11-03 00:00:00 2023-11-03 00:00:00         0  NO_SERVER  \n",
       "444445 2023-11-03 00:00:00 2023-11-03 00:00:00         0  NO_SERVER  \n",
       "444446 2023-11-03 00:00:00 2023-11-03 00:00:00         0  NO_SERVER  \n",
       "444447 2023-11-03 00:00:00 2023-11-03 00:00:00         0  NO_SERVER  \n",
       "\n",
       "[444226 rows x 18 columns]"
      ]
     },
     "execution_count": 100,
     "metadata": {},
     "output_type": "execute_result"
    }
   ],
   "source": [
    "df_center\n"
   ]
  },
  {
   "cell_type": "markdown",
   "metadata": {},
   "source": [
    "_________________"
   ]
  },
  {
   "cell_type": "markdown",
   "metadata": {},
   "source": [
    "### - ser_start y ser_exit (Tiempo de Servicio)"
   ]
  },
  {
   "cell_type": "markdown",
   "metadata": {},
   "source": [
    "Se observan la frecuencia de llamadas por horas"
   ]
  },
  {
   "cell_type": "code",
   "execution_count": 101,
   "metadata": {},
   "outputs": [
    {
     "data": {
      "image/png": "[encoded data removed]",
      "text/plain": [
       "<Figure size 1000x400 with 2 Axes>"
      ]
     },
     "metadata": {},
     "output_type": "display_data"
    }
   ],
   "source": [
    "fig, (ax1, ax2) = plt.subplots(1, 2, figsize=(10, 4), sharey=True)\n",
    "sns.histplot(data=df_center, x=(df_center['ser_start'] - df_center['ser_start'].dt.normalize()) / pd.Timedelta(hours=1), bins=24, kde=True, ax=ax1)\n",
    "sns.histplot(data=df_center, x=(df_center['ser_exit'] - df_center['ser_exit'].dt.normalize()) / pd.Timedelta(hours=1), bins=24, kde=True, ax=ax2)\n",
    "\n",
    "ax1.set_xlabel('ser_start') ; ax1.set_ylabel('Count')\n",
    "ax2.set_xlabel('ser_exit')\n",
    "plt.suptitle('Histograma de Tiempo de Servicio')\n",
    "plt.tight_layout()\n",
    "plt.show()"
   ]
  },
  {
   "cell_type": "code",
   "execution_count": 102,
   "metadata": {},
   "outputs": [
    {
     "name": "stdout",
     "output_type": "stream",
     "text": [
      "Cantidad de valores 00:00:00:  86999\n",
      "Porcentaje sobre el total: 19.58\n"
     ]
    }
   ],
   "source": [
    "count_midnight = (df_center['ser_start'].dt.time == pd.to_datetime('00:00:00').time()).sum()\n",
    "perc_midnight = round(count_midnight/df_center['ser_start'].count()*100, 2)\n",
    "print('Cantidad de valores 00:00:00: ', count_midnight)\n",
    "print('Porcentaje sobre el total:', perc_midnight)"
   ]
  },
  {
   "cell_type": "markdown",
   "metadata": {},
   "source": [
    "Se observa que en el caso de clientes que abandonan la llamada es mucho menos cuando ya los atienden que cuando están en la cola de espera, estos son 86999 clientes que representan cerca del 20% de las llamadas."
   ]
  },
  {
   "cell_type": "markdown",
   "metadata": {},
   "source": [
    "### - ser_time"
   ]
  },
  {
   "cell_type": "markdown",
   "metadata": {},
   "source": [
    "Se grafica la dispersion de las llamadas"
   ]
  },
  {
   "cell_type": "code",
   "execution_count": 104,
   "metadata": {},
   "outputs": [
    {
     "data": {
      "image/png": "[encoded data removed]",
      "text/plain": [
       "<Figure size 1400x600 with 3 Axes>"
      ]
     },
     "metadata": {},
     "output_type": "display_data"
    }
   ],
   "source": [
    "\n",
    "fig = plt.figure(figsize=(14, 6))\n",
    "\n",
    "ax1 = fig.add_subplot(311)\n",
    "sns.stripplot(data=df_center, x='ser_time', ax=ax1)\n",
    "ax1.set_xlabel('time (seconds)') ; ax1.set_ylabel('stripplot') ; ax1.set_title('Stripplot de Tiempo de Servicio(ser_time)')\n",
    "\n",
    "ax2 = fig.add_subplot(312, sharex=ax1)\n",
    "sns.boxplot(data=df_center, x='ser_time', ax=ax2)\n",
    "ax2.set_xlabel('time (seconds)') ; ax2.set_ylabel('boxplot')\n",
    "\n",
    "ax3 = fig.add_subplot(313)\n",
    "sns.boxplot(data=df_center[df_center['ser_time'] < 30], x='ser_time', ax=ax3)\n",
    "ax3.set_xlabel('time (seconds)') ; ax3.set_ylabel('boxplot detail') ; ax3.set_title('Zoomed Boxplot de Valores < 30 seconds')\n",
    "\n",
    "plt.tight_layout()"
   ]
  },
  {
   "cell_type": "code",
   "execution_count": 105,
   "metadata": {},
   "outputs": [
    {
     "name": "stdout",
     "output_type": "stream",
     "text": [
      "Cantidad de valores de 0 segundos:  87709\n",
      "Porcentaje sobre el total: 19.74 %\n"
     ]
    }
   ],
   "source": [
    "zero_count = (df_center['ser_time'] == 0).sum()\n",
    "perc_zero = round(zero_count/df_center['ser_time'].count()*100,2)\n",
    "print('Cantidad de valores de 0 segundos: ', zero_count)\n",
    "print('Porcentaje sobre el total:', perc_zero, '%')"
   ]
  },
  {
   "cell_type": "code",
   "execution_count": 108,
   "metadata": {},
   "outputs": [
    {
     "name": "stdout",
     "output_type": "stream",
     "text": [
      "Cantidad de valores outlier sobre 25000 segundos:  3\n",
      "Porcentaje sobre el total: 0.0 %\n"
     ]
    }
   ],
   "source": [
    "outlier_count = (df_center['ser_time'] > 20000).sum()\n",
    "perc_outlier = round(outlier_count/df_center['ser_time'].count()*100,2)\n",
    "print('Cantidad de valores outlier sobre 25000 segundos: ', outlier_count)\n",
    "print('Porcentaje sobre el total:', perc_outlier, '%')"
   ]
  },
  {
   "cell_type": "code",
   "execution_count": 107,
   "metadata": {},
   "outputs": [
    {
     "name": "stdout",
     "output_type": "stream",
     "text": [
      "Cantidad de valores outlier sobre 1000 segundos:  5790\n",
      "Porcentaje sobre el total: 1.3 %\n"
     ]
    }
   ],
   "source": [
    "outlier_count = (df_center['ser_time'] > 1000).sum()\n",
    "perc_outlier = round(outlier_count/df_center['ser_time'].count()*100,2)\n",
    "print('Cantidad de valores outlier sobre 1000 segundos: ', outlier_count)\n",
    "print('Porcentaje sobre el total:', perc_outlier, '%')"
   ]
  },
  {
   "cell_type": "markdown",
   "metadata": {},
   "source": [
    "al lo visto en ser_start y ser_exit, hay valores de duración 0 que representan cerca del 20% de las llamadas. Por otra parte, tal lo observado anteriormente, se observan 3 valores claramente atípicos, con duración de mas de 25000 segundos. Y siguiendo con el razonamiento anteriormente planteado, se observa que las llamadas de mas de 1000 segundos son poco viables y representan el 1.3% de los datos. Por lo tanto, se decide borrar estos valores."
   ]
  },
  {
   "cell_type": "code",
   "execution_count": 109,
   "metadata": {},
   "outputs": [],
   "source": [
    "df_center.drop(df_center[df_center['ser_time'] > 1000].index, inplace=True)"
   ]
  },
  {
   "cell_type": "code",
   "execution_count": 237,
   "metadata": {},
   "outputs": [
    {
     "data": {
      "text/plain": [
       "0"
      ]
     },
     "execution_count": 237,
     "metadata": {},
     "output_type": "execute_result"
    }
   ],
   "source": [
    "df_center = df_center[df_center['ser_time'] <= 1000]\n",
    "(df_center['ser_time'] > 1000).sum()"
   ]
  },
  {
   "cell_type": "code",
   "execution_count": 110,
   "metadata": {},
   "outputs": [
    {
     "data": {
      "text/plain": [
       "count    438436.000000\n",
       "mean        133.679093\n",
       "std         165.009067\n",
       "min           0.000000\n",
       "25%          10.000000\n",
       "50%          82.000000\n",
       "75%         178.000000\n",
       "max        1000.000000\n",
       "Name: ser_time, dtype: float64"
      ]
     },
     "execution_count": 110,
     "metadata": {},
     "output_type": "execute_result"
    }
   ],
   "source": [
    "df_center['ser_time'].describe()"
   ]
  },
  {
   "cell_type": "markdown",
   "metadata": {},
   "source": [
    "El 75% de los llamados tienen tiempos de servicio menores a 178 segundos con una media de 133 segundos."
   ]
  },
  {
   "cell_type": "markdown",
   "metadata": {},
   "source": [
    "_____\n"
   ]
  },
  {
   "cell_type": "markdown",
   "metadata": {},
   "source": [
    "### - outcome"
   ]
  },
  {
   "cell_type": "markdown",
   "metadata": {},
   "source": [
    "Hay tres posibles salidas por cada llamada:</br>\n",
    "1. AGENT: se dio servicio</br>\n",
    "2. HANG: se cortó la llamada y no se dió servicio</br>\n",
    "3. PHANTOM: una llamada en la que virtualmente se ignora lo que sucedió"
   ]
  },
  {
   "cell_type": "code",
   "execution_count": 111,
   "metadata": {},
   "outputs": [
    {
     "data": {
      "text/plain": [
       "outcome\n",
       "AGENT      79.22\n",
       "HANG       19.96\n",
       "PHANTOM     0.82\n",
       "Name: count, dtype: float64"
      ]
     },
     "execution_count": 111,
     "metadata": {},
     "output_type": "execute_result"
    }
   ],
   "source": [
    "round(((df_center['outcome'].value_counts() / len(df_center)) * 100),2)"
   ]
  },
  {
   "cell_type": "markdown",
   "metadata": {},
   "source": [
    "Conclusion: 3 categorías AGENT: se dio servicio. 79% de las llamadas.\n",
    " Alrededor del 20% son llamados donde el cliente cortó o no se dio el servicio."
   ]
  },
  {
   "cell_type": "markdown",
   "metadata": {},
   "source": [
    "### - Server"
   ]
  },
  {
   "cell_type": "code",
   "execution_count": 117,
   "metadata": {},
   "outputs": [
    {
     "data": {
      "text/plain": [
       "server\n",
       "NO_SERVER       96301\n",
       "SHARON          27350\n",
       "STEREN          20338\n",
       "AVNI            19787\n",
       "MORIAH          19422\n",
       "AVI             19366\n",
       "KAZAV           18527\n",
       "YITZ            16962\n",
       "TOVA            16957\n",
       "BASCH           15456\n",
       "ROTH            14985\n",
       "ZOHARI          14965\n",
       "BENSION         13660\n",
       "VICKY           12990\n",
       "DORIT           12729\n",
       "YIFAT           11962\n",
       "ANAT             8625\n",
       "GILI             7226\n",
       "MIKI             6742\n",
       "IDIT             6672\n",
       "ZIPI             6212\n",
       "AVIDAN           5168\n",
       "ELI              5054\n",
       "NAAMA            4602\n",
       "DARMON           4554\n",
       "GOLDIE           4021\n",
       "GELBER           3924\n",
       "SHLOMO           3208\n",
       "MICHAL           2813\n",
       "PINHAS           1916\n",
       "MEIR             1901\n",
       "Z2EYAL           1869\n",
       "Z2NIRIT          1680\n",
       "Z2ARIE           1360\n",
       "BRUHI            1150\n",
       "Z2ELINOR         1068\n",
       "MOTI             1038\n",
       "Z2OFERZ           981\n",
       "NO_SERVERAMA      881\n",
       "Z2IFAT            791\n",
       "TALI              758\n",
       "Z2LIOR            601\n",
       "Z2SPIEGEL         421\n",
       "MOSHE             368\n",
       "ANO_SERVERT       332\n",
       "Z2OFER            281\n",
       "LORI              202\n",
       "Z2ASSAF           119\n",
       "Z1GOLDIE           66\n",
       "Z2ASAF             51\n",
       "DAVID              18\n",
       "Z1SPIEGEL           4\n",
       "EXPRESS             2\n",
       "Name: count, dtype: int64"
      ]
     },
     "execution_count": 117,
     "metadata": {},
     "output_type": "execute_result"
    }
   ],
   "source": [
    "df_center['server'].value_counts()"
   ]
  },
  {
   "cell_type": "code",
   "execution_count": 119,
   "metadata": {},
   "outputs": [
    {
     "data": {
      "text/html": [
       "<div>\n",
       "<style scoped>\n",
       "    .dataframe tbody tr th:only-of-type {\n",
       "        vertical-align: middle;\n",
       "    }\n",
       "\n",
       "    .dataframe tbody tr th {\n",
       "        vertical-align: top;\n",
       "    }\n",
       "\n",
       "    .dataframe thead th {\n",
       "        text-align: right;\n",
       "    }\n",
       "</style>\n",
       "<table border=\"1\" class=\"dataframe\">\n",
       "  <thead>\n",
       "    <tr style=\"text-align: right;\">\n",
       "      <th></th>\n",
       "      <th>vru.line</th>\n",
       "      <th>ID_call</th>\n",
       "      <th>customer_id</th>\n",
       "      <th>priority</th>\n",
       "      <th>type</th>\n",
       "      <th>Month</th>\n",
       "      <th>Year</th>\n",
       "      <th>VRU_entry_N</th>\n",
       "      <th>VRU_exit_N</th>\n",
       "      <th>VRU_time_N</th>\n",
       "      <th>q_start</th>\n",
       "      <th>q_exit</th>\n",
       "      <th>q_time_REAL</th>\n",
       "      <th>outcome</th>\n",
       "      <th>ser_start</th>\n",
       "      <th>ser_exit</th>\n",
       "      <th>ser_time</th>\n",
       "      <th>server</th>\n",
       "    </tr>\n",
       "  </thead>\n",
       "  <tbody>\n",
       "    <tr>\n",
       "      <th>0</th>\n",
       "      <td>AA0101</td>\n",
       "      <td>AA0101 33116</td>\n",
       "      <td>9664491.0</td>\n",
       "      <td>2</td>\n",
       "      <td>PS</td>\n",
       "      <td>1</td>\n",
       "      <td>1999</td>\n",
       "      <td>2023-11-03 00:00:31</td>\n",
       "      <td>2023-11-03 00:00:36</td>\n",
       "      <td>5</td>\n",
       "      <td>2023-11-03 00:00:36</td>\n",
       "      <td>2023-11-03 00:03:09</td>\n",
       "      <td>63</td>\n",
       "      <td>HANG</td>\n",
       "      <td>2023-11-03 00:00:00</td>\n",
       "      <td>2023-11-03 00:00:00</td>\n",
       "      <td>0</td>\n",
       "      <td>NO_SERVER</td>\n",
       "    </tr>\n",
       "    <tr>\n",
       "      <th>1</th>\n",
       "      <td>AA0101</td>\n",
       "      <td>AA0101 33117</td>\n",
       "      <td>0.0</td>\n",
       "      <td>0</td>\n",
       "      <td>PS</td>\n",
       "      <td>1</td>\n",
       "      <td>1999</td>\n",
       "      <td>2023-11-03 00:34:12</td>\n",
       "      <td>2023-11-03 00:34:23</td>\n",
       "      <td>11</td>\n",
       "      <td>2023-11-03 00:00:00</td>\n",
       "      <td>2023-11-03 00:00:00</td>\n",
       "      <td>0</td>\n",
       "      <td>HANG</td>\n",
       "      <td>2023-11-03 00:00:00</td>\n",
       "      <td>2023-11-03 00:00:00</td>\n",
       "      <td>0</td>\n",
       "      <td>NO_SERVER</td>\n",
       "    </tr>\n",
       "    <tr>\n",
       "      <th>18</th>\n",
       "      <td>AA0101</td>\n",
       "      <td>AA0101 33134</td>\n",
       "      <td>0.0</td>\n",
       "      <td>0</td>\n",
       "      <td>PS</td>\n",
       "      <td>1</td>\n",
       "      <td>1999</td>\n",
       "      <td>2023-11-03 11:07:30</td>\n",
       "      <td>2023-11-03 11:07:38</td>\n",
       "      <td>8</td>\n",
       "      <td>2023-11-03 00:00:00</td>\n",
       "      <td>2023-11-03 00:00:00</td>\n",
       "      <td>0</td>\n",
       "      <td>AGENT</td>\n",
       "      <td>2023-11-03 11:07:43</td>\n",
       "      <td>2023-11-03 11:07:46</td>\n",
       "      <td>3</td>\n",
       "      <td>NO_SERVER</td>\n",
       "    </tr>\n",
       "    <tr>\n",
       "      <th>25</th>\n",
       "      <td>AA0101</td>\n",
       "      <td>AA0101 33141</td>\n",
       "      <td>27347905.0</td>\n",
       "      <td>1</td>\n",
       "      <td>PS</td>\n",
       "      <td>1</td>\n",
       "      <td>1999</td>\n",
       "      <td>2023-11-03 13:12:08</td>\n",
       "      <td>2023-11-03 13:12:13</td>\n",
       "      <td>5</td>\n",
       "      <td>2023-11-03 13:12:13</td>\n",
       "      <td>2023-11-03 13:14:05</td>\n",
       "      <td>112</td>\n",
       "      <td>HANG</td>\n",
       "      <td>2023-11-03 00:00:00</td>\n",
       "      <td>2023-11-03 00:00:00</td>\n",
       "      <td>0</td>\n",
       "      <td>NO_SERVER</td>\n",
       "    </tr>\n",
       "    <tr>\n",
       "      <th>28</th>\n",
       "      <td>AA0101</td>\n",
       "      <td>AA0101 33144</td>\n",
       "      <td>0.0</td>\n",
       "      <td>0</td>\n",
       "      <td>PS</td>\n",
       "      <td>1</td>\n",
       "      <td>1999</td>\n",
       "      <td>2023-11-03 14:07:17</td>\n",
       "      <td>2023-11-03 14:07:34</td>\n",
       "      <td>17</td>\n",
       "      <td>2023-11-03 00:00:00</td>\n",
       "      <td>2023-11-03 00:00:00</td>\n",
       "      <td>0</td>\n",
       "      <td>HANG</td>\n",
       "      <td>2023-11-03 00:00:00</td>\n",
       "      <td>2023-11-03 00:00:00</td>\n",
       "      <td>0</td>\n",
       "      <td>NO_SERVER</td>\n",
       "    </tr>\n",
       "    <tr>\n",
       "      <th>...</th>\n",
       "      <td>...</td>\n",
       "      <td>...</td>\n",
       "      <td>...</td>\n",
       "      <td>...</td>\n",
       "      <td>...</td>\n",
       "      <td>...</td>\n",
       "      <td>...</td>\n",
       "      <td>...</td>\n",
       "      <td>...</td>\n",
       "      <td>...</td>\n",
       "      <td>...</td>\n",
       "      <td>...</td>\n",
       "      <td>...</td>\n",
       "      <td>...</td>\n",
       "      <td>...</td>\n",
       "      <td>...</td>\n",
       "      <td>...</td>\n",
       "      <td>...</td>\n",
       "    </tr>\n",
       "    <tr>\n",
       "      <th>444442</th>\n",
       "      <td>AA0216</td>\n",
       "      <td>AA0216 17210</td>\n",
       "      <td>0.0</td>\n",
       "      <td>0</td>\n",
       "      <td>IN</td>\n",
       "      <td>12</td>\n",
       "      <td>1999</td>\n",
       "      <td>2023-11-03 13:26:23</td>\n",
       "      <td>2023-11-03 13:26:33</td>\n",
       "      <td>10</td>\n",
       "      <td>2023-11-03 13:26:33</td>\n",
       "      <td>2023-11-03 13:27:26</td>\n",
       "      <td>53</td>\n",
       "      <td>HANG</td>\n",
       "      <td>2023-11-03 00:00:00</td>\n",
       "      <td>2023-11-03 00:00:00</td>\n",
       "      <td>0</td>\n",
       "      <td>NO_SERVER</td>\n",
       "    </tr>\n",
       "    <tr>\n",
       "      <th>444444</th>\n",
       "      <td>AA0216</td>\n",
       "      <td>AA0216 17212</td>\n",
       "      <td>0.0</td>\n",
       "      <td>0</td>\n",
       "      <td>IN</td>\n",
       "      <td>12</td>\n",
       "      <td>1999</td>\n",
       "      <td>2023-11-03 13:58:31</td>\n",
       "      <td>2023-11-03 13:58:40</td>\n",
       "      <td>9</td>\n",
       "      <td>2023-11-03 13:58:40</td>\n",
       "      <td>2023-11-03 13:59:49</td>\n",
       "      <td>69</td>\n",
       "      <td>HANG</td>\n",
       "      <td>2023-11-03 00:00:00</td>\n",
       "      <td>2023-11-03 00:00:00</td>\n",
       "      <td>0</td>\n",
       "      <td>NO_SERVER</td>\n",
       "    </tr>\n",
       "    <tr>\n",
       "      <th>444445</th>\n",
       "      <td>AA0216</td>\n",
       "      <td>AA0216 17213</td>\n",
       "      <td>0.0</td>\n",
       "      <td>0</td>\n",
       "      <td>IN</td>\n",
       "      <td>12</td>\n",
       "      <td>1999</td>\n",
       "      <td>2023-11-03 17:10:51</td>\n",
       "      <td>2023-11-03 17:11:12</td>\n",
       "      <td>21</td>\n",
       "      <td>2023-11-03 00:00:00</td>\n",
       "      <td>2023-11-03 00:00:00</td>\n",
       "      <td>0</td>\n",
       "      <td>HANG</td>\n",
       "      <td>2023-11-03 00:00:00</td>\n",
       "      <td>2023-11-03 00:00:00</td>\n",
       "      <td>0</td>\n",
       "      <td>NO_SERVER</td>\n",
       "    </tr>\n",
       "    <tr>\n",
       "      <th>444446</th>\n",
       "      <td>AA0216</td>\n",
       "      <td>AA0216 17214</td>\n",
       "      <td>0.0</td>\n",
       "      <td>0</td>\n",
       "      <td>IN</td>\n",
       "      <td>12</td>\n",
       "      <td>1999</td>\n",
       "      <td>2023-11-03 18:30:19</td>\n",
       "      <td>2023-11-03 18:30:54</td>\n",
       "      <td>35</td>\n",
       "      <td>2023-11-03 00:00:00</td>\n",
       "      <td>2023-11-03 00:00:00</td>\n",
       "      <td>0</td>\n",
       "      <td>HANG</td>\n",
       "      <td>2023-11-03 00:00:00</td>\n",
       "      <td>2023-11-03 00:00:00</td>\n",
       "      <td>0</td>\n",
       "      <td>NO_SERVER</td>\n",
       "    </tr>\n",
       "    <tr>\n",
       "      <th>444447</th>\n",
       "      <td>AA0216</td>\n",
       "      <td>AA0216 17215</td>\n",
       "      <td>0.0</td>\n",
       "      <td>0</td>\n",
       "      <td>IN</td>\n",
       "      <td>12</td>\n",
       "      <td>1999</td>\n",
       "      <td>2023-11-03 22:23:35</td>\n",
       "      <td>2023-11-03 22:23:45</td>\n",
       "      <td>10</td>\n",
       "      <td>2023-11-03 00:00:00</td>\n",
       "      <td>2023-11-03 00:00:00</td>\n",
       "      <td>0</td>\n",
       "      <td>HANG</td>\n",
       "      <td>2023-11-03 00:00:00</td>\n",
       "      <td>2023-11-03 00:00:00</td>\n",
       "      <td>0</td>\n",
       "      <td>NO_SERVER</td>\n",
       "    </tr>\n",
       "  </tbody>\n",
       "</table>\n",
       "<p>96301 rows × 18 columns</p>\n",
       "</div>"
      ],
      "text/plain": [
       "       vru.line       ID_call customer_id priority type  Month  Year  \\\n",
       "0        AA0101  AA0101 33116   9664491.0        2   PS      1  1999   \n",
       "1        AA0101  AA0101 33117         0.0        0   PS      1  1999   \n",
       "18       AA0101  AA0101 33134         0.0        0   PS      1  1999   \n",
       "25       AA0101  AA0101 33141  27347905.0        1   PS      1  1999   \n",
       "28       AA0101  AA0101 33144         0.0        0   PS      1  1999   \n",
       "...         ...           ...         ...      ...  ...    ...   ...   \n",
       "444442   AA0216  AA0216 17210         0.0        0   IN     12  1999   \n",
       "444444   AA0216  AA0216 17212         0.0        0   IN     12  1999   \n",
       "444445   AA0216  AA0216 17213         0.0        0   IN     12  1999   \n",
       "444446   AA0216  AA0216 17214         0.0        0   IN     12  1999   \n",
       "444447   AA0216  AA0216 17215         0.0        0   IN     12  1999   \n",
       "\n",
       "               VRU_entry_N          VRU_exit_N  VRU_time_N  \\\n",
       "0      2023-11-03 00:00:31 2023-11-03 00:00:36           5   \n",
       "1      2023-11-03 00:34:12 2023-11-03 00:34:23          11   \n",
       "18     2023-11-03 11:07:30 2023-11-03 11:07:38           8   \n",
       "25     2023-11-03 13:12:08 2023-11-03 13:12:13           5   \n",
       "28     2023-11-03 14:07:17 2023-11-03 14:07:34          17   \n",
       "...                    ...                 ...         ...   \n",
       "444442 2023-11-03 13:26:23 2023-11-03 13:26:33          10   \n",
       "444444 2023-11-03 13:58:31 2023-11-03 13:58:40           9   \n",
       "444445 2023-11-03 17:10:51 2023-11-03 17:11:12          21   \n",
       "444446 2023-11-03 18:30:19 2023-11-03 18:30:54          35   \n",
       "444447 2023-11-03 22:23:35 2023-11-03 22:23:45          10   \n",
       "\n",
       "                   q_start              q_exit  q_time_REAL outcome  \\\n",
       "0      2023-11-03 00:00:36 2023-11-03 00:03:09           63    HANG   \n",
       "1      2023-11-03 00:00:00 2023-11-03 00:00:00            0    HANG   \n",
       "18     2023-11-03 00:00:00 2023-11-03 00:00:00            0   AGENT   \n",
       "25     2023-11-03 13:12:13 2023-11-03 13:14:05          112    HANG   \n",
       "28     2023-11-03 00:00:00 2023-11-03 00:00:00            0    HANG   \n",
       "...                    ...                 ...          ...     ...   \n",
       "444442 2023-11-03 13:26:33 2023-11-03 13:27:26           53    HANG   \n",
       "444444 2023-11-03 13:58:40 2023-11-03 13:59:49           69    HANG   \n",
       "444445 2023-11-03 00:00:00 2023-11-03 00:00:00            0    HANG   \n",
       "444446 2023-11-03 00:00:00 2023-11-03 00:00:00            0    HANG   \n",
       "444447 2023-11-03 00:00:00 2023-11-03 00:00:00            0    HANG   \n",
       "\n",
       "                 ser_start            ser_exit  ser_time     server  \n",
       "0      2023-11-03 00:00:00 2023-11-03 00:00:00         0  NO_SERVER  \n",
       "1      2023-11-03 00:00:00 2023-11-03 00:00:00         0  NO_SERVER  \n",
       "18     2023-11-03 11:07:43 2023-11-03 11:07:46         3  NO_SERVER  \n",
       "25     2023-11-03 00:00:00 2023-11-03 00:00:00         0  NO_SERVER  \n",
       "28     2023-11-03 00:00:00 2023-11-03 00:00:00         0  NO_SERVER  \n",
       "...                    ...                 ...       ...        ...  \n",
       "444442 2023-11-03 00:00:00 2023-11-03 00:00:00         0  NO_SERVER  \n",
       "444444 2023-11-03 00:00:00 2023-11-03 00:00:00         0  NO_SERVER  \n",
       "444445 2023-11-03 00:00:00 2023-11-03 00:00:00         0  NO_SERVER  \n",
       "444446 2023-11-03 00:00:00 2023-11-03 00:00:00         0  NO_SERVER  \n",
       "444447 2023-11-03 00:00:00 2023-11-03 00:00:00         0  NO_SERVER  \n",
       "\n",
       "[96301 rows x 18 columns]"
      ]
     },
     "execution_count": 119,
     "metadata": {},
     "output_type": "execute_result"
    }
   ],
   "source": [
    "df_no_server = df_center[df_center['server'] == 'NO_SERVER']\n",
    "df_no_server"
   ]
  },
  {
   "cell_type": "markdown",
   "metadata": {},
   "source": [
    "Se observan 96301 registros NO_SERVER. Por lo que se considera una columna dudosa, se la deberia eliminar, pero al observar que hay con prioridad =2 se la dejará para no interferir en otros analisis, y porque no hay nulos."
   ]
  },
  {
   "cell_type": "code",
   "execution_count": 240,
   "metadata": {},
   "outputs": [],
   "source": [
    "\n",
    "#df_center = df_center.drop('server', axis=1)"
   ]
  },
  {
   "cell_type": "markdown",
   "metadata": {},
   "source": [
    "## Guardamos en un CSV"
   ]
  },
  {
   "cell_type": "code",
   "execution_count": 120,
   "metadata": {},
   "outputs": [
    {
     "name": "stdout",
     "output_type": "stream",
     "text": [
      "guardado Center_limpio_eda.csv'\n"
     ]
    }
   ],
   "source": [
    "df_center.to_csv('Center_limpio_eda.csv', index=False)\n",
    "print(\"guardado Center_limpio_eda.csv'\")"
   ]
  },
  {
   "cell_type": "code",
   "execution_count": 121,
   "metadata": {},
   "outputs": [
    {
     "data": {
      "text/html": [
       "<div>\n",
       "<style scoped>\n",
       "    .dataframe tbody tr th:only-of-type {\n",
       "        vertical-align: middle;\n",
       "    }\n",
       "\n",
       "    .dataframe tbody tr th {\n",
       "        vertical-align: top;\n",
       "    }\n",
       "\n",
       "    .dataframe thead th {\n",
       "        text-align: right;\n",
       "    }\n",
       "</style>\n",
       "<table border=\"1\" class=\"dataframe\">\n",
       "  <thead>\n",
       "    <tr style=\"text-align: right;\">\n",
       "      <th></th>\n",
       "      <th>vru.line</th>\n",
       "      <th>ID_call</th>\n",
       "      <th>customer_id</th>\n",
       "      <th>priority</th>\n",
       "      <th>type</th>\n",
       "      <th>Month</th>\n",
       "      <th>Year</th>\n",
       "      <th>VRU_entry_N</th>\n",
       "      <th>VRU_exit_N</th>\n",
       "      <th>VRU_time_N</th>\n",
       "      <th>q_start</th>\n",
       "      <th>q_exit</th>\n",
       "      <th>q_time_REAL</th>\n",
       "      <th>outcome</th>\n",
       "      <th>ser_start</th>\n",
       "      <th>ser_exit</th>\n",
       "      <th>ser_time</th>\n",
       "      <th>server</th>\n",
       "    </tr>\n",
       "  </thead>\n",
       "  <tbody>\n",
       "    <tr>\n",
       "      <th>0</th>\n",
       "      <td>AA0101</td>\n",
       "      <td>AA0101 33116</td>\n",
       "      <td>9664491.0</td>\n",
       "      <td>2</td>\n",
       "      <td>PS</td>\n",
       "      <td>1</td>\n",
       "      <td>1999</td>\n",
       "      <td>2023-11-03 00:00:31</td>\n",
       "      <td>2023-11-03 00:00:36</td>\n",
       "      <td>5</td>\n",
       "      <td>2023-11-03 00:00:36</td>\n",
       "      <td>2023-11-03 00:03:09</td>\n",
       "      <td>63</td>\n",
       "      <td>HANG</td>\n",
       "      <td>2023-11-03 00:00:00</td>\n",
       "      <td>2023-11-03 00:00:00</td>\n",
       "      <td>0</td>\n",
       "      <td>NO_SERVER</td>\n",
       "    </tr>\n",
       "    <tr>\n",
       "      <th>1</th>\n",
       "      <td>AA0101</td>\n",
       "      <td>AA0101 33117</td>\n",
       "      <td>0.0</td>\n",
       "      <td>0</td>\n",
       "      <td>PS</td>\n",
       "      <td>1</td>\n",
       "      <td>1999</td>\n",
       "      <td>2023-11-03 00:34:12</td>\n",
       "      <td>2023-11-03 00:34:23</td>\n",
       "      <td>11</td>\n",
       "      <td>2023-11-03 00:00:00</td>\n",
       "      <td>2023-11-03 00:00:00</td>\n",
       "      <td>0</td>\n",
       "      <td>HANG</td>\n",
       "      <td>2023-11-03 00:00:00</td>\n",
       "      <td>2023-11-03 00:00:00</td>\n",
       "      <td>0</td>\n",
       "      <td>NO_SERVER</td>\n",
       "    </tr>\n",
       "    <tr>\n",
       "      <th>2</th>\n",
       "      <td>AA0101</td>\n",
       "      <td>AA0101 33118</td>\n",
       "      <td>27997683.0</td>\n",
       "      <td>2</td>\n",
       "      <td>PS</td>\n",
       "      <td>1</td>\n",
       "      <td>1999</td>\n",
       "      <td>2023-11-03 06:55:20</td>\n",
       "      <td>2023-11-03 06:55:26</td>\n",
       "      <td>6</td>\n",
       "      <td>2023-11-03 06:55:26</td>\n",
       "      <td>2023-11-03 06:55:43</td>\n",
       "      <td>0</td>\n",
       "      <td>AGENT</td>\n",
       "      <td>2023-11-03 06:55:43</td>\n",
       "      <td>2023-11-03 06:56:37</td>\n",
       "      <td>54</td>\n",
       "      <td>MICHAL</td>\n",
       "    </tr>\n",
       "    <tr>\n",
       "      <th>3</th>\n",
       "      <td>AA0101</td>\n",
       "      <td>AA0101 33119</td>\n",
       "      <td>0.0</td>\n",
       "      <td>0</td>\n",
       "      <td>PS</td>\n",
       "      <td>1</td>\n",
       "      <td>1999</td>\n",
       "      <td>2023-11-03 07:41:16</td>\n",
       "      <td>2023-11-03 07:41:26</td>\n",
       "      <td>10</td>\n",
       "      <td>2023-11-03 00:00:00</td>\n",
       "      <td>2023-11-03 00:00:00</td>\n",
       "      <td>0</td>\n",
       "      <td>AGENT</td>\n",
       "      <td>2023-11-03 07:41:25</td>\n",
       "      <td>2023-11-03 07:44:53</td>\n",
       "      <td>208</td>\n",
       "      <td>BASCH</td>\n",
       "    </tr>\n",
       "    <tr>\n",
       "      <th>4</th>\n",
       "      <td>AA0101</td>\n",
       "      <td>AA0101 33120</td>\n",
       "      <td>0.0</td>\n",
       "      <td>0</td>\n",
       "      <td>PS</td>\n",
       "      <td>1</td>\n",
       "      <td>1999</td>\n",
       "      <td>2023-11-03 08:03:14</td>\n",
       "      <td>2023-11-03 08:03:24</td>\n",
       "      <td>10</td>\n",
       "      <td>2023-11-03 00:00:00</td>\n",
       "      <td>2023-11-03 00:00:00</td>\n",
       "      <td>0</td>\n",
       "      <td>AGENT</td>\n",
       "      <td>2023-11-03 08:03:23</td>\n",
       "      <td>2023-11-03 08:05:10</td>\n",
       "      <td>107</td>\n",
       "      <td>MICHAL</td>\n",
       "    </tr>\n",
       "    <tr>\n",
       "      <th>...</th>\n",
       "      <td>...</td>\n",
       "      <td>...</td>\n",
       "      <td>...</td>\n",
       "      <td>...</td>\n",
       "      <td>...</td>\n",
       "      <td>...</td>\n",
       "      <td>...</td>\n",
       "      <td>...</td>\n",
       "      <td>...</td>\n",
       "      <td>...</td>\n",
       "      <td>...</td>\n",
       "      <td>...</td>\n",
       "      <td>...</td>\n",
       "      <td>...</td>\n",
       "      <td>...</td>\n",
       "      <td>...</td>\n",
       "      <td>...</td>\n",
       "      <td>...</td>\n",
       "    </tr>\n",
       "    <tr>\n",
       "      <th>444443</th>\n",
       "      <td>AA0216</td>\n",
       "      <td>AA0216 17211</td>\n",
       "      <td>0.0</td>\n",
       "      <td>0</td>\n",
       "      <td>IN</td>\n",
       "      <td>12</td>\n",
       "      <td>1999</td>\n",
       "      <td>2023-11-03 13:46:51</td>\n",
       "      <td>2023-11-03 13:47:04</td>\n",
       "      <td>13</td>\n",
       "      <td>2023-11-03 00:00:00</td>\n",
       "      <td>2023-11-03 00:00:00</td>\n",
       "      <td>0</td>\n",
       "      <td>AGENT</td>\n",
       "      <td>2023-11-03 13:47:03</td>\n",
       "      <td>2023-11-03 13:56:16</td>\n",
       "      <td>553</td>\n",
       "      <td>Z2ELINOR</td>\n",
       "    </tr>\n",
       "    <tr>\n",
       "      <th>444444</th>\n",
       "      <td>AA0216</td>\n",
       "      <td>AA0216 17212</td>\n",
       "      <td>0.0</td>\n",
       "      <td>0</td>\n",
       "      <td>IN</td>\n",
       "      <td>12</td>\n",
       "      <td>1999</td>\n",
       "      <td>2023-11-03 13:58:31</td>\n",
       "      <td>2023-11-03 13:58:40</td>\n",
       "      <td>9</td>\n",
       "      <td>2023-11-03 13:58:40</td>\n",
       "      <td>2023-11-03 13:59:49</td>\n",
       "      <td>69</td>\n",
       "      <td>HANG</td>\n",
       "      <td>2023-11-03 00:00:00</td>\n",
       "      <td>2023-11-03 00:00:00</td>\n",
       "      <td>0</td>\n",
       "      <td>NO_SERVER</td>\n",
       "    </tr>\n",
       "    <tr>\n",
       "      <th>444445</th>\n",
       "      <td>AA0216</td>\n",
       "      <td>AA0216 17213</td>\n",
       "      <td>0.0</td>\n",
       "      <td>0</td>\n",
       "      <td>IN</td>\n",
       "      <td>12</td>\n",
       "      <td>1999</td>\n",
       "      <td>2023-11-03 17:10:51</td>\n",
       "      <td>2023-11-03 17:11:12</td>\n",
       "      <td>21</td>\n",
       "      <td>2023-11-03 00:00:00</td>\n",
       "      <td>2023-11-03 00:00:00</td>\n",
       "      <td>0</td>\n",
       "      <td>HANG</td>\n",
       "      <td>2023-11-03 00:00:00</td>\n",
       "      <td>2023-11-03 00:00:00</td>\n",
       "      <td>0</td>\n",
       "      <td>NO_SERVER</td>\n",
       "    </tr>\n",
       "    <tr>\n",
       "      <th>444446</th>\n",
       "      <td>AA0216</td>\n",
       "      <td>AA0216 17214</td>\n",
       "      <td>0.0</td>\n",
       "      <td>0</td>\n",
       "      <td>IN</td>\n",
       "      <td>12</td>\n",
       "      <td>1999</td>\n",
       "      <td>2023-11-03 18:30:19</td>\n",
       "      <td>2023-11-03 18:30:54</td>\n",
       "      <td>35</td>\n",
       "      <td>2023-11-03 00:00:00</td>\n",
       "      <td>2023-11-03 00:00:00</td>\n",
       "      <td>0</td>\n",
       "      <td>HANG</td>\n",
       "      <td>2023-11-03 00:00:00</td>\n",
       "      <td>2023-11-03 00:00:00</td>\n",
       "      <td>0</td>\n",
       "      <td>NO_SERVER</td>\n",
       "    </tr>\n",
       "    <tr>\n",
       "      <th>444447</th>\n",
       "      <td>AA0216</td>\n",
       "      <td>AA0216 17215</td>\n",
       "      <td>0.0</td>\n",
       "      <td>0</td>\n",
       "      <td>IN</td>\n",
       "      <td>12</td>\n",
       "      <td>1999</td>\n",
       "      <td>2023-11-03 22:23:35</td>\n",
       "      <td>2023-11-03 22:23:45</td>\n",
       "      <td>10</td>\n",
       "      <td>2023-11-03 00:00:00</td>\n",
       "      <td>2023-11-03 00:00:00</td>\n",
       "      <td>0</td>\n",
       "      <td>HANG</td>\n",
       "      <td>2023-11-03 00:00:00</td>\n",
       "      <td>2023-11-03 00:00:00</td>\n",
       "      <td>0</td>\n",
       "      <td>NO_SERVER</td>\n",
       "    </tr>\n",
       "  </tbody>\n",
       "</table>\n",
       "<p>438436 rows × 18 columns</p>\n",
       "</div>"
      ],
      "text/plain": [
       "       vru.line       ID_call customer_id priority type  Month  Year  \\\n",
       "0        AA0101  AA0101 33116   9664491.0        2   PS      1  1999   \n",
       "1        AA0101  AA0101 33117         0.0        0   PS      1  1999   \n",
       "2        AA0101  AA0101 33118  27997683.0        2   PS      1  1999   \n",
       "3        AA0101  AA0101 33119         0.0        0   PS      1  1999   \n",
       "4        AA0101  AA0101 33120         0.0        0   PS      1  1999   \n",
       "...         ...           ...         ...      ...  ...    ...   ...   \n",
       "444443   AA0216  AA0216 17211         0.0        0   IN     12  1999   \n",
       "444444   AA0216  AA0216 17212         0.0        0   IN     12  1999   \n",
       "444445   AA0216  AA0216 17213         0.0        0   IN     12  1999   \n",
       "444446   AA0216  AA0216 17214         0.0        0   IN     12  1999   \n",
       "444447   AA0216  AA0216 17215         0.0        0   IN     12  1999   \n",
       "\n",
       "               VRU_entry_N          VRU_exit_N  VRU_time_N  \\\n",
       "0      2023-11-03 00:00:31 2023-11-03 00:00:36           5   \n",
       "1      2023-11-03 00:34:12 2023-11-03 00:34:23          11   \n",
       "2      2023-11-03 06:55:20 2023-11-03 06:55:26           6   \n",
       "3      2023-11-03 07:41:16 2023-11-03 07:41:26          10   \n",
       "4      2023-11-03 08:03:14 2023-11-03 08:03:24          10   \n",
       "...                    ...                 ...         ...   \n",
       "444443 2023-11-03 13:46:51 2023-11-03 13:47:04          13   \n",
       "444444 2023-11-03 13:58:31 2023-11-03 13:58:40           9   \n",
       "444445 2023-11-03 17:10:51 2023-11-03 17:11:12          21   \n",
       "444446 2023-11-03 18:30:19 2023-11-03 18:30:54          35   \n",
       "444447 2023-11-03 22:23:35 2023-11-03 22:23:45          10   \n",
       "\n",
       "                   q_start              q_exit  q_time_REAL outcome  \\\n",
       "0      2023-11-03 00:00:36 2023-11-03 00:03:09           63    HANG   \n",
       "1      2023-11-03 00:00:00 2023-11-03 00:00:00            0    HANG   \n",
       "2      2023-11-03 06:55:26 2023-11-03 06:55:43            0   AGENT   \n",
       "3      2023-11-03 00:00:00 2023-11-03 00:00:00            0   AGENT   \n",
       "4      2023-11-03 00:00:00 2023-11-03 00:00:00            0   AGENT   \n",
       "...                    ...                 ...          ...     ...   \n",
       "444443 2023-11-03 00:00:00 2023-11-03 00:00:00            0   AGENT   \n",
       "444444 2023-11-03 13:58:40 2023-11-03 13:59:49           69    HANG   \n",
       "444445 2023-11-03 00:00:00 2023-11-03 00:00:00            0    HANG   \n",
       "444446 2023-11-03 00:00:00 2023-11-03 00:00:00            0    HANG   \n",
       "444447 2023-11-03 00:00:00 2023-11-03 00:00:00            0    HANG   \n",
       "\n",
       "                 ser_start            ser_exit  ser_time     server  \n",
       "0      2023-11-03 00:00:00 2023-11-03 00:00:00         0  NO_SERVER  \n",
       "1      2023-11-03 00:00:00 2023-11-03 00:00:00         0  NO_SERVER  \n",
       "2      2023-11-03 06:55:43 2023-11-03 06:56:37        54     MICHAL  \n",
       "3      2023-11-03 07:41:25 2023-11-03 07:44:53       208      BASCH  \n",
       "4      2023-11-03 08:03:23 2023-11-03 08:05:10       107     MICHAL  \n",
       "...                    ...                 ...       ...        ...  \n",
       "444443 2023-11-03 13:47:03 2023-11-03 13:56:16       553   Z2ELINOR  \n",
       "444444 2023-11-03 00:00:00 2023-11-03 00:00:00         0  NO_SERVER  \n",
       "444445 2023-11-03 00:00:00 2023-11-03 00:00:00         0  NO_SERVER  \n",
       "444446 2023-11-03 00:00:00 2023-11-03 00:00:00         0  NO_SERVER  \n",
       "444447 2023-11-03 00:00:00 2023-11-03 00:00:00         0  NO_SERVER  \n",
       "\n",
       "[438436 rows x 18 columns]"
      ]
     },
     "execution_count": 121,
     "metadata": {},
     "output_type": "execute_result"
    }
   ],
   "source": [
    "df_center"
   ]
  },
  {
   "cell_type": "code",
   "execution_count": 122,
   "metadata": {},
   "outputs": [
    {
     "data": {
      "text/plain": [
       "438436"
      ]
     },
     "execution_count": 122,
     "metadata": {},
     "output_type": "execute_result"
    }
   ],
   "source": [
    "df_center['ID_call'].count()"
   ]
  },
  {
   "cell_type": "code",
   "execution_count": 123,
   "metadata": {},
   "outputs": [
    {
     "data": {
      "text/plain": [
       "(438436, 18)"
      ]
     },
     "execution_count": 123,
     "metadata": {},
     "output_type": "execute_result"
    }
   ],
   "source": [
    "df_center.shape"
   ]
  }
 ],
 "metadata": {
  "kernelspec": {
   "display_name": "Python 3",
   "language": "python",
   "name": "python3"
  },
  "language_info": {
   "codemirror_mode": {
    "name": "ipython",
    "version": 3
   },
   "file_extension": ".py",
   "mimetype": "text/x-python",
   "name": "python",
   "nbconvert_exporter": "python",
   "pygments_lexer": "ipython3",
   "version": "3.11.6"
  }
 },
 "nbformat": 4,
 "nbformat_minor": 2
}
